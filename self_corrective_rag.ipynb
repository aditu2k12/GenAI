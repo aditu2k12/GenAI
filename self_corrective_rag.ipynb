{
  "cells": [
    {
      "cell_type": "code",
      "execution_count": null,
      "id": "72ae94b5",
      "metadata": {
        "colab": {
          "base_uri": "https://localhost:8080/"
        },
        "id": "72ae94b5",
        "outputId": "15c074f4-8afd-49f6-af23-cd513cc96cd5"
      },
      "outputs": [],
      "source": [
        "!pip install langgraph langchain-community langchain-groq chromadb"
      ]
    },
    {
      "cell_type": "code",
      "execution_count": null,
      "id": "gl-ak2uTZ234",
      "metadata": {
        "id": "gl-ak2uTZ234"
      },
      "outputs": [],
      "source": [
        "from typing import TypedDict, List, Annotated, Union\n",
        "from langgraph.graph import StateGraph, START, END, add_messages\n",
        "from langchain_core.messages import AIMessage, HumanMessage\n",
        "from langchain_core.prompts import ChatPromptTemplate\n",
        "from langchain_core.output_parsers import StrOutputParser\n",
        "from pydantic import BaseModel, Field\n",
        "from langchain.schema import Document\n",
        "from langchain.embeddings import HuggingFaceEmbeddings\n",
        "from langchain_community.vectorstores import Chroma\n",
        "from langchain.agents import tool, create_react_agent\n",
        "from langchain_community.tools import TavilySearchResults\n",
        "from langgraph.prebuilt import ToolNode\n",
        "from langgraph.checkpoint.memory import MemorySaver\n",
        "\n",
        "from langchain_groq import ChatGroq\n",
        "\n",
        "from IPython.display import Image, display"
      ]
    },
    {
      "cell_type": "code",
      "execution_count": null,
      "id": "0739d440",
      "metadata": {
        "colab": {
          "base_uri": "https://localhost:8080/"
        },
        "id": "0739d440",
        "outputId": "9c7f714a-43ab-4b76-d5bd-8585699e48ec"
      },
      "outputs": [
        {
          "data": {
            "text/plain": [
              "ChatGroq(client=<groq.resources.chat.completions.Completions object at 0x7d24ac59aad0>, async_client=<groq.resources.chat.completions.AsyncCompletions object at 0x7d24ac8d0050>, model_name='llama-3.3-70b-versatile', temperature=1e-08, model_kwargs={}, groq_api_key=SecretStr('**********'))"
            ]
          },
          "execution_count": 33,
          "metadata": {},
          "output_type": "execute_result"
        }
      ],
      "source": [
        "groq_api_key ='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'\n",
        "\n",
        "#Gemma2-9b-It\n",
        "groq_llm = ChatGroq(model='llama-3.3-70b-versatile', groq_api_key=groq_api_key , temperature = 0.0)\n",
        "\n",
        "groq_llm\n"
      ]
    },
    {
      "cell_type": "code",
      "execution_count": null,
      "id": "43f8cb3e",
      "metadata": {
        "id": "43f8cb3e"
      },
      "outputs": [],
      "source": [
        "docs = [\n",
        "    Document(\n",
        "        page_content=\"Bella Vista is owned by Antonio Rossi, a renowned chef with over 20 years of experience in the culinary industry. He started Bella Vista to bring authentic Italian flavors to the community.\",\n",
        "        metadata={\"source\": \"restaurant_info.txt\"},\n",
        "    ),\n",
        "    Document(\n",
        "        page_content=\"Bella Vista offers a range of dishes with prices that cater to various budgets. Appetizers start at $8, main courses range from $15 to $35, and desserts are priced between $6 and $12.\",\n",
        "        metadata={\"source\": \"restaurant_info.txt\"},\n",
        "    ),\n",
        "    Document(\n",
        "        page_content=\"Bella Vista is open from Monday to Sunday. Weekday hours are 11:00 AM to 10:00 PM, while weekend hours are extended from 11:00 AM to 11:00 PM.\",\n",
        "        metadata={\"source\": \"restaurant_info.txt\"},\n",
        "    ),\n",
        "    Document(\n",
        "        page_content=\"Bella Vista offers a variety of menus including a lunch menu, dinner menu, and a special weekend brunch menu. The lunch menu features light Italian fare, the dinner menu offers a more extensive selection of traditional and contemporary dishes, and the brunch menu includes both classic breakfast items and Italian specialties.\",\n",
        "        metadata={\"source\": \"restaurant_info.txt\"},\n",
        "    ),\n",
        "]"
      ]
    },
    {
      "cell_type": "code",
      "execution_count": null,
      "id": "e497000a",
      "metadata": {
        "id": "e497000a"
      },
      "outputs": [],
      "source": [
        "embeddings = HuggingFaceEmbeddings(model_name='sentence-transformers/all-MiniLM-L6-v2')"
      ]
    },
    {
      "cell_type": "code",
      "execution_count": null,
      "id": "8959aae5",
      "metadata": {
        "colab": {
          "base_uri": "https://localhost:8080/"
        },
        "id": "8959aae5",
        "outputId": "c990f4a2-4045-4a0a-b92f-cc8e66c29ef7"
      },
      "outputs": [
        {
          "data": {
            "text/plain": [
              "HuggingFaceEmbeddings(client=SentenceTransformer(\n",
              "  (0): Transformer({'max_seq_length': 256, 'do_lower_case': False}) with Transformer model: BertModel \n",
              "  (1): Pooling({'word_embedding_dimension': 384, 'pooling_mode_cls_token': False, 'pooling_mode_mean_tokens': True, 'pooling_mode_max_tokens': False, 'pooling_mode_mean_sqrt_len_tokens': False, 'pooling_mode_weightedmean_tokens': False, 'pooling_mode_lasttoken': False, 'include_prompt': True})\n",
              "  (2): Normalize()\n",
              "), model_name='sentence-transformers/all-MiniLM-L6-v2', cache_folder=None, model_kwargs={}, encode_kwargs={}, multi_process=False, show_progress=False)"
            ]
          },
          "execution_count": 49,
          "metadata": {},
          "output_type": "execute_result"
        }
      ],
      "source": [
        "embeddings"
      ]
    },
    {
      "cell_type": "code",
      "execution_count": null,
      "id": "36bec764",
      "metadata": {
        "id": "36bec764"
      },
      "outputs": [],
      "source": [
        "db = Chroma.from_documents(docs, embeddings)\n",
        "retriever = db.as_retriever()"
      ]
    },
    {
      "cell_type": "code",
      "execution_count": null,
      "id": "9bccfc3f",
      "metadata": {
        "id": "9bccfc3f"
      },
      "outputs": [],
      "source": [
        "class RAG(TypedDict):\n",
        "    question : str\n",
        "    on_topic_question : bool\n",
        "    relevant_docs : list[str]\n",
        "    llm_output : str\n",
        "    relevant_docs_grade : list[str]\n"
      ]
    },
    {
      "cell_type": "code",
      "execution_count": null,
      "id": "ef298af2",
      "metadata": {
        "id": "ef298af2"
      },
      "outputs": [],
      "source": [
        "class GradeQuestion(BaseModel):\n",
        "    \"Boolean value to check the question is relevant to restaurant Bella Vista\"\n",
        "\n",
        "    score: str = Field(description=\"Question is about resturant? if yes return 'yes' else 'no'\")"
      ]
    },
    {
      "cell_type": "code",
      "execution_count": null,
      "id": "adc01751",
      "metadata": {
        "id": "adc01751"
      },
      "outputs": [],
      "source": [
        "def topic_decision(state:RAG):\n",
        "    question = state['question']\n",
        "\n",
        "    topic_decision_system = \"\"\"You are a grader assessing the relevance of a retrieved document to a user question. \\n\n",
        "        Only answer if the question is about one of the following topics:\n",
        "        1. Information about the owner of Bella Vista (Antonio Rossi).\n",
        "        2. Prices of dishes at Bella Vista.\n",
        "        3. Opening hours of Bella Vista.\n",
        "        4. Available menus at Bella Vista.\n",
        "\n",
        "        If the question IS about these topics response with \"Yes\", otherwise respond with \"No\".\n",
        "\"\"\"\n",
        "\n",
        "    topic_decision_prompt = ChatPromptTemplate.from_messages(\n",
        "        [\n",
        "            ('system', topic_decision_system),\n",
        "            ('human',\"{question}\")\n",
        "        ]\n",
        "    )\n",
        "\n",
        "    structured_llm = groq_llm.with_structured_output(GradeQuestion)\n",
        "    grade_ques_llm = topic_decision_prompt | structured_llm\n",
        "    grade_ques_response = grade_ques_llm.invoke({'question': question})\n",
        "    state['on_topic_question'] = grade_ques_response.score\n",
        "    return state"
      ]
    },
    {
      "cell_type": "code",
      "execution_count": null,
      "id": "00c16612",
      "metadata": {
        "id": "00c16612"
      },
      "outputs": [],
      "source": [
        "def on_topic_question(state:RAG):\n",
        "    if state['on_topic_question'].lower() == 'yes':\n",
        "        return \"retrieve_relevant_docs\"\n",
        "    return \"off_topic_question_response\""
      ]
    },
    {
      "cell_type": "code",
      "execution_count": null,
      "id": "b1508d66",
      "metadata": {
        "id": "b1508d66"
      },
      "outputs": [],
      "source": [
        "def retrieve_relevant_docs(state:RAG):\n",
        "    question = state['question']\n",
        "    relevant_docs = retriever.invoke(input=question)\n",
        "    state['relevant_docs'] = [relevant_doc.page_content for relevant_doc in relevant_docs]\n",
        "    return state"
      ]
    },
    {
      "cell_type": "code",
      "execution_count": null,
      "id": "0e2dfdc5",
      "metadata": {
        "id": "0e2dfdc5"
      },
      "outputs": [],
      "source": [
        "def off_topic_question_response(state:RAG):\n",
        "    state['llm_output'] = \"Sorry! I can't respond to that!\"\n",
        "    return state"
      ]
    },
    {
      "cell_type": "code",
      "execution_count": null,
      "id": "847ced65",
      "metadata": {
        "id": "847ced65"
      },
      "outputs": [],
      "source": [
        "class GradeDocument(BaseModel):\n",
        "    \"\"\"Boolean values to check for relevance on retrieved documents.\"\"\"\n",
        "\n",
        "    score: str = Field(description=\"Documents are relevant to the question, 'Yes' or 'No'\")\n"
      ]
    },
    {
      "cell_type": "code",
      "execution_count": null,
      "id": "0aac243e",
      "metadata": {
        "id": "0aac243e"
      },
      "outputs": [],
      "source": [
        "def doc_grader(state:RAG):\n",
        "    question = state['question']\n",
        "    relevant_docs = state['relevant_docs']\n",
        "\n",
        "    doc_grader_system = \"\"\"You are a grader assessing relevance of a retrieved document to a user question. \\n\n",
        "        If the document contains keyword(s) or semantic meaning related to the question, grade it as relevant. \\n\n",
        "        Give a binary score 'Yes' or 'No' score to indicate whether the document is relevant to the question.\"\"\"\n",
        "\n",
        "    doc_grade_prompt = ChatPromptTemplate.from_messages(\n",
        "        [\n",
        "            (\"system\", doc_grader_system),\n",
        "            (\n",
        "                \"human\",\"Retrieved document: \\n\\n {document} \\n\\n User question: {question}\",\n",
        "            ),\n",
        "        ]\n",
        "    )\n",
        "\n",
        "    structured_llm = groq_llm.with_structured_output(GradeDocument)\n",
        "    doc_grader_llm = doc_grade_prompt | structured_llm\n",
        "    scores = []\n",
        "    for doc in relevant_docs:\n",
        "        result = doc_grader_llm.invoke({\"document\": doc, \"question\": question})\n",
        "        scores.append(result.score)\n",
        "    state[\"relevant_docs_grade\"] = scores\n",
        "\n",
        "    return state\n"
      ]
    },
    {
      "cell_type": "code",
      "execution_count": null,
      "id": "25c2a7b9",
      "metadata": {
        "id": "25c2a7b9"
      },
      "outputs": [],
      "source": [
        "def generate_answer_router(state:RAG):\n",
        "  relevant_docs_grade = state['relevant_docs_grade']\n",
        "  if any((grade.lower()=='yes' for grade in relevant_docs_grade)):\n",
        "    return \"generate_answer\"\n",
        "  return \"rewrite_query\"\n"
      ]
    },
    {
      "cell_type": "code",
      "execution_count": null,
      "id": "kUyzBDvRbE1e",
      "metadata": {
        "id": "kUyzBDvRbE1e"
      },
      "outputs": [],
      "source": [
        "def generate_answer(state:RAG):\n",
        "    question = state['question']\n",
        "    relevant_docs = state['relevant_docs']\n",
        "\n",
        "    gen_answer_template = \"\"\"Answer the question {question} using only this context {relevant_docs}\"\"\"\n",
        "\n",
        "    gen_answer_prompt = ChatPromptTemplate.from_template(gen_answer_template)\n",
        "    gen_answer_llm = gen_answer_prompt | groq_llm | StrOutputParser()\n",
        "\n",
        "    llm_output = gen_answer_llm.invoke({'question':question, 'relevant_docs':relevant_docs})\n",
        "    state['llm_output'] = llm_output\n",
        "    return state"
      ]
    },
    {
      "cell_type": "code",
      "execution_count": null,
      "id": "6AMuvGO7bE4L",
      "metadata": {
        "id": "6AMuvGO7bE4L"
      },
      "outputs": [],
      "source": [
        "def rewrite_query(state:RAG):\n",
        "    question = state['question']\n",
        "\n",
        "    rewrite_ques_template = \"\"\"You a question re-writer that converts an input question {question} to a better version that is optimized \\n\n",
        "        for retrieval. Look at the input and try to reason about the underlying semantic intent / meaning\"\"\"\n",
        "\n",
        "    rewrite_ques_prompt = ChatPromptTemplate.from_template(rewrite_ques_template)\n",
        "    rewrite_ques_llm = rewrite_ques_prompt | groq_llm | StrOutputParser()\n",
        "\n",
        "    llm_output = rewrite_ques_llm.invoke({'question':question})\n",
        "    state['llm_output'] = llm_output\n",
        "    return state"
      ]
    },
    {
      "cell_type": "code",
      "execution_count": null,
      "id": "KF5IR4F1bE66",
      "metadata": {
        "id": "KF5IR4F1bE66"
      },
      "outputs": [],
      "source": [
        "graph = StateGraph(RAG)\n",
        "\n",
        "graph.add_node('topic_decision', topic_decision)\n",
        "graph.add_node('retrieve_relevant_docs', retrieve_relevant_docs)\n",
        "graph.add_node('doc_grader', doc_grader)\n",
        "graph.add_node('generate_answer', generate_answer)\n",
        "graph.add_node('rewrite_query', rewrite_query)\n",
        "graph.add_node('off_topic_question_response', off_topic_question_response)\n",
        "\n",
        "graph.add_edge('retrieve_relevant_docs', 'doc_grader')\n",
        "graph.add_edge('rewrite_query', 'retrieve_relevant_docs')\n",
        "\n",
        "\n",
        "graph.add_conditional_edges('topic_decision', on_topic_question, {\n",
        "    \"retrieve_relevant_docs\": \"retrieve_relevant_docs\",\n",
        "    \"off_topic_question_response\": \"off_topic_question_response\"\n",
        "})\n",
        "\n",
        "graph.add_conditional_edges('doc_grader', generate_answer_router, {\n",
        "    \"generate_answer\": \"generate_answer\",\n",
        "    \"rewrite_query\": \"rewrite_query\"\n",
        "})\n",
        "\n",
        "graph.add_edge('generate_answer', END)\n",
        "graph.add_edge('off_topic_question_response', END)\n",
        "\n",
        "graph.set_entry_point('topic_decision')\n",
        "\n",
        "workflow = graph.compile()"
      ]
    },
    {
      "cell_type": "code",
      "execution_count": null,
      "id": "_qzlwniXbE93",
      "metadata": {
        "colab": {
          "base_uri": "https://localhost:8080/",
          "height": 548
        },
        "id": "_qzlwniXbE93",
        "outputId": "66774c06-4f8a-47c3-b5ae-f5c20c31821b"
      },
      "outputs": [
        {
          "data": {
            "image/png": "[encoded data removed]",
            "text/plain": [
              "<IPython.core.display.Image object>"
            ]
          },
          "metadata": {},
          "output_type": "display_data"
        }
      ],
      "source": [
        "display(Image(workflow.get_graph(xray=True).draw_mermaid_png()))"
      ]
    },
    {
      "cell_type": "code",
      "execution_count": null,
      "id": "4FshUYrRbFAd",
      "metadata": {
        "id": "4FshUYrRbFAd"
      },
      "outputs": [],
      "source": []
    },
    {
      "cell_type": "code",
      "execution_count": null,
      "id": "VACKhCt-bFDP",
      "metadata": {
        "colab": {
          "base_uri": "https://localhost:8080/",
          "height": 35
        },
        "id": "VACKhCt-bFDP",
        "outputId": "fec6116b-0eb8-4594-95ea-a2a2fb149d00"
      },
      "outputs": [
        {
          "data": {
            "application/vnd.google.colaboratory.intrinsic+json": {
              "type": "string"
            },
            "text/plain": [
              "'The owner of Bella Vista is Antonio Rossi, a renowned chef with over 20 years of experience in the culinary industry.'"
            ]
          },
          "execution_count": 70,
          "metadata": {},
          "output_type": "execute_result"
        }
      ],
      "source": [
        "result = workflow.invoke({\"question\": \"who is the owner of the Bella vista?\"})\n",
        "result[\"llm_output\"]"
      ]
    },
    {
      "cell_type": "code",
      "execution_count": null,
      "id": "gnwSXhLKbFGD",
      "metadata": {
        "colab": {
          "base_uri": "https://localhost:8080/",
          "height": 35
        },
        "id": "gnwSXhLKbFGD",
        "outputId": "68af6a5f-ad9f-4fd5-e06f-2a86bc7a2065"
      },
      "outputs": [
        {
          "data": {
            "application/vnd.google.colaboratory.intrinsic+json": {
              "type": "string"
            },
            "text/plain": [
              "\"Sorry! I can't respond to that!\""
            ]
          },
          "execution_count": 71,
          "metadata": {},
          "output_type": "execute_result"
        }
      ],
      "source": [
        "result = workflow.invoke({\"question\": \"How is the weather?\"})\n",
        "result[\"llm_output\"]"
      ]
    },
    {
      "cell_type": "code",
      "execution_count": null,
      "id": "STprNTPrbFJd",
      "metadata": {
        "id": "STprNTPrbFJd"
      },
      "outputs": [],
      "source": []
    },
    {
      "cell_type": "code",
      "execution_count": null,
      "id": "51bece0a",
      "metadata": {
        "id": "51bece0a"
      },
      "outputs": [],
      "source": []
    },
    {
      "cell_type": "code",
      "execution_count": null,
      "id": "aaf58ae7",
      "metadata": {
        "id": "aaf58ae7"
      },
      "outputs": [],
      "source": []
    }
  ],
  "metadata": {
    "colab": {
      "provenance": []
    },
    "kernelspec": {
      "display_name": "genai",
      "language": "python",
      "name": "python3"
    },
    "language_info": {
      "codemirror_mode": {
        "name": "ipython",
        "version": 3
      },
      "file_extension": ".py",
      "mimetype": "text/x-python",
      "name": "python",
      "nbconvert_exporter": "python",
      "pygments_lexer": "ipython3",
      "version": "3.10.11"
    }
  },
  "nbformat": 4,
  "nbformat_minor": 5
}
