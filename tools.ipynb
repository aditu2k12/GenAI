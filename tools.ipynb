{
 "cells": [
  {
   "cell_type": "code",
   "execution_count": null,
   "id": "46f71d31",
   "metadata": {},
   "outputs": [],
   "source": [
    "import fitz\n",
    "from typing import TypedDict, List, Annotated, Union\n",
    "from langgraph.graph import StateGraph, START, END, add_messages\n",
    "from langchain_core.messages import AIMessage, HumanMessage, ToolMessage\n",
    "from pydantic import BaseModel, Field\n",
    "from langchain_core.output_parsers import StrOutputParser\n",
    "from langchain.agents import tool, create_react_agent\n",
    "from langchain_community.tools import TavilySearchResults\n",
    "from langchain_core.prompts import ChatPromptTemplate\n",
    "from langchain.embeddings import HuggingFaceEmbeddings\n",
    "from langgraph.prebuilt import ToolNode\n",
    "from langchain_community.vectorstores import Chroma\n",
    "from langgraph.checkpoint.memory import MemorySaver\n",
    "\n",
    "from langchain_groq import ChatGroq\n",
    "\n",
    "from IPython.display import Image, display\n",
    "from langchain_text_splitters import RecursiveCharacterTextSplitter"
   ]
  },
  {
   "cell_type": "markdown",
   "id": "3135c6bd",
   "metadata": {},
   "source": [
    "#### "
   ]
  },
  {
   "cell_type": "markdown",
   "id": "d4c06cd1",
   "metadata": {},
   "source": [
    "#### State "
   ]
  },
  {
   "cell_type": "code",
   "execution_count": 35,
   "id": "6925ad5e",
   "metadata": {},
   "outputs": [],
   "source": [
    "class Chatbot(TypedDict):\n",
    "    # Messages have the type \"list\". The `add_messages` function\n",
    "    # in the annotation defines how this state key should be updated\n",
    "    # (in this case, it appends messages to the list, rather than overwriting them)\n",
    "    # See the below flow\n",
    "    messages: Annotated[list, add_messages]\n",
    "    question_category : str\n",
    "    llm_response : str\n",
    "    documents: List[str]\n",
    "    web_search_results: List[dict]"
   ]
  },
  {
   "cell_type": "markdown",
   "id": "1c91492d",
   "metadata": {},
   "source": [
    "#### Initial state\n",
    "state = {\n",
    "    'messages': [\n",
    "        HumanMessage(content=\"Add 7 and 3...\")  \n",
    "    ]\n",
    "}\n",
    "\n",
    "#### After first LLM response\n",
    "state = {\n",
    "    'messages': [\n",
    "        HumanMessage(...),\n",
    "        AIMessage(content=\"\", tool_calls=[...]) \n",
    "    ]\n",
    "}\n",
    "\n",
    "#### After tool execution\n",
    "state = {\n",
    "    'messages': [\n",
    "        HumanMessage(...),\n",
    "        AIMessage(...),\n",
    "        ToolMessage(...)  \n",
    "    ]\n",
    "}"
   ]
  },
  {
   "cell_type": "markdown",
   "id": "258e8926",
   "metadata": {},
   "source": [
    "#### Document Chunking"
   ]
  },
  {
   "cell_type": "code",
   "execution_count": 3,
   "id": "6727a7ea",
   "metadata": {},
   "outputs": [],
   "source": [
    "pdf_path = 'time-to-place-our-bets-europes-ai-opportunity.pdf'\n",
    "doc = fitz.open(pdf_path)\n",
    "texts = ''\n",
    "for page in doc:\n",
    "    texts = texts + page.get_text() + '\\n'"
   ]
  },
  {
   "cell_type": "code",
   "execution_count": 4,
   "id": "1308af58",
   "metadata": {},
   "outputs": [
    {
     "data": {
      "text/plain": [
       "69"
      ]
     },
     "execution_count": 4,
     "metadata": {},
     "output_type": "execute_result"
    }
   ],
   "source": [
    "text_splitter  = RecursiveCharacterTextSplitter(chunk_size = 800, chunk_overlap = 50)\n",
    "\n",
    "chunks = text_splitter.create_documents([texts])\n",
    "\n",
    "len(chunks)"
   ]
  },
  {
   "cell_type": "markdown",
   "id": "04183eab",
   "metadata": {},
   "source": [
    "#### Embeddings"
   ]
  },
  {
   "cell_type": "code",
   "execution_count": 5,
   "id": "77378b19",
   "metadata": {},
   "outputs": [
    {
     "name": "stderr",
     "output_type": "stream",
     "text": [
      "C:\\Users\\USER\\AppData\\Local\\Temp\\ipykernel_3608\\3701169180.py:1: LangChainDeprecationWarning: The class `HuggingFaceEmbeddings` was deprecated in LangChain 0.2.2 and will be removed in 1.0. An updated version of the class exists in the :class:`~langchain-huggingface package and should be used instead. To use it run `pip install -U :class:`~langchain-huggingface` and import as `from :class:`~langchain_huggingface import HuggingFaceEmbeddings``.\n",
      "  embeddings = HuggingFaceEmbeddings(model_name='sentence-transformers/all-MiniLM-L6-v2')\n",
      "c:\\Users\\adi\\OneDrive\\Work\\genai\\lib\\site-packages\\tqdm\\auto.py:21: TqdmWarning: IProgress not found. Please update jupyter and ipywidgets. See https://ipywidgets.readthedocs.io/en/stable/user_install.html\n",
      "  from .autonotebook import tqdm as notebook_tqdm\n"
     ]
    }
   ],
   "source": [
    "embeddings = HuggingFaceEmbeddings(model_name='sentence-transformers/all-MiniLM-L6-v2')"
   ]
  },
  {
   "cell_type": "code",
   "execution_count": 6,
   "id": "339a443b",
   "metadata": {},
   "outputs": [],
   "source": [
    "db = Chroma.from_documents(documents = chunks, embedding = embeddings, collection_name='chunk_embedding')\n",
    "retriever = db.as_retriever()"
   ]
  },
  {
   "cell_type": "code",
   "execution_count": 7,
   "id": "6a2afc1e",
   "metadata": {},
   "outputs": [
    {
     "data": {
      "text/plain": [
       "[Document(metadata={}, page_content='understand the obligations introduced by the EU \\nAI Act, and 70 percent find them to be complex. \\nThat confusion has consequences. Meta, for \\nexample, recently stopped the rollout of its \\nmultimodal model in the EU, reportedly because \\nof a lack of readability and predictability of the \\nregulatory environment.59 This situation could \\nchallenge the competitiveness of European \\ncompanies by reducing their ability to access the \\nworld’s most high-performing AI models.\\nCreation of gen AI in Europe\\nRegarding creating gen AI, winning in every \\nsegment isn’t a realistic strategy for Europe. \\nA differentiated approach, based on current \\nstrengths, is crucial for the region to stay relevant. \\nPotential steps include the following:\\n\\t\\n— Increase investment. In 2023, US private'),\n",
       " Document(metadata={}, page_content='gen AI technologies extend well beyond LLMs. \\n3\\nTime to place our bets: Europe’s AI opportunity'),\n",
       " Document(metadata={}, page_content='energy, with 61 percent of low-carbon sources in \\nits electricity mix, compared with 40 percent in the \\nUnited States and 34 percent in China.47\\nHow to boost Europe’s \\ncompetitiveness in gen AI\\nEurope clearly faces a host of challenges with gen \\nAI, but they aren’t insurmountable. Policy makers \\nand business leaders in Europe can consider \\nseveral activities to increase the region’s ability to \\nfully realize the potential economic gains of AI when \\nit comes to adoption, creation, and energy.\\n11\\nTime to place our bets: Europe’s AI opportunity'),\n",
       " Document(metadata={}, page_content='moved their headquarters from Europe to the \\nUnited States.\\n\\t\\n— AI services. Europe holds about a 15 percent \\nshare of the global AI services market, \\npositioning it just behind the United States, \\nwhich leads with approximately 40 percent.39 \\nThis significant market presence provides \\nEurope with a foundation for expanding \\nAI-related services.\\nThe near absence of European companies in \\nfour of the eight segments of the simplified value \\nchain could result in missed opportunities for \\nthe region’s economy. The global market of gen \\nAI technologies is expected to boom, with high \\ndouble-digit annual growth anticipated over the \\nnext ten years.40 This situation could be a challenge \\nto the region’s strategic autonomy, ultimately \\njeopardizing gen AI adoption and productivity gains.')]"
      ]
     },
     "execution_count": 7,
     "metadata": {},
     "output_type": "execute_result"
    }
   ],
   "source": [
    "retriever.invoke(\"What is Europe's Gen AI strategy?\")"
   ]
  },
  {
   "cell_type": "markdown",
   "id": "87bd9bbb",
   "metadata": {},
   "source": [
    "#### Define Tools"
   ]
  },
  {
   "cell_type": "code",
   "execution_count": 8,
   "id": "dc127bf7",
   "metadata": {},
   "outputs": [
    {
     "data": {
      "text/plain": [
       "[{'title': 'Applications of artificial intelligence (AI) - Google Cloud',\n",
       "  'url': 'https://cloud.google.com/discover/ai-applications',\n",
       "  'content': 'Artificial intelligence (AI) applications are software programs that use [AI techniques](https://cloud.google.com/learn/what-is-artificial-intelligence) to perform specific tasks. These tasks can range from simple, repetitive tasks to complex, cognitive tasks that require human-like intelligence. [...] *   **Disease diagnosis**: AI can be used to analyze patient data and identify patterns that may indicate a disease. This can help doctors diagnose diseases earlier and more accurately.\\n*   **Treatment development**: By analyzing large datasets of patient data, AI can identify new patterns and relationships that can be used to develop new drugs and therapies.',\n",
       "  'score': 0.75181264},\n",
       " {'title': 'Applications of artificial intelligence - Wikipedia',\n",
       "  'url': 'https://en.wikipedia.org/wiki/Applications_of_artificial_intelligence',\n",
       "  'content': 'Artificial Intelligence (AI) is all about creating computer systems that act like people. This means they can understand information and human language and make decisions similar to how we do.\\xa0 Artificial intelligence technologies are now being used across various industries, transforming how they function and creating new opportunities. This article provides an overview of the applications of AI in fields like health care, finance, and education, while also discussing the challenges and future [...] [Artificial intelligence](/wiki/Artificial_intelligence \"Artificial intelligence\") (AI) has been used in applications throughout industry and academia. In a manner analogous to electricity or computers, AI serves as a [general-purpose technology](/wiki/General-purpose_technology \"General-purpose technology\"). AI programs are designed to simulate human perception and understanding. These systems are capable of adapting to new information and responding to changing situations. [Machine [...] ## Services\\n\\n### Human resources\\n\\nAnother application of AI is in human resources. AI can screen resumes and rank candidates based on their qualifications, predict candidate success in given roles, and automate repetitive communication tasks via chatbots.[*[citation needed](/wiki/Wikipedia:Citation_needed \"Wikipedia:Citation needed\")*]\\n\\n### Job search',\n",
       "  'score': 0.73891455},\n",
       " {'title': 'Everyday examples and applications of artificial intelligence (AI)',\n",
       "  'url': 'https://www.tableau.com/data-insights/ai/examples',\n",
       "  'content': 'Another common application of AI is search engines. Search engine algorithms utilize AI to refine and show better results without the intervention of programmers. You can see this in action on Google if you search a question. You’ll see a section called “People also ask” and if you open one of those questions, it will spawn two more related questions below. [...] So what are some common uses and applications of AI? You may be surprised to learn that it can be anything from advanced robotics to the voice search function on your smartphone. We’ll dive into more specific examples below.\\n\\nIn this article, we’ll cover: [...] You’ve probably heard of self-driving cars, whether in a sci-fi show or in the news from recent attempts by various companies. But there are more ways that AI is utilized in transportation. Most major map software uses some kind of AI to interpret real-time traffic data and provide routes and ETAs. Additionally, many aircraft use an AI-powered autopilot that takes in weather conditions and flight data to set the course.',\n",
       "  'score': 0.73505294},\n",
       " {'title': 'Top 24 Applications of AI: Transforming Industries Today',\n",
       "  'url': 'https://www.simplilearn.com/tutorials/artificial-intelligence-tutorial/artificial-intelligence-applications',\n",
       "  'content': 'FAQs\\n----\\n\\n### 1. What are some common AI applications?\\n\\nSome typical AI applications include:\\n\\n*   Virtual assistants like Siri and Alexa\\n*   Recommendation systems used in e-commerce platforms\\n*   Fraud detection in financial institutions\\n*   Autonomous vehicles\\n*   NLP for chatbots and customer service\\n*   Image and facial recognition in security systems\\n*   Medical diagnosis and healthcare systems\\n\\n### 2. What are some examples of AI applications in everyday life? [...] AI applications span across industries, revolutionizing how we live, work, and interact with technology. From e-commerce and healthcare to entertainment and finance, AI drives innovation and efficiency, making our lives more convenient and our industries more productive. Understanding these [cutting-edge applications](https://www.simplilearn.com/tutorials/big-data-tutorial/big-data-applications \"cutting-edge applications\") highlights AI\\'s transformative power and underscores the growing demand [...] The function and popularity of Artificial Intelligence are soaring by the day. [Artificial Intelligence](https://www.simplilearn.com/tutorials/artificial-intelligence-tutorial/what-is-artificial-intelligence \"Artificial intelligence is\") is the ability of a system or a program to think and learn from experience. AI applications have significantly evolved over the past few years and have found their applications in almost every business sector. This article will help you learn about the top',\n",
       "  'score': 0.71687365},\n",
       " {'title': 'What is artificial intelligence and how is it used? | Topics',\n",
       "  'url': 'https://www.europarl.europa.eu/topics/en/article/20200827STO85804/what-is-artificial-intelligence-and-how-is-it-used',\n",
       "  'content': 'Below are some AI applications that you may not realise are AI-powered:\\n\\n### Online shopping and advertising\\n\\nArtificial intelligence is widely used to provide personalised recommendations to people, based for example on their previous searches and purchases or other online behaviour. AI is hugely important in commerce: optimising products, planning inventory, logistics etc.\\n\\n### Web search',\n",
       "  'score': 0.6493346}]"
      ]
     },
     "execution_count": 8,
     "metadata": {},
     "output_type": "execute_result"
    }
   ],
   "source": [
    "tavily_search_tool = TavilySearchResults(tavily_api_key='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', max_results=5)\n",
    "\n",
    "tavily_search_tool.invoke('tell me about AI and its applications')"
   ]
  },
  {
   "cell_type": "code",
   "execution_count": 9,
   "id": "14e4e572",
   "metadata": {},
   "outputs": [
    {
     "data": {
      "text/plain": [
       "[TavilySearchResults(api_wrapper=TavilySearchAPIWrapper(tavily_api_key=SecretStr('**********')))]"
      ]
     },
     "execution_count": 9,
     "metadata": {},
     "output_type": "execute_result"
    }
   ],
   "source": [
    "tools = [tavily_search_tool]\n",
    "\n",
    "tools"
   ]
  },
  {
   "cell_type": "markdown",
   "id": "91870394",
   "metadata": {},
   "source": [
    "#### Define LLM and bind it with tools"
   ]
  },
  {
   "cell_type": "code",
   "execution_count": 221,
   "id": "73b8aefa",
   "metadata": {},
   "outputs": [
    {
     "data": {
      "text/plain": [
       "ChatGroq(client=<groq.resources.chat.completions.Completions object at 0x000002A10DCCF0D0>, async_client=<groq.resources.chat.completions.AsyncCompletions object at 0x000002A10DCCF220>, model_name='llama-3.3-70b-versatile', temperature=1e-08, model_kwargs={}, groq_api_key=SecretStr('**********'))"
      ]
     },
     "execution_count": 221,
     "metadata": {},
     "output_type": "execute_result"
    }
   ],
   "source": [
    "groq_api_key ='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'\n",
    "\n",
    "groq_llm = ChatGroq(model='llama-3.3-70b-versatile', groq_api_key=groq_api_key , temperature = 0.0)\n",
    "\n",
    "groq_llm"
   ]
  },
  {
   "cell_type": "code",
   "execution_count": 222,
   "id": "1e77474b",
   "metadata": {},
   "outputs": [
    {
     "name": "stdout",
     "output_type": "stream",
     "text": [
      "bound=ChatGroq(client=<groq.resources.chat.completions.Completions object at 0x000002A10DCCF0D0>, async_client=<groq.resources.chat.completions.AsyncCompletions object at 0x000002A10DCCF220>, model_name='llama-3.3-70b-versatile', temperature=1e-08, model_kwargs={}, groq_api_key=SecretStr('**********')) kwargs={'tools': [{'type': 'function', 'function': {'name': 'tavily_search_results_json', 'description': 'A search engine optimized for comprehensive, accurate, and trusted results. Useful for when you need to answer questions about current events. Input should be a search query.', 'parameters': {'properties': {'query': {'description': 'search query to look up', 'type': 'string'}}, 'required': ['query'], 'type': 'object'}}}]} config={} config_factories=[]\n"
     ]
    }
   ],
   "source": [
    "llm_with_tools = groq_llm.bind_tools(tools)\n",
    "print(llm_with_tools)\n"
   ]
  },
  {
   "cell_type": "code",
   "execution_count": 223,
   "id": "0717dbbc",
   "metadata": {},
   "outputs": [
    {
     "data": {
      "text/plain": [
       "AIMessage(content='', additional_kwargs={'tool_calls': [{'id': 'call_8hqq', 'function': {'arguments': '{\"query\":\"Google AI products\"}', 'name': 'tavily_search_results_json'}, 'type': 'function'}]}, response_metadata={'token_usage': {'completion_tokens': 20, 'prompt_tokens': 288, 'total_tokens': 308, 'completion_time': 0.072727273, 'prompt_time': 0.01825739, 'queue_time': 0.05015679000000001, 'total_time': 0.090984663}, 'model_name': 'llama-3.3-70b-versatile', 'system_fingerprint': 'fp_3f3b593e33', 'finish_reason': 'tool_calls', 'logprobs': None}, id='run--3acae783-8512-40bd-af55-394165c0485d-0', tool_calls=[{'name': 'tavily_search_results_json', 'args': {'query': 'Google AI products'}, 'id': 'call_8hqq', 'type': 'tool_call'}], usage_metadata={'input_tokens': 288, 'output_tokens': 20, 'total_tokens': 308})"
      ]
     },
     "execution_count": 223,
     "metadata": {},
     "output_type": "execute_result"
    }
   ],
   "source": [
    "question = 'tell me about google and its products in AI?'\n",
    "response  = llm_with_tools.invoke(question)\n",
    "response"
   ]
  },
  {
   "cell_type": "code",
   "execution_count": 224,
   "id": "b168d260",
   "metadata": {},
   "outputs": [
    {
     "data": {
      "text/plain": [
       "[{'name': 'tavily_search_results_json',\n",
       "  'args': {'query': 'Google AI products'},\n",
       "  'id': 'call_8hqq',\n",
       "  'type': 'tool_call'}]"
      ]
     },
     "execution_count": 224,
     "metadata": {},
     "output_type": "execute_result"
    }
   ],
   "source": [
    "response.tool_calls"
   ]
  },
  {
   "cell_type": "code",
   "execution_count": 225,
   "id": "e12d2270",
   "metadata": {},
   "outputs": [
    {
     "data": {
      "text/plain": [
       "'call_8hqq'"
      ]
     },
     "execution_count": 225,
     "metadata": {},
     "output_type": "execute_result"
    }
   ],
   "source": [
    "response.tool_calls[0]['id']"
   ]
  },
  {
   "cell_type": "code",
   "execution_count": 226,
   "id": "b0eb5405",
   "metadata": {},
   "outputs": [
    {
     "data": {
      "text/plain": [
       "[{'title': \"A guide to all of Google's AI products - Plus\",\n",
       "  'url': 'https://plusai.com/blog/a-guide-to-googles-ai-products',\n",
       "  'content': '*   Gemini Nano, Pro, and Ultra - These are the latest AI models powering the various Google AI services. Originally, Bard used LaMDA, and Duet AI used PaLM and PaLM 2. But now all of the services use Gemini models.\\n*   Google AI Studio - Formerly known as MakerSuite, this provides an easy-to-use environment to test out different AI models. [...] *   Vertex AI - This is the part of the Google Cloud console where you can manage your machine learning and AI services. It also has a playground-like environment, but the Google AI studio app is easier to use. [...] *   Gemini Advanced - This is the premium version of Google’s AI chatbot, and it comes with a subscription to use Gemini in Gmail, Docs, and the rest of the Google productivity suite. If you are looking to use AI with Google, it seems like this is the best subscription right now since it gives you the AI chat capabilities and the Workspace AI features.',\n",
       "  'score': 0.86441374},\n",
       " {'title': 'AI and Machine Learning Products and Services | Google Cloud',\n",
       "  'url': 'https://cloud.google.com/products/ai',\n",
       "  'content': '*   [Vision AI](https://cloud.google.com/vision)\\n*   [Contact Center as a Service](https://cloud.google.com/solutions/contact-center-ai-platform)\\n*   [See all AI and machine learning products](https://cloud.google.com/products?pds=CAE#ai-and-machine-learning)\\n*   Business Intelligence\\n*   [Looker](https://cloud.google.com/looker)\\n*   [Looker Studio](https://cloud.google.com/looker-studio)\\n*   [Compute](https://cloud.google.com/products/compute) [...] AI & Machine Learning Products & Services | Google Cloud\\n===============\\n \\n\\nAI and machine learning products\\n================================\\n\\n**Try Gemini 2.0 models,** the latest and most advanced multimodal models in Vertex AI. See what you can build with up to a 2M token context window, starting as low as $0.0001.\\n\\n[Try it free](https://console.cloud.google.com/vertex-ai/generative/multimodal/create/text) [Contact sales](https://cloud.google.com/contact) [...] *   [Vertex AI Agent Builder](https://cloud.google.com/products/agent-builder)\\n*   [Conversational Agents](https://cloud.google.com/products/conversational-agents)\\n*   [Vertex AI Search](https://cloud.google.com/enterprise-search)\\n*   [Speech-to-Text](https://cloud.google.com/speech-to-text)\\n*   [Text-to-Speech](https://cloud.google.com/text-to-speech)\\n*   [Translation AI](https://cloud.google.com/translate)\\n*   [Document AI](https://cloud.google.com/document-ai)',\n",
       "  'score': 0.8571119},\n",
       " {'title': '10+ AI tools you can start using for free in 2025 | Google Cloud',\n",
       "  'url': 'https://cloud.google.com/use-cases/free-ai-tools',\n",
       "  'content': '*   [Vision AI](https://cloud.google.com/vision)\\n*   [Contact Center as a Service](https://cloud.google.com/solutions/contact-center-ai-platform)\\n*   [See all AI and machine learning products](https://cloud.google.com/products?pds=CAE#ai-and-machine-learning)\\n*   Business Intelligence\\n*   [Looker](https://cloud.google.com/looker)\\n*   [Looker Studio](https://cloud.google.com/looker-studio)\\n*   [Compute](https://cloud.google.com/products/compute) [...] Google Cloud offers free usage of many AI products up to monthly limits, including [Translation](https://cloud.google.com/translate), [Speech-to-Text](https://cloud.google.com/speech-to-text/), [Natural Language](https://cloud.google.com/natural-language), and [Video Intelligence](https://cloud.google.com/video-intelligence). There is no charge to use these products up to their specified free usage limit. The free usage limit does not expire, but is subject to change. [...] *   [Vertex AI Agent Builder](https://cloud.google.com/products/agent-builder)\\n*   [Conversational Agents](https://cloud.google.com/products/conversational-agents)\\n*   [Vertex AI Search](https://cloud.google.com/enterprise-search)\\n*   [Speech-to-Text](https://cloud.google.com/speech-to-text)\\n*   [Text-to-Speech](https://cloud.google.com/text-to-speech)\\n*   [Translation AI](https://cloud.google.com/translate)\\n*   [Document AI](https://cloud.google.com/document-ai)',\n",
       "  'score': 0.8512743},\n",
       " {'title': \"Google AI - How we're making AI helpful for everyone\",\n",
       "  'url': 'https://ai.google/',\n",
       "  'content': '![Image 99](https://lh3.googleusercontent.com/ugot9uP2DybjLmHXxaT4dFKuITxDVf_bb4nziWAE2uJoPyGZSYhEWOhn6BpIXgag2Z3BjutvWrbHqWQRJ7lVI9OBmjFwXHKE_v8XyVD-bUiK=w624-h624-n-nu)\\n\\nProducts\\n--------\\n\\n[See all products](https://ai.google/products/)\\n\\nLatest For knowledge For creativity For productivity For students For experimenting\\n\\n Talk with Gemini Live about anything you see. On Android, rolling out on iOS.',\n",
       "  'score': 0.79883134},\n",
       " {'title': 'The latest AI news we announced in May - Google Blog',\n",
       "  'url': 'https://blog.google/technology/ai/google-ai-updates-may-2025/',\n",
       "  'content': '*    Platforms & Devices \\n        *   [Fitbit](https://blog.google/products/fitbit/)\\n        *   [Google Nest](https://blog.google/products/google-nest/)\\n        *   [Pixel](https://blog.google/products/pixel/)\\n        *   [See all](https://blog.google/products/platforms-devices/)',\n",
       "  'score': 0.79675186}]"
      ]
     },
     "execution_count": 226,
     "metadata": {},
     "output_type": "execute_result"
    }
   ],
   "source": [
    "tavily_results =tavily_search_tool.invoke(response.tool_calls[0]['args']['query'])\n",
    "tavily_results\n"
   ]
  },
  {
   "cell_type": "code",
   "execution_count": 227,
   "id": "9572ecd7",
   "metadata": {},
   "outputs": [
    {
     "data": {
      "text/plain": [
       "['*   Gemini Nano, Pro, and Ultra - These are the latest AI models powering the various Google AI services. Originally, Bard used LaMDA, and Duet AI used PaLM and PaLM 2. But now all of the services use Gemini models.\\n*   Google AI Studio - Formerly known as MakerSuite, this provides an easy-to-use environment to test out different AI models. [...] *   Vertex AI - This is the part of the Google Cloud console where you can manage your machine learning and AI services. It also has a playground-like environment, but the Google AI studio app is easier to use. [...] *   Gemini Advanced - This is the premium version of Google’s AI chatbot, and it comes with a subscription to use Gemini in Gmail, Docs, and the rest of the Google productivity suite. If you are looking to use AI with Google, it seems like this is the best subscription right now since it gives you the AI chat capabilities and the Workspace AI features.',\n",
       " '*   [Vision AI](https://cloud.google.com/vision)\\n*   [Contact Center as a Service](https://cloud.google.com/solutions/contact-center-ai-platform)\\n*   [See all AI and machine learning products](https://cloud.google.com/products?pds=CAE#ai-and-machine-learning)\\n*   Business Intelligence\\n*   [Looker](https://cloud.google.com/looker)\\n*   [Looker Studio](https://cloud.google.com/looker-studio)\\n*   [Compute](https://cloud.google.com/products/compute) [...] AI & Machine Learning Products & Services | Google Cloud\\n===============\\n \\n\\nAI and machine learning products\\n================================\\n\\n**Try Gemini 2.0 models,** the latest and most advanced multimodal models in Vertex AI. See what you can build with up to a 2M token context window, starting as low as $0.0001.\\n\\n[Try it free](https://console.cloud.google.com/vertex-ai/generative/multimodal/create/text) [Contact sales](https://cloud.google.com/contact) [...] *   [Vertex AI Agent Builder](https://cloud.google.com/products/agent-builder)\\n*   [Conversational Agents](https://cloud.google.com/products/conversational-agents)\\n*   [Vertex AI Search](https://cloud.google.com/enterprise-search)\\n*   [Speech-to-Text](https://cloud.google.com/speech-to-text)\\n*   [Text-to-Speech](https://cloud.google.com/text-to-speech)\\n*   [Translation AI](https://cloud.google.com/translate)\\n*   [Document AI](https://cloud.google.com/document-ai)',\n",
       " '*   [Vision AI](https://cloud.google.com/vision)\\n*   [Contact Center as a Service](https://cloud.google.com/solutions/contact-center-ai-platform)\\n*   [See all AI and machine learning products](https://cloud.google.com/products?pds=CAE#ai-and-machine-learning)\\n*   Business Intelligence\\n*   [Looker](https://cloud.google.com/looker)\\n*   [Looker Studio](https://cloud.google.com/looker-studio)\\n*   [Compute](https://cloud.google.com/products/compute) [...] Google Cloud offers free usage of many AI products up to monthly limits, including [Translation](https://cloud.google.com/translate), [Speech-to-Text](https://cloud.google.com/speech-to-text/), [Natural Language](https://cloud.google.com/natural-language), and [Video Intelligence](https://cloud.google.com/video-intelligence). There is no charge to use these products up to their specified free usage limit. The free usage limit does not expire, but is subject to change. [...] *   [Vertex AI Agent Builder](https://cloud.google.com/products/agent-builder)\\n*   [Conversational Agents](https://cloud.google.com/products/conversational-agents)\\n*   [Vertex AI Search](https://cloud.google.com/enterprise-search)\\n*   [Speech-to-Text](https://cloud.google.com/speech-to-text)\\n*   [Text-to-Speech](https://cloud.google.com/text-to-speech)\\n*   [Translation AI](https://cloud.google.com/translate)\\n*   [Document AI](https://cloud.google.com/document-ai)',\n",
       " '![Image 99](https://lh3.googleusercontent.com/ugot9uP2DybjLmHXxaT4dFKuITxDVf_bb4nziWAE2uJoPyGZSYhEWOhn6BpIXgag2Z3BjutvWrbHqWQRJ7lVI9OBmjFwXHKE_v8XyVD-bUiK=w624-h624-n-nu)\\n\\nProducts\\n--------\\n\\n[See all products](https://ai.google/products/)\\n\\nLatest For knowledge For creativity For productivity For students For experimenting\\n\\n Talk with Gemini Live about anything you see. On Android, rolling out on iOS.',\n",
       " '*    Platforms & Devices \\n        *   [Fitbit](https://blog.google/products/fitbit/)\\n        *   [Google Nest](https://blog.google/products/google-nest/)\\n        *   [Pixel](https://blog.google/products/pixel/)\\n        *   [See all](https://blog.google/products/platforms-devices/)']"
      ]
     },
     "execution_count": 227,
     "metadata": {},
     "output_type": "execute_result"
    }
   ],
   "source": [
    "tool_response = [tavily_result['content'] for tavily_result in tavily_results]\n",
    "tool_response"
   ]
  },
  {
   "cell_type": "code",
   "execution_count": 228,
   "id": "aff8614b",
   "metadata": {},
   "outputs": [
    {
     "name": "stdout",
     "output_type": "stream",
     "text": [
      "content='Google offers various AI products, including Gemini models, Google AI Studio, and Vertex AI, which provide easy-to-use environments to test out different AI models (https://plusai.com/blog/a-guide-to-googles-ai-products). Google Cloud also offers a range of AI and machine learning products, such as Vision AI, Contact Center as a Service, and Vertex AI Agent Builder (https://cloud.google.com/products/ai). Additionally, Google provides free usage of many AI products up to monthly limits, including Translation, Speech-to-Text, and Natural Language (https://cloud.google.com/use-cases/free-ai-tools).' additional_kwargs={} response_metadata={'token_usage': {'completion_tokens': 127, 'prompt_tokens': 1525, 'total_tokens': 1652, 'completion_time': 0.461818182, 'prompt_time': 0.106050928, 'queue_time': 0.050692871999999986, 'total_time': 0.56786911}, 'model_name': 'llama-3.3-70b-versatile', 'system_fingerprint': 'fp_2ddfbb0da0', 'finish_reason': 'stop', 'logprobs': None} id='run--37e2548e-4416-4163-96e6-aa28b3843243-0' usage_metadata={'input_tokens': 1525, 'output_tokens': 127, 'total_tokens': 1652}\n"
     ]
    }
   ],
   "source": [
    "prompt_template = \"\"\"You are an assistant for question-answering tasks who answers questions based \n",
    "on the search results context that are provided to you. \n",
    "Use the following pieces of search results to answer the question.\n",
    "For every single search result, there is a url and content. Refer to the content for the response and also\n",
    "mention the corresponding links of the results which you referred to. \n",
    "If you don't know the answer, just say that you don't know. \n",
    "Use three sentences maximum and keep the answer concise.\n",
    "question: {question}\n",
    "search_results: {context} \n",
    "Answer:\n",
    "\"\"\"\n",
    "\n",
    "prompt = ChatPromptTemplate.from_template(prompt_template)\n",
    "\n",
    "web_search_chain = prompt | groq_llm \n",
    "\n",
    "chain_response = web_search_chain.invoke({'question': question,\n",
    "                                 'context': tavily_results})\n",
    "\n",
    "print(chain_response)"
   ]
  },
  {
   "cell_type": "code",
   "execution_count": 229,
   "id": "3535032b",
   "metadata": {},
   "outputs": [
    {
     "name": "stdout",
     "output_type": "stream",
     "text": [
      "Google offers various AI products, including Gemini models, Google AI Studio, and Vertex AI, which provide easy-to-use environments to test out different AI models (https://plusai.com/blog/a-guide-to-googles-ai-products). Google Cloud also offers a range of AI and machine learning products, such as Vision AI, Contact Center as a Service, and Vertex AI Agent Builder (https://cloud.google.com/products/ai). Additionally, Google provides free usage of many AI products up to monthly limits, including Translation, Speech-to-Text, and Natural Language (https://cloud.google.com/use-cases/free-ai-tools).\n"
     ]
    }
   ],
   "source": [
    "print(chain_response.content)"
   ]
  },
  {
   "cell_type": "markdown",
   "id": "21b16fad",
   "metadata": {},
   "source": [
    "#### State"
   ]
  },
  {
   "cell_type": "code",
   "execution_count": 298,
   "id": "1271c03f",
   "metadata": {},
   "outputs": [],
   "source": [
    "class Chatbot(TypedDict):\n",
    "    messages: List[str]\n",
    "    question_category : str\n",
    "    llm_response : str\n",
    "    documents: List[str]\n",
    "    web_search_results: List[dict]\n",
    "    relevant_docs_grade : str"
   ]
  },
  {
   "cell_type": "markdown",
   "id": "ed308f42",
   "metadata": {},
   "source": [
    "#### Nodes"
   ]
  },
  {
   "cell_type": "markdown",
   "id": "e69febf6",
   "metadata": {},
   "source": [
    "#### Question Route Classification"
   ]
  },
  {
   "cell_type": "code",
   "execution_count": 276,
   "id": "46e242db",
   "metadata": {},
   "outputs": [],
   "source": [
    "class QuestionClassification(BaseModel):\n",
    "    '''CLassify a user query to the most relevant path for response generation.'''\n",
    "\n",
    "    category: str = Field(description=\"Depending upon user question classify it into vector_store or web_search\")"
   ]
  },
  {
   "cell_type": "code",
   "execution_count": 277,
   "id": "2484dffb",
   "metadata": {},
   "outputs": [],
   "source": [
    "def question_classify_util(question):\n",
    "\n",
    "    question_classify_system = \"\"\"You're an expert at routing a user question to a vector store or web search.\n",
    "    The vectorstore contains documents related to Europe's competitive position and opportunities in the \n",
    "    generative AI value chain, covering sectors like AI semiconductor manufacturing, cloud infrastructure, \n",
    "    and energy demands.\n",
    "\n",
    "    Return **vector_store** for questions around these topics else return **web_search**.\n",
    "\n",
    "    Return only one of the two categories from above. Don't return any explaination of response.\n",
    "    \"\"\"\n",
    "\n",
    "    get_classify_prompt = ChatPromptTemplate.from_messages(\n",
    "        [\n",
    "            ('system', question_classify_system),\n",
    "            ('human',\"{question}\")\n",
    "        ]\n",
    "    )\n",
    "\n",
    "    question_classify_llm_structured = groq_llm.with_structured_output(QuestionClassification)\n",
    "\n",
    "    question_classify_llm = get_classify_prompt | question_classify_llm_structured\n",
    "\n",
    "    question_classify_llm_response = question_classify_llm.invoke({'question': question})\n",
    "\n",
    "    return question_classify_llm_response.category"
   ]
  },
  {
   "cell_type": "code",
   "execution_count": 278,
   "id": "8be3ec6d",
   "metadata": {},
   "outputs": [],
   "source": [
    "def question_classification(state: Chatbot):\n",
    "\n",
    "    question = state['messages'][-1].content\n",
    "\n",
    "    print(f'question-->{question}')\n",
    "\n",
    "    # question = 'How much of Europe’s productivity growth can generative AI potentially contribute annually by 2030?'\n",
    "\n",
    "    # question = 'What is capital of India?'\n",
    "\n",
    "    question_category = question_classify_util(question)\n",
    "\n",
    "    state['question_category'] = question_category\n",
    "\n",
    "    return state\n",
    "    "
   ]
  },
  {
   "cell_type": "markdown",
   "id": "eb8d18c3",
   "metadata": {},
   "source": [
    "##### Quetion Router"
   ]
  },
  {
   "cell_type": "code",
   "execution_count": 279,
   "id": "ed306da7",
   "metadata": {},
   "outputs": [],
   "source": [
    "def question_router(state: Chatbot):\n",
    "    if state['question_category'] == \"web_search\":\n",
    "        return \"retrieve_docs\"\n",
    "    return \"tool_node\""
   ]
  },
  {
   "cell_type": "markdown",
   "id": "8d6e7be7",
   "metadata": {},
   "source": [
    "##### Retrieve docs from Vector Store"
   ]
  },
  {
   "cell_type": "code",
   "execution_count": 280,
   "id": "32606e5f",
   "metadata": {},
   "outputs": [],
   "source": [
    "def retrieve_docs(state: Chatbot):\n",
    "\n",
    "    question = state['messages'][-1].content\n",
    "    \n",
    "    retrieved_docs = retriever.invoke(question)\n",
    "\n",
    "    state['documents'] = retrieved_docs\n",
    "    \n",
    "    return state"
   ]
  },
  {
   "cell_type": "markdown",
   "id": "ca357066",
   "metadata": {},
   "source": [
    "##### Documents Grader"
   ]
  },
  {
   "cell_type": "code",
   "execution_count": 299,
   "id": "790383fd",
   "metadata": {},
   "outputs": [],
   "source": [
    "class GradeDocument(BaseModel):\n",
    "    \"\"\"Boolean values to check for relevance on retrieved documents.\"\"\"\n",
    "\n",
    "    score: str = Field(description=\"Documents are relevant to the question, 'Yes' or 'No'\")"
   ]
  },
  {
   "cell_type": "code",
   "execution_count": 300,
   "id": "84376f58",
   "metadata": {},
   "outputs": [],
   "source": [
    "def doc_grader_util(question, relevant_docs):\n",
    "    \n",
    "    doc_grader_system = \"\"\"You are a grader assessing relevance of a retrieved document to a user question. \\n\n",
    "        If the document contains keyword(s) or semantic meaning related to the question, grade it as relevant. \\n\n",
    "        Give a binary score 'Yes' or 'No' score to indicate whether the document is relevant to the question.\"\"\"\n",
    "\n",
    "    doc_grade_prompt = ChatPromptTemplate.from_messages(\n",
    "        [\n",
    "            (\"system\", doc_grader_system),\n",
    "            (\n",
    "                \"human\",\"Retrieved document: \\n\\n {document} \\n\\n User question: {question}\",\n",
    "            ),\n",
    "        ]\n",
    "    )\n",
    "\n",
    "    structured_llm = groq_llm.with_structured_output(GradeDocument)\n",
    "    doc_grader_llm = doc_grade_prompt | structured_llm\n",
    "    scores = []\n",
    "    for doc in relevant_docs:\n",
    "        result = doc_grader_llm.invoke({\"document\": doc, \"question\": question})\n",
    "        scores.append(result.score)\n",
    "\n",
    "    return scores"
   ]
  },
  {
   "cell_type": "code",
   "execution_count": 301,
   "id": "fc2aa446",
   "metadata": {},
   "outputs": [],
   "source": [
    "def doc_grader(state:Chatbot):\n",
    "\n",
    "    question = state['messages'][-1].content\n",
    "    relevant_docs = state['documents']\n",
    "\n",
    "    scores = doc_grader_util(question, relevant_docs)\n",
    "    state[\"relevant_docs_grade\"] = scores\n",
    "\n",
    "    return state\n"
   ]
  },
  {
   "cell_type": "code",
   "execution_count": null,
   "id": "59ddbd10",
   "metadata": {},
   "outputs": [],
   "source": [
    "def retrieve_docs(state: Chatbot):\n",
    "\n",
    "    question = state['messages'][-1].content\n",
    "    \n",
    "    retrieved_docs = retriever.invoke(question)\n",
    "\n",
    "    state['documents'] = retrieved_docs\n",
    "    \n",
    "    return state"
   ]
  },
  {
   "cell_type": "markdown",
   "id": "29286e75",
   "metadata": {},
   "source": [
    "##### Web Search Tool"
   ]
  },
  {
   "cell_type": "code",
   "execution_count": 281,
   "id": "aadd3eff",
   "metadata": {},
   "outputs": [],
   "source": [
    "def tool_node_util(question):\n",
    "    \n",
    "    response  = llm_with_tools.invoke(question)\n",
    "\n",
    "    if len(response.tool_calls)>0:\n",
    "\n",
    "        tavily_results =tavily_search_tool.invoke(response.tool_calls[0]['args']['query'])\n",
    "    \n",
    "        return tavily_results"
   ]
  },
  {
   "cell_type": "code",
   "execution_count": 282,
   "id": "7a373894",
   "metadata": {},
   "outputs": [],
   "source": [
    "def tool_node(state:Chatbot):\n",
    "    \n",
    "    question = state['messages'][-1].content\n",
    "    \n",
    "    tavily_results = tool_node_util(question)\n",
    "\n",
    "    tool_response = [ToolMessage(content= tavily_result['content'], tool_call_id = 'web_search') for tavily_result in tavily_results]\n",
    "\n",
    "    #print(f'before web_search_results\\n-->{state}\\n')\n",
    "\n",
    "    #print(f'tool response----{tool_response}\\n')\n",
    "\n",
    "    state['messages'].extend(tool_response)\n",
    "\n",
    "    # print(f'\\nafter extend too response-->{state}\\n')\n",
    "    \n",
    "    # tool_call_id = tool_response.tool_calls[0]['id'])\n",
    "\n",
    "    state['web_search_results'] = tavily_results\n",
    "\n",
    "    #print(f'\\nafter web_search_results-->{state}\\n')\n",
    "\n",
    "    return state\n",
    "\n",
    "    "
   ]
  },
  {
   "cell_type": "markdown",
   "id": "858b600f",
   "metadata": {},
   "source": [
    "##### Generate LLM response"
   ]
  },
  {
   "cell_type": "markdown",
   "id": "3ca5600f",
   "metadata": {},
   "source": [
    "##### 1) from Web Search"
   ]
  },
  {
   "cell_type": "code",
   "execution_count": 283,
   "id": "8e5c4a3c",
   "metadata": {},
   "outputs": [],
   "source": [
    "def generate_answer_web_search(state:Chatbot):\n",
    "  \n",
    "     question = state['messages'][-1].content\n",
    "     tavily_results = state['web_search_results']\n",
    "        \n",
    "     prompt_template = \"\"\"You are an assistant for question-answering tasks who answers questions based \n",
    "     on the search results that are provided to you. \n",
    "     Use the following pieces of search results to answer the question.\n",
    "     For every single search result, there is a url and content. Refer to the content for the response and also\n",
    "     mention the corresponding links of the results which you referred to. \n",
    "     If you don't know the answer, just say that you don't know. \n",
    "     Use three sentences maximum and keep the answer concise.\n",
    "     question: {question}\n",
    "     search_results: {tavily_results} \n",
    "     \"\"\"\n",
    "\n",
    "     prompt = ChatPromptTemplate.from_template(prompt_template)\n",
    "\n",
    "     web_search_chain = prompt | groq_llm | StrOutputParser()\n",
    "\n",
    "     llm_response = web_search_chain.invoke({'question': question,\n",
    "                                        'tavily_results': tavily_results})\n",
    "\n",
    "     state['messages'].append(AIMessage(content=llm_response))\n",
    "     \n",
    "     state['llm_response'] = llm_response\n",
    "\n",
    "     print(f'generate_answer_web_search-->{state}')\n",
    "\n",
    "     return state\n"
   ]
  },
  {
   "cell_type": "markdown",
   "id": "44ce72ca",
   "metadata": {},
   "source": [
    "##### 2) from Vector Store"
   ]
  },
  {
   "cell_type": "code",
   "execution_count": 284,
   "id": "f6380b08",
   "metadata": {},
   "outputs": [],
   "source": [
    "def generate_answer_vector_store(state:Chatbot):\n",
    "\n",
    "     question = state['messages'][-1].content\n",
    "     documents = state['documents']\n",
    "\n",
    "     prompt_template = \"\"\"Answer the question only based on the context provided;.\n",
    "     question: {question}\n",
    "     context: {context} \n",
    "     \"\"\"\n",
    "\n",
    "     prompt = ChatPromptTemplate.from_template(prompt_template)\n",
    "\n",
    "     web_search_chain = prompt | groq_llm | StrOutputParser()\n",
    "\n",
    "     llm_response = web_search_chain.invoke({'question': question,\n",
    "                                        'context': documents})\n",
    "     \n",
    "     state['messages'].append(AIMessage(content=llm_response))\n",
    "\n",
    "     state['llm_response'] = llm_response\n",
    "\n",
    "     print(f'generate_answer_vector_store-->{state}')\n",
    "\n",
    "     return state"
   ]
  },
  {
   "cell_type": "markdown",
   "id": "d7b682d6",
   "metadata": {},
   "source": [
    "#### Memory Checkpoint"
   ]
  },
  {
   "cell_type": "code",
   "execution_count": 285,
   "id": "5a741cc9",
   "metadata": {},
   "outputs": [],
   "source": [
    "memory =  MemorySaver()"
   ]
  },
  {
   "cell_type": "markdown",
   "id": "d10e1bfd",
   "metadata": {},
   "source": [
    "#### Graph Building"
   ]
  },
  {
   "cell_type": "code",
   "execution_count": null,
   "id": "b14fa1e4",
   "metadata": {},
   "outputs": [],
   "source": [
    "graph = StateGraph(Chatbot)\n",
    "\n",
    "graph.add_node('question_classification', question_classification)\n",
    "graph.add_node('retrieve_docs', retrieve_docs)\n",
    "graph.add_node('tool_node', tool_node)\n",
    "graph.add_node('generate_answer_web_search', generate_answer_web_search)\n",
    "graph.add_node('generate_answer_vector_store', generate_answer_vector_store)\n",
    "\n",
    "\n",
    "graph.add_conditional_edges(\"question_classification\", question_router, \n",
    "                            {\n",
    "                                \"retrieve_docs\":\"retrieve_docs\",\n",
    "                                \"tool_node\":\"tool_node\"\n",
    "                            }\n",
    "                            )\n",
    "\n",
    "graph.add_edge('tool_node', 'generate_answer_web_search')\n",
    "graph.add_edge('retrieve_docs', 'generate_answer_vector_store')\n",
    "\n",
    "\n",
    "graph.add_edge('generate_answer_web_search', END)\n",
    "\n",
    "graph.add_edge('generate_answer_vector_store', END)\n",
    "\n",
    "graph.set_entry_point('question_classification')\n",
    "\n",
    "workflow = graph.compile(checkpointer=memory)\n",
    "\n",
    "config = {\"configurable\":{\"thread_id\": 1}}\n"
   ]
  },
  {
   "cell_type": "code",
   "execution_count": 287,
   "id": "7e4f9646",
   "metadata": {},
   "outputs": [
    {
     "data": {
      "image/png": "[encoded data removed]",
      "text/plain": [
       "<IPython.core.display.Image object>"
      ]
     },
     "metadata": {},
     "output_type": "display_data"
    }
   ],
   "source": [
    "display(Image(workflow.get_graph().draw_mermaid_png()))"
   ]
  },
  {
   "cell_type": "code",
   "execution_count": 288,
   "id": "9dac752f",
   "metadata": {},
   "outputs": [
    {
     "name": "stdout",
     "output_type": "stream",
     "text": [
      "question-->tell me about ai adoption in europe\n",
      "generate_answer_web_search-->{'messages': [HumanMessage(content='tell me about ai adoption in europe', additional_kwargs={}, response_metadata={}), ToolMessage(content='## Europe-based respondents to a Deloitte survey report higher levels of strategy, tech, and talent preparedness for generative AI adoption, and less progress in the areas of risk and governance\\n\\nThe preparedness of some European organizations to adopt generative AI appears to be accelerating rapidly, but fewer gains are being made in the areas of risk management, regulatory readiness, and governance models. [...] According to a Deloitte survey of over 700 senior leaders in France, Germany, Italy, the Netherlands, Spain, and the United Kingdom conducted in June 2024, there was a significant increase over the previous six months in respondents reporting that their organizations are highly prepared or very highly prepared to adopt gen AI in the areas of strategy (up 11 percentage points since December 2023), technology and infrastructure (up 9 percentage points), and talent (up 8 percentage points). [...] The latest wave of Deloitte’s State of Generative AI in the Enterprise survey also found that Europe-based respondents are focusing less on gen AI’s short-term operational use cases such as reducing costs (down 8 percentage points since December 2023) or improving efficiency and productivity (down 4 percentage points), and instead are turning their attention to applications that can help them gain a longer-term competitive advantage and secure strategic benefits. For example, more respondents', tool_call_id='web_search'), ToolMessage(content='What is clear is that AI adoption in Europe is low and likely running behind other parts of the world. Discussions on the barriers to AI advancement often mix up different stages of innovation – research, development and adoption. Each stage is constrained by the availability of skills, data and financing in the European market, but there are nuances in how these barriers arise in each of the three stages. [...] Artificial intelligence (AI) is considered a key driver of future economic development, expected to increase labour productivity and economic growth worldwide. To realise these gains, AI technologies need to be adopted by companies and integrated into their operations. However, it is unclear what the current level of AI adoption by European firms actually is. Estimates vary widely because of uneven data collection and lack of a standard definition and taxonomy of AI. [...] To accelerate the roll-out of AI technology across the European Union, policymakers should alleviate constraints to adoption faced by firms, both in the environmental context – labour market, financial market and regulation – and in the technological context – data availability, basic digitisation of businesses and technological uncertainty.', tool_call_id='web_search'), ToolMessage(content=\"As AI reshapes the global economy, Europe faces a crucial moment. The past year has witnessed widespread adoption of AI, popularised by generative AI and large language models (LLMs), with our research suggesting Europe could achieve near-universal business adoption of AI by 2030. [...] This report reveals that Europe is at a critical juncture. While businesses and citizens show growing enthusiasm for AI's potential, startups are ahead in driving innovation and business transformation with AI. In contrast, larger companies remain primarily focused on early experimentation and the lowest-hanging fruit of efficiency gains at the expense of deeper adoption. This divergence risks creating a two-tier AI economy that could limit Europe's potential to leverage the benefits of digital [...] \\u200b\\n\\nOur research draws on independent studies conducted by Strand Partners, encompassing over 15,000 citizens and 15,000 businesses across the European Union, UK, and Switzerland. The breadth and depth of this research provides unprecedented insights into the state of AI adoption and its implications for Europe's future competitiveness.\", tool_call_id='web_search'), ToolMessage(content='Per the 2023 McKinsey Global Survey on the state of AI, Europe lags behind North America in gen AI adoption by 30 percent, with 40 percent of surveyed North American companies reporting having adopted gen AI in at least one business function, compared with about 30 percent for surveyed European companies.[15Survey question, with 1,363 responses: Has the organization adopted AI in at least one business function?](javascript:void(0);) [...] When it comes to unlocking the full potential of gen AI, Europe sits at a crossroads. Given the technology’s novelty, the adoption race remains wide open. Europe has numerous opportunities to tactically reinforce its positions along the value chain while ensuring that it guides gen AI development by ethical considerations. Policy makers must understand that the stakes here are considerable and extend beyond immediate economic impacts. Europe’s participation in the current AI boom is important [...] *   **A three-lens approach–on adoption, creation, and energy–is required to assess Europe’s competitiveness in the emerging generative AI (gen AI) economy.** While much of the current discourse centers around large language models (LLMs), European policy makers and business leaders must look beyond LLMs. Adopting a holistic approach to capitalize fully on gen AI’s potential could boost European labor productivity by up to 3 percent annually through 2030.', tool_call_id='web_search'), ToolMessage(content=\"For governments, secure adoption of the technology, responsible AI education, and continued investment in skill-building through public-private partnerships are all critical priorities.\\n\\n**The European AI Opportunity**\\n-------------------------------\\n\\nEurope has strong foundations for AI success — robust research capabilities, strong institutions, innovative startups, and public sector adoption. The current adoption trends are encouraging, particularly in healthcare and sustainability. [...] ![Image 1: Five businesses adopt AI every minute in Europe, yet a concerning gap is emerging between nimble startups and cautious enterprises – AWS's latest report reveals what's at stake and how to win in this transformative race.](https://imageio.forbes.com/specials-images/imageserve/67d3cbdba3bb0d39350bc96e/Five-businesses-adopt-AI-every-minute-in-Europe--yet-a-concerning-gap-is-emerging/0x0.jpg?format=jpg&crop=2492,1401,x2,y0,safe&width=1440)\", tool_call_id='web_search'), AIMessage(content='For governments, secure adoption of the technology, responsible AI education, and continued investment in skill-building through public-private partnerships are critical priorities. This is according to the article \"Bridging The AI Divide: Why Europe\\'s AI Future Depends ...\" (https://www.forbes.com/sites/bernardmarr/2025/03/14/bridging-the-ai-divide-why-europes-ai-future-depends-on-transformative-innovation/). Europe has strong foundations for AI success, with robust research capabilities, strong institutions, and public sector adoption, as mentioned in the same article.', additional_kwargs={}, response_metadata={})], 'question_category': 'vector_store', 'web_search_results': [{'title': 'EU gen AI adoption | Deloitte Insights', 'url': 'https://www2.deloitte.com/us/en/insights/deloitte-insights-magazine/issue-33/ai-regulation-clarity-boosts-preparedness-for-eu-ai-act.html', 'content': '## Europe-based respondents to a Deloitte survey report higher levels of strategy, tech, and talent preparedness for generative AI adoption, and less progress in the areas of risk and governance\\n\\nThe preparedness of some European organizations to adopt generative AI appears to be accelerating rapidly, but fewer gains are being made in the areas of risk management, regulatory readiness, and governance models. [...] According to a Deloitte survey of over 700 senior leaders in France, Germany, Italy, the Netherlands, Spain, and the United Kingdom conducted in June 2024, there was a significant increase over the previous six months in respondents reporting that their organizations are highly prepared or very highly prepared to adopt gen AI in the areas of strategy (up 11 percentage points since December 2023), technology and infrastructure (up 9 percentage points), and talent (up 8 percentage points). [...] The latest wave of Deloitte’s State of Generative AI in the Enterprise survey also found that Europe-based respondents are focusing less on gen AI’s short-term operational use cases such as reducing costs (down 8 percentage points since December 2023) or improving efficiency and productivity (down 4 percentage points), and instead are turning their attention to applications that can help them gain a longer-term competitive advantage and secure strategic benefits. For example, more respondents', 'score': 0.9281033}, {'title': 'What is holding back artificial intelligence adoption in Europe?', 'url': 'https://www.bruegel.org/policy-brief/what-holding-back-artificial-intelligence-adoption-europe', 'content': 'What is clear is that AI adoption in Europe is low and likely running behind other parts of the world. Discussions on the barriers to AI advancement often mix up different stages of innovation – research, development and adoption. Each stage is constrained by the availability of skills, data and financing in the European market, but there are nuances in how these barriers arise in each of the three stages. [...] Artificial intelligence (AI) is considered a key driver of future economic development, expected to increase labour productivity and economic growth worldwide. To realise these gains, AI technologies need to be adopted by companies and integrated into their operations. However, it is unclear what the current level of AI adoption by European firms actually is. Estimates vary widely because of uneven data collection and lack of a standard definition and taxonomy of AI. [...] To accelerate the roll-out of AI technology across the European Union, policymakers should alleviate constraints to adoption faced by firms, both in the environmental context – labour market, financial market and regulation – and in the technological context – data availability, basic digitisation of businesses and technological uncertainty.', 'score': 0.9237645}, {'title': \"Unlocking Europe's AI Potential\", 'url': 'https://www.unlockingeuropesaipotential.com/', 'content': \"As AI reshapes the global economy, Europe faces a crucial moment. The past year has witnessed widespread adoption of AI, popularised by generative AI and large language models (LLMs), with our research suggesting Europe could achieve near-universal business adoption of AI by 2030. [...] This report reveals that Europe is at a critical juncture. While businesses and citizens show growing enthusiasm for AI's potential, startups are ahead in driving innovation and business transformation with AI. In contrast, larger companies remain primarily focused on early experimentation and the lowest-hanging fruit of efficiency gains at the expense of deeper adoption. This divergence risks creating a two-tier AI economy that could limit Europe's potential to leverage the benefits of digital [...] \\u200b\\n\\nOur research draws on independent studies conducted by Strand Partners, encompassing over 15,000 citizens and 15,000 businesses across the European Union, UK, and Switzerland. The breadth and depth of this research provides unprecedented insights into the state of AI adoption and its implications for Europe's future competitiveness.\", 'score': 0.9222657}, {'title': \"Time to place our bets: Europe's AI opportunity - McKinsey\", 'url': 'https://www.mckinsey.com/capabilities/quantumblack/our-insights/time-to-place-our-bets-europes-ai-opportunity', 'content': 'Per the 2023 McKinsey Global Survey on the state of AI, Europe lags behind North America in gen AI adoption by 30 percent, with 40 percent of surveyed North American companies reporting having adopted gen AI in at least one business function, compared with about 30 percent for surveyed European companies.[15Survey question, with 1,363 responses: Has the organization adopted AI in at least one business function?](javascript:void(0);) [...] When it comes to unlocking the full potential of gen AI, Europe sits at a crossroads. Given the technology’s novelty, the adoption race remains wide open. Europe has numerous opportunities to tactically reinforce its positions along the value chain while ensuring that it guides gen AI development by ethical considerations. Policy makers must understand that the stakes here are considerable and extend beyond immediate economic impacts. Europe’s participation in the current AI boom is important [...] *   **A three-lens approach–on adoption, creation, and energy–is required to assess Europe’s competitiveness in the emerging generative AI (gen AI) economy.** While much of the current discourse centers around large language models (LLMs), European policy makers and business leaders must look beyond LLMs. Adopting a holistic approach to capitalize fully on gen AI’s potential could boost European labor productivity by up to 3 percent annually through 2030.', 'score': 0.91563576}, {'title': \"Bridging The AI Divide: Why Europe's AI Future Depends ... - Forbes\", 'url': 'https://www.forbes.com/sites/bernardmarr/2025/03/14/bridging-the-ai-divide-why-europes-ai-future-depends-on-transformative-innovation/', 'content': \"For governments, secure adoption of the technology, responsible AI education, and continued investment in skill-building through public-private partnerships are all critical priorities.\\n\\n**The European AI Opportunity**\\n-------------------------------\\n\\nEurope has strong foundations for AI success — robust research capabilities, strong institutions, innovative startups, and public sector adoption. The current adoption trends are encouraging, particularly in healthcare and sustainability. [...] ![Image 1: Five businesses adopt AI every minute in Europe, yet a concerning gap is emerging between nimble startups and cautious enterprises – AWS's latest report reveals what's at stake and how to win in this transformative race.](https://imageio.forbes.com/specials-images/imageserve/67d3cbdba3bb0d39350bc96e/Five-businesses-adopt-AI-every-minute-in-Europe--yet-a-concerning-gap-is-emerging/0x0.jpg?format=jpg&crop=2492,1401,x2,y0,safe&width=1440)\", 'score': 0.89720124}], 'llm_response': 'For governments, secure adoption of the technology, responsible AI education, and continued investment in skill-building through public-private partnerships are critical priorities. This is according to the article \"Bridging The AI Divide: Why Europe\\'s AI Future Depends ...\" (https://www.forbes.com/sites/bernardmarr/2025/03/14/bridging-the-ai-divide-why-europes-ai-future-depends-on-transformative-innovation/). Europe has strong foundations for AI success, with robust research capabilities, strong institutions, and public sector adoption, as mentioned in the same article.'}\n"
     ]
    },
    {
     "data": {
      "text/plain": [
       "{'messages': [HumanMessage(content='tell me about ai adoption in europe', additional_kwargs={}, response_metadata={}),\n",
       "  ToolMessage(content='## Europe-based respondents to a Deloitte survey report higher levels of strategy, tech, and talent preparedness for generative AI adoption, and less progress in the areas of risk and governance\\n\\nThe preparedness of some European organizations to adopt generative AI appears to be accelerating rapidly, but fewer gains are being made in the areas of risk management, regulatory readiness, and governance models. [...] According to a Deloitte survey of over 700 senior leaders in France, Germany, Italy, the Netherlands, Spain, and the United Kingdom conducted in June 2024, there was a significant increase over the previous six months in respondents reporting that their organizations are highly prepared or very highly prepared to adopt gen AI in the areas of strategy (up 11 percentage points since December 2023), technology and infrastructure (up 9 percentage points), and talent (up 8 percentage points). [...] The latest wave of Deloitte’s State of Generative AI in the Enterprise survey also found that Europe-based respondents are focusing less on gen AI’s short-term operational use cases such as reducing costs (down 8 percentage points since December 2023) or improving efficiency and productivity (down 4 percentage points), and instead are turning their attention to applications that can help them gain a longer-term competitive advantage and secure strategic benefits. For example, more respondents', tool_call_id='web_search'),\n",
       "  ToolMessage(content='What is clear is that AI adoption in Europe is low and likely running behind other parts of the world. Discussions on the barriers to AI advancement often mix up different stages of innovation – research, development and adoption. Each stage is constrained by the availability of skills, data and financing in the European market, but there are nuances in how these barriers arise in each of the three stages. [...] Artificial intelligence (AI) is considered a key driver of future economic development, expected to increase labour productivity and economic growth worldwide. To realise these gains, AI technologies need to be adopted by companies and integrated into their operations. However, it is unclear what the current level of AI adoption by European firms actually is. Estimates vary widely because of uneven data collection and lack of a standard definition and taxonomy of AI. [...] To accelerate the roll-out of AI technology across the European Union, policymakers should alleviate constraints to adoption faced by firms, both in the environmental context – labour market, financial market and regulation – and in the technological context – data availability, basic digitisation of businesses and technological uncertainty.', tool_call_id='web_search'),\n",
       "  ToolMessage(content=\"As AI reshapes the global economy, Europe faces a crucial moment. The past year has witnessed widespread adoption of AI, popularised by generative AI and large language models (LLMs), with our research suggesting Europe could achieve near-universal business adoption of AI by 2030. [...] This report reveals that Europe is at a critical juncture. While businesses and citizens show growing enthusiasm for AI's potential, startups are ahead in driving innovation and business transformation with AI. In contrast, larger companies remain primarily focused on early experimentation and the lowest-hanging fruit of efficiency gains at the expense of deeper adoption. This divergence risks creating a two-tier AI economy that could limit Europe's potential to leverage the benefits of digital [...] \\u200b\\n\\nOur research draws on independent studies conducted by Strand Partners, encompassing over 15,000 citizens and 15,000 businesses across the European Union, UK, and Switzerland. The breadth and depth of this research provides unprecedented insights into the state of AI adoption and its implications for Europe's future competitiveness.\", tool_call_id='web_search'),\n",
       "  ToolMessage(content='Per the 2023 McKinsey Global Survey on the state of AI, Europe lags behind North America in gen AI adoption by 30 percent, with 40 percent of surveyed North American companies reporting having adopted gen AI in at least one business function, compared with about 30 percent for surveyed European companies.[15Survey question, with 1,363 responses: Has the organization adopted AI in at least one business function?](javascript:void(0);) [...] When it comes to unlocking the full potential of gen AI, Europe sits at a crossroads. Given the technology’s novelty, the adoption race remains wide open. Europe has numerous opportunities to tactically reinforce its positions along the value chain while ensuring that it guides gen AI development by ethical considerations. Policy makers must understand that the stakes here are considerable and extend beyond immediate economic impacts. Europe’s participation in the current AI boom is important [...] *   **A three-lens approach–on adoption, creation, and energy–is required to assess Europe’s competitiveness in the emerging generative AI (gen AI) economy.** While much of the current discourse centers around large language models (LLMs), European policy makers and business leaders must look beyond LLMs. Adopting a holistic approach to capitalize fully on gen AI’s potential could boost European labor productivity by up to 3 percent annually through 2030.', tool_call_id='web_search'),\n",
       "  ToolMessage(content=\"For governments, secure adoption of the technology, responsible AI education, and continued investment in skill-building through public-private partnerships are all critical priorities.\\n\\n**The European AI Opportunity**\\n-------------------------------\\n\\nEurope has strong foundations for AI success — robust research capabilities, strong institutions, innovative startups, and public sector adoption. The current adoption trends are encouraging, particularly in healthcare and sustainability. [...] ![Image 1: Five businesses adopt AI every minute in Europe, yet a concerning gap is emerging between nimble startups and cautious enterprises – AWS's latest report reveals what's at stake and how to win in this transformative race.](https://imageio.forbes.com/specials-images/imageserve/67d3cbdba3bb0d39350bc96e/Five-businesses-adopt-AI-every-minute-in-Europe--yet-a-concerning-gap-is-emerging/0x0.jpg?format=jpg&crop=2492,1401,x2,y0,safe&width=1440)\", tool_call_id='web_search'),\n",
       "  AIMessage(content='For governments, secure adoption of the technology, responsible AI education, and continued investment in skill-building through public-private partnerships are critical priorities. This is according to the article \"Bridging The AI Divide: Why Europe\\'s AI Future Depends ...\" (https://www.forbes.com/sites/bernardmarr/2025/03/14/bridging-the-ai-divide-why-europes-ai-future-depends-on-transformative-innovation/). Europe has strong foundations for AI success, with robust research capabilities, strong institutions, and public sector adoption, as mentioned in the same article.', additional_kwargs={}, response_metadata={})],\n",
       " 'question_category': 'vector_store',\n",
       " 'llm_response': 'For governments, secure adoption of the technology, responsible AI education, and continued investment in skill-building through public-private partnerships are critical priorities. This is according to the article \"Bridging The AI Divide: Why Europe\\'s AI Future Depends ...\" (https://www.forbes.com/sites/bernardmarr/2025/03/14/bridging-the-ai-divide-why-europes-ai-future-depends-on-transformative-innovation/). Europe has strong foundations for AI success, with robust research capabilities, strong institutions, and public sector adoption, as mentioned in the same article.',\n",
       " 'web_search_results': [{'title': 'EU gen AI adoption | Deloitte Insights',\n",
       "   'url': 'https://www2.deloitte.com/us/en/insights/deloitte-insights-magazine/issue-33/ai-regulation-clarity-boosts-preparedness-for-eu-ai-act.html',\n",
       "   'content': '## Europe-based respondents to a Deloitte survey report higher levels of strategy, tech, and talent preparedness for generative AI adoption, and less progress in the areas of risk and governance\\n\\nThe preparedness of some European organizations to adopt generative AI appears to be accelerating rapidly, but fewer gains are being made in the areas of risk management, regulatory readiness, and governance models. [...] According to a Deloitte survey of over 700 senior leaders in France, Germany, Italy, the Netherlands, Spain, and the United Kingdom conducted in June 2024, there was a significant increase over the previous six months in respondents reporting that their organizations are highly prepared or very highly prepared to adopt gen AI in the areas of strategy (up 11 percentage points since December 2023), technology and infrastructure (up 9 percentage points), and talent (up 8 percentage points). [...] The latest wave of Deloitte’s State of Generative AI in the Enterprise survey also found that Europe-based respondents are focusing less on gen AI’s short-term operational use cases such as reducing costs (down 8 percentage points since December 2023) or improving efficiency and productivity (down 4 percentage points), and instead are turning their attention to applications that can help them gain a longer-term competitive advantage and secure strategic benefits. For example, more respondents',\n",
       "   'score': 0.9281033},\n",
       "  {'title': 'What is holding back artificial intelligence adoption in Europe?',\n",
       "   'url': 'https://www.bruegel.org/policy-brief/what-holding-back-artificial-intelligence-adoption-europe',\n",
       "   'content': 'What is clear is that AI adoption in Europe is low and likely running behind other parts of the world. Discussions on the barriers to AI advancement often mix up different stages of innovation – research, development and adoption. Each stage is constrained by the availability of skills, data and financing in the European market, but there are nuances in how these barriers arise in each of the three stages. [...] Artificial intelligence (AI) is considered a key driver of future economic development, expected to increase labour productivity and economic growth worldwide. To realise these gains, AI technologies need to be adopted by companies and integrated into their operations. However, it is unclear what the current level of AI adoption by European firms actually is. Estimates vary widely because of uneven data collection and lack of a standard definition and taxonomy of AI. [...] To accelerate the roll-out of AI technology across the European Union, policymakers should alleviate constraints to adoption faced by firms, both in the environmental context – labour market, financial market and regulation – and in the technological context – data availability, basic digitisation of businesses and technological uncertainty.',\n",
       "   'score': 0.9237645},\n",
       "  {'title': \"Unlocking Europe's AI Potential\",\n",
       "   'url': 'https://www.unlockingeuropesaipotential.com/',\n",
       "   'content': \"As AI reshapes the global economy, Europe faces a crucial moment. The past year has witnessed widespread adoption of AI, popularised by generative AI and large language models (LLMs), with our research suggesting Europe could achieve near-universal business adoption of AI by 2030. [...] This report reveals that Europe is at a critical juncture. While businesses and citizens show growing enthusiasm for AI's potential, startups are ahead in driving innovation and business transformation with AI. In contrast, larger companies remain primarily focused on early experimentation and the lowest-hanging fruit of efficiency gains at the expense of deeper adoption. This divergence risks creating a two-tier AI economy that could limit Europe's potential to leverage the benefits of digital [...] \\u200b\\n\\nOur research draws on independent studies conducted by Strand Partners, encompassing over 15,000 citizens and 15,000 businesses across the European Union, UK, and Switzerland. The breadth and depth of this research provides unprecedented insights into the state of AI adoption and its implications for Europe's future competitiveness.\",\n",
       "   'score': 0.9222657},\n",
       "  {'title': \"Time to place our bets: Europe's AI opportunity - McKinsey\",\n",
       "   'url': 'https://www.mckinsey.com/capabilities/quantumblack/our-insights/time-to-place-our-bets-europes-ai-opportunity',\n",
       "   'content': 'Per the 2023 McKinsey Global Survey on the state of AI, Europe lags behind North America in gen AI adoption by 30 percent, with 40 percent of surveyed North American companies reporting having adopted gen AI in at least one business function, compared with about 30 percent for surveyed European companies.[15Survey question, with 1,363 responses: Has the organization adopted AI in at least one business function?](javascript:void(0);) [...] When it comes to unlocking the full potential of gen AI, Europe sits at a crossroads. Given the technology’s novelty, the adoption race remains wide open. Europe has numerous opportunities to tactically reinforce its positions along the value chain while ensuring that it guides gen AI development by ethical considerations. Policy makers must understand that the stakes here are considerable and extend beyond immediate economic impacts. Europe’s participation in the current AI boom is important [...] *   **A three-lens approach–on adoption, creation, and energy–is required to assess Europe’s competitiveness in the emerging generative AI (gen AI) economy.** While much of the current discourse centers around large language models (LLMs), European policy makers and business leaders must look beyond LLMs. Adopting a holistic approach to capitalize fully on gen AI’s potential could boost European labor productivity by up to 3 percent annually through 2030.',\n",
       "   'score': 0.91563576},\n",
       "  {'title': \"Bridging The AI Divide: Why Europe's AI Future Depends ... - Forbes\",\n",
       "   'url': 'https://www.forbes.com/sites/bernardmarr/2025/03/14/bridging-the-ai-divide-why-europes-ai-future-depends-on-transformative-innovation/',\n",
       "   'content': \"For governments, secure adoption of the technology, responsible AI education, and continued investment in skill-building through public-private partnerships are all critical priorities.\\n\\n**The European AI Opportunity**\\n-------------------------------\\n\\nEurope has strong foundations for AI success — robust research capabilities, strong institutions, innovative startups, and public sector adoption. The current adoption trends are encouraging, particularly in healthcare and sustainability. [...] ![Image 1: Five businesses adopt AI every minute in Europe, yet a concerning gap is emerging between nimble startups and cautious enterprises – AWS's latest report reveals what's at stake and how to win in this transformative race.](https://imageio.forbes.com/specials-images/imageserve/67d3cbdba3bb0d39350bc96e/Five-businesses-adopt-AI-every-minute-in-Europe--yet-a-concerning-gap-is-emerging/0x0.jpg?format=jpg&crop=2492,1401,x2,y0,safe&width=1440)\",\n",
       "   'score': 0.89720124}]}"
      ]
     },
     "execution_count": 288,
     "metadata": {},
     "output_type": "execute_result"
    }
   ],
   "source": [
    "messages = [HumanMessage(content=\"tell me about ai adoption in europe\")]\n",
    "response = workflow.invoke({\"messages\": messages}, config=config)\n",
    "response"
   ]
  },
  {
   "cell_type": "code",
   "execution_count": 289,
   "id": "fc46d5bc",
   "metadata": {},
   "outputs": [
    {
     "data": {
      "text/plain": [
       "[HumanMessage(content='tell me about ai adoption in europe', additional_kwargs={}, response_metadata={}),\n",
       " ToolMessage(content='## Europe-based respondents to a Deloitte survey report higher levels of strategy, tech, and talent preparedness for generative AI adoption, and less progress in the areas of risk and governance\\n\\nThe preparedness of some European organizations to adopt generative AI appears to be accelerating rapidly, but fewer gains are being made in the areas of risk management, regulatory readiness, and governance models. [...] According to a Deloitte survey of over 700 senior leaders in France, Germany, Italy, the Netherlands, Spain, and the United Kingdom conducted in June 2024, there was a significant increase over the previous six months in respondents reporting that their organizations are highly prepared or very highly prepared to adopt gen AI in the areas of strategy (up 11 percentage points since December 2023), technology and infrastructure (up 9 percentage points), and talent (up 8 percentage points). [...] The latest wave of Deloitte’s State of Generative AI in the Enterprise survey also found that Europe-based respondents are focusing less on gen AI’s short-term operational use cases such as reducing costs (down 8 percentage points since December 2023) or improving efficiency and productivity (down 4 percentage points), and instead are turning their attention to applications that can help them gain a longer-term competitive advantage and secure strategic benefits. For example, more respondents', tool_call_id='web_search'),\n",
       " ToolMessage(content='What is clear is that AI adoption in Europe is low and likely running behind other parts of the world. Discussions on the barriers to AI advancement often mix up different stages of innovation – research, development and adoption. Each stage is constrained by the availability of skills, data and financing in the European market, but there are nuances in how these barriers arise in each of the three stages. [...] Artificial intelligence (AI) is considered a key driver of future economic development, expected to increase labour productivity and economic growth worldwide. To realise these gains, AI technologies need to be adopted by companies and integrated into their operations. However, it is unclear what the current level of AI adoption by European firms actually is. Estimates vary widely because of uneven data collection and lack of a standard definition and taxonomy of AI. [...] To accelerate the roll-out of AI technology across the European Union, policymakers should alleviate constraints to adoption faced by firms, both in the environmental context – labour market, financial market and regulation – and in the technological context – data availability, basic digitisation of businesses and technological uncertainty.', tool_call_id='web_search'),\n",
       " ToolMessage(content=\"As AI reshapes the global economy, Europe faces a crucial moment. The past year has witnessed widespread adoption of AI, popularised by generative AI and large language models (LLMs), with our research suggesting Europe could achieve near-universal business adoption of AI by 2030. [...] This report reveals that Europe is at a critical juncture. While businesses and citizens show growing enthusiasm for AI's potential, startups are ahead in driving innovation and business transformation with AI. In contrast, larger companies remain primarily focused on early experimentation and the lowest-hanging fruit of efficiency gains at the expense of deeper adoption. This divergence risks creating a two-tier AI economy that could limit Europe's potential to leverage the benefits of digital [...] \\u200b\\n\\nOur research draws on independent studies conducted by Strand Partners, encompassing over 15,000 citizens and 15,000 businesses across the European Union, UK, and Switzerland. The breadth and depth of this research provides unprecedented insights into the state of AI adoption and its implications for Europe's future competitiveness.\", tool_call_id='web_search'),\n",
       " ToolMessage(content='Per the 2023 McKinsey Global Survey on the state of AI, Europe lags behind North America in gen AI adoption by 30 percent, with 40 percent of surveyed North American companies reporting having adopted gen AI in at least one business function, compared with about 30 percent for surveyed European companies.[15Survey question, with 1,363 responses: Has the organization adopted AI in at least one business function?](javascript:void(0);) [...] When it comes to unlocking the full potential of gen AI, Europe sits at a crossroads. Given the technology’s novelty, the adoption race remains wide open. Europe has numerous opportunities to tactically reinforce its positions along the value chain while ensuring that it guides gen AI development by ethical considerations. Policy makers must understand that the stakes here are considerable and extend beyond immediate economic impacts. Europe’s participation in the current AI boom is important [...] *   **A three-lens approach–on adoption, creation, and energy–is required to assess Europe’s competitiveness in the emerging generative AI (gen AI) economy.** While much of the current discourse centers around large language models (LLMs), European policy makers and business leaders must look beyond LLMs. Adopting a holistic approach to capitalize fully on gen AI’s potential could boost European labor productivity by up to 3 percent annually through 2030.', tool_call_id='web_search'),\n",
       " ToolMessage(content=\"For governments, secure adoption of the technology, responsible AI education, and continued investment in skill-building through public-private partnerships are all critical priorities.\\n\\n**The European AI Opportunity**\\n-------------------------------\\n\\nEurope has strong foundations for AI success — robust research capabilities, strong institutions, innovative startups, and public sector adoption. The current adoption trends are encouraging, particularly in healthcare and sustainability. [...] ![Image 1: Five businesses adopt AI every minute in Europe, yet a concerning gap is emerging between nimble startups and cautious enterprises – AWS's latest report reveals what's at stake and how to win in this transformative race.](https://imageio.forbes.com/specials-images/imageserve/67d3cbdba3bb0d39350bc96e/Five-businesses-adopt-AI-every-minute-in-Europe--yet-a-concerning-gap-is-emerging/0x0.jpg?format=jpg&crop=2492,1401,x2,y0,safe&width=1440)\", tool_call_id='web_search'),\n",
       " AIMessage(content='For governments, secure adoption of the technology, responsible AI education, and continued investment in skill-building through public-private partnerships are critical priorities. This is according to the article \"Bridging The AI Divide: Why Europe\\'s AI Future Depends ...\" (https://www.forbes.com/sites/bernardmarr/2025/03/14/bridging-the-ai-divide-why-europes-ai-future-depends-on-transformative-innovation/). Europe has strong foundations for AI success, with robust research capabilities, strong institutions, and public sector adoption, as mentioned in the same article.', additional_kwargs={}, response_metadata={})]"
      ]
     },
     "execution_count": 289,
     "metadata": {},
     "output_type": "execute_result"
    }
   ],
   "source": [
    "response['messages']"
   ]
  },
  {
   "cell_type": "code",
   "execution_count": 290,
   "id": "6bd13a36",
   "metadata": {},
   "outputs": [
    {
     "name": "stdout",
     "output_type": "stream",
     "text": [
      "For governments, secure adoption of the technology, responsible AI education, and continued investment in skill-building through public-private partnerships are critical priorities. This is according to the article \"Bridging The AI Divide: Why Europe's AI Future Depends ...\" (https://www.forbes.com/sites/bernardmarr/2025/03/14/bridging-the-ai-divide-why-europes-ai-future-depends-on-transformative-innovation/). Europe has strong foundations for AI success, with robust research capabilities, strong institutions, and public sector adoption, as mentioned in the same article.\n"
     ]
    }
   ],
   "source": [
    "print(response['llm_response'])"
   ]
  },
  {
   "cell_type": "code",
   "execution_count": 291,
   "id": "4d3a05c3",
   "metadata": {},
   "outputs": [
    {
     "name": "stdout",
     "output_type": "stream",
     "text": [
      "================================\u001b[1m Human Message \u001b[0m=================================\n",
      "\n",
      "tell me about ai adoption in europe\n",
      "=================================\u001b[1m Tool Message \u001b[0m=================================\n",
      "\n",
      "## Europe-based respondents to a Deloitte survey report higher levels of strategy, tech, and talent preparedness for generative AI adoption, and less progress in the areas of risk and governance\n",
      "\n",
      "The preparedness of some European organizations to adopt generative AI appears to be accelerating rapidly, but fewer gains are being made in the areas of risk management, regulatory readiness, and governance models. [...] According to a Deloitte survey of over 700 senior leaders in France, Germany, Italy, the Netherlands, Spain, and the United Kingdom conducted in June 2024, there was a significant increase over the previous six months in respondents reporting that their organizations are highly prepared or very highly prepared to adopt gen AI in the areas of strategy (up 11 percentage points since December 2023), technology and infrastructure (up 9 percentage points), and talent (up 8 percentage points). [...] The latest wave of Deloitte’s State of Generative AI in the Enterprise survey also found that Europe-based respondents are focusing less on gen AI’s short-term operational use cases such as reducing costs (down 8 percentage points since December 2023) or improving efficiency and productivity (down 4 percentage points), and instead are turning their attention to applications that can help them gain a longer-term competitive advantage and secure strategic benefits. For example, more respondents\n",
      "=================================\u001b[1m Tool Message \u001b[0m=================================\n",
      "\n",
      "What is clear is that AI adoption in Europe is low and likely running behind other parts of the world. Discussions on the barriers to AI advancement often mix up different stages of innovation – research, development and adoption. Each stage is constrained by the availability of skills, data and financing in the European market, but there are nuances in how these barriers arise in each of the three stages. [...] Artificial intelligence (AI) is considered a key driver of future economic development, expected to increase labour productivity and economic growth worldwide. To realise these gains, AI technologies need to be adopted by companies and integrated into their operations. However, it is unclear what the current level of AI adoption by European firms actually is. Estimates vary widely because of uneven data collection and lack of a standard definition and taxonomy of AI. [...] To accelerate the roll-out of AI technology across the European Union, policymakers should alleviate constraints to adoption faced by firms, both in the environmental context – labour market, financial market and regulation – and in the technological context – data availability, basic digitisation of businesses and technological uncertainty.\n",
      "=================================\u001b[1m Tool Message \u001b[0m=================================\n",
      "\n",
      "As AI reshapes the global economy, Europe faces a crucial moment. The past year has witnessed widespread adoption of AI, popularised by generative AI and large language models (LLMs), with our research suggesting Europe could achieve near-universal business adoption of AI by 2030. [...] This report reveals that Europe is at a critical juncture. While businesses and citizens show growing enthusiasm for AI's potential, startups are ahead in driving innovation and business transformation with AI. In contrast, larger companies remain primarily focused on early experimentation and the lowest-hanging fruit of efficiency gains at the expense of deeper adoption. This divergence risks creating a two-tier AI economy that could limit Europe's potential to leverage the benefits of digital [...] ​\n",
      "\n",
      "Our research draws on independent studies conducted by Strand Partners, encompassing over 15,000 citizens and 15,000 businesses across the European Union, UK, and Switzerland. The breadth and depth of this research provides unprecedented insights into the state of AI adoption and its implications for Europe's future competitiveness.\n",
      "=================================\u001b[1m Tool Message \u001b[0m=================================\n",
      "\n",
      "Per the 2023 McKinsey Global Survey on the state of AI, Europe lags behind North America in gen AI adoption by 30 percent, with 40 percent of surveyed North American companies reporting having adopted gen AI in at least one business function, compared with about 30 percent for surveyed European companies.[15Survey question, with 1,363 responses: Has the organization adopted AI in at least one business function?](javascript:void(0);) [...] When it comes to unlocking the full potential of gen AI, Europe sits at a crossroads. Given the technology’s novelty, the adoption race remains wide open. Europe has numerous opportunities to tactically reinforce its positions along the value chain while ensuring that it guides gen AI development by ethical considerations. Policy makers must understand that the stakes here are considerable and extend beyond immediate economic impacts. Europe’s participation in the current AI boom is important [...] *   **A three-lens approach–on adoption, creation, and energy–is required to assess Europe’s competitiveness in the emerging generative AI (gen AI) economy.** While much of the current discourse centers around large language models (LLMs), European policy makers and business leaders must look beyond LLMs. Adopting a holistic approach to capitalize fully on gen AI’s potential could boost European labor productivity by up to 3 percent annually through 2030.\n",
      "=================================\u001b[1m Tool Message \u001b[0m=================================\n",
      "\n",
      "For governments, secure adoption of the technology, responsible AI education, and continued investment in skill-building through public-private partnerships are all critical priorities.\n",
      "\n",
      "**The European AI Opportunity**\n",
      "-------------------------------\n",
      "\n",
      "Europe has strong foundations for AI success — robust research capabilities, strong institutions, innovative startups, and public sector adoption. The current adoption trends are encouraging, particularly in healthcare and sustainability. [...] ![Image 1: Five businesses adopt AI every minute in Europe, yet a concerning gap is emerging between nimble startups and cautious enterprises – AWS's latest report reveals what's at stake and how to win in this transformative race.](https://imageio.forbes.com/specials-images/imageserve/67d3cbdba3bb0d39350bc96e/Five-businesses-adopt-AI-every-minute-in-Europe--yet-a-concerning-gap-is-emerging/0x0.jpg?format=jpg&crop=2492,1401,x2,y0,safe&width=1440)\n",
      "==================================\u001b[1m Ai Message \u001b[0m==================================\n",
      "\n",
      "For governments, secure adoption of the technology, responsible AI education, and continued investment in skill-building through public-private partnerships are critical priorities. This is according to the article \"Bridging The AI Divide: Why Europe's AI Future Depends ...\" (https://www.forbes.com/sites/bernardmarr/2025/03/14/bridging-the-ai-divide-why-europes-ai-future-depends-on-transformative-innovation/). Europe has strong foundations for AI success, with robust research capabilities, strong institutions, and public sector adoption, as mentioned in the same article.\n"
     ]
    }
   ],
   "source": [
    "for m in response['messages']:\n",
    "    m.pretty_print()"
   ]
  },
  {
   "cell_type": "code",
   "execution_count": 292,
   "id": "00d2f3b9",
   "metadata": {},
   "outputs": [
    {
     "name": "stdout",
     "output_type": "stream",
     "text": [
      "question-->give me a detailed explaination\n",
      "generate_answer_vector_store-->{'messages': [HumanMessage(content='give me a detailed explaination', additional_kwargs={}, response_metadata={}), AIMessage(content='Based on the provided context, I will give a detailed explanation of the topic that appears to be the focus of the documents: the gap between Europe and the US in terms of data centers, cloud computing, supercomputing, and AI/IT spending.\\n\\nThe documents highlight that European data centers are largely owned by US companies, with European cloud companies such as OVH and UpCloud having only about 5% global market share, compared to over 70% for US players like Amazon Web Services, Google, and Microsoft. This disparity is also reflected in the supercomputing capacity, with Europe having only half the capacity of the US in terms of flop/s, which is essential for basic and applied research.\\n\\nOne of the reasons for this gap is the emergence of private players in the US specializing in supercomputing, such as CoreWeave, whereas European supercomputers are mostly located in research centers. Additionally, the operating costs of European data centers are typically more than 50% higher, which can be a significant barrier to competitiveness.\\n\\nThe documents also touch on the topic of AI and IT spending, with Western Europe lagging behind the US. According to the data, there is an average gap of 50% in absolute value and 45% in relative value to sales between Western Europe and the US in terms of IT internal spending and AI external spending. This gap is significant, and the authors suggest that it is time for Europe to \"place our bets\" and invest in AI to bridge this gap.\\n\\nThe exhibits and data provided in the documents, such as Exhibit 3, show that the gap between the US and Western Europe is significant across various sectors, with some sectors having a size ratio of 2:1 or more between the two regions. The authors argue that Europe needs to catch up in terms of AI and IT spending to remain competitive and take advantage of the opportunities presented by these technologies.\\n\\nOverall, the documents provide a detailed analysis of the gap between Europe and the US in terms of data centers, cloud computing, supercomputing, and AI/IT spending, and argue that Europe needs to invest in these areas to remain competitive and take advantage of the opportunities presented by these technologies.', additional_kwargs={}, response_metadata={})], 'question_category': 'web_search', 'llm_response': 'Based on the provided context, I will give a detailed explanation of the topic that appears to be the focus of the documents: the gap between Europe and the US in terms of data centers, cloud computing, supercomputing, and AI/IT spending.\\n\\nThe documents highlight that European data centers are largely owned by US companies, with European cloud companies such as OVH and UpCloud having only about 5% global market share, compared to over 70% for US players like Amazon Web Services, Google, and Microsoft. This disparity is also reflected in the supercomputing capacity, with Europe having only half the capacity of the US in terms of flop/s, which is essential for basic and applied research.\\n\\nOne of the reasons for this gap is the emergence of private players in the US specializing in supercomputing, such as CoreWeave, whereas European supercomputers are mostly located in research centers. Additionally, the operating costs of European data centers are typically more than 50% higher, which can be a significant barrier to competitiveness.\\n\\nThe documents also touch on the topic of AI and IT spending, with Western Europe lagging behind the US. According to the data, there is an average gap of 50% in absolute value and 45% in relative value to sales between Western Europe and the US in terms of IT internal spending and AI external spending. This gap is significant, and the authors suggest that it is time for Europe to \"place our bets\" and invest in AI to bridge this gap.\\n\\nThe exhibits and data provided in the documents, such as Exhibit 3, show that the gap between the US and Western Europe is significant across various sectors, with some sectors having a size ratio of 2:1 or more between the two regions. The authors argue that Europe needs to catch up in terms of AI and IT spending to remain competitive and take advantage of the opportunities presented by these technologies.\\n\\nOverall, the documents provide a detailed analysis of the gap between Europe and the US in terms of data centers, cloud computing, supercomputing, and AI/IT spending, and argue that Europe needs to invest in these areas to remain competitive and take advantage of the opportunities presented by these technologies.', 'documents': [Document(metadata={}, page_content='these European data centers are owned by \\nUS companies.27 In 2023, European cloud \\ncompanies (for example, OVH and UpCloud) \\nhad about 5 percent market share globally \\n(about 15 percent in Europe), while US players \\n(for example, Amazon Web Services, Google, \\nand Microsoft) had more than 70 percent global \\nmarket share.28 Furthermore, Europe has only \\nhalf the supercomputing capacity in flop/s,29 \\nwhich is increasingly necessary in basic and \\napplied research.30 This is partially because \\nthe United States has seen the emergence \\nof private players specializing in this segment \\n(for example, CoreWeave), while Europe \\nsupercomputers mostly lie in research centers. \\nWhat’s more, the operating costs of European \\ndata centers are typically more than 50 percent'), Document(metadata={}, page_content='Designed by McKinsey Global Publishing \\nCopyright © 2024 McKinsey & Company. All rights reserved.\\nAlexander Sukharevsky, a global leader of QuantumBlack, AI by McKinsey, is a senior partner in McKinsey’s London office; \\nEric Hazan is a senior partner in the Paris office, where Marc-Antoine de la Chevasnerie is a partner and Guillaume Dagorret \\nis a McKinsey Global Institute (MGI) senior fellow; Sven Smit, the chair of MGI, is a senior partner in the Amsterdam office, \\nwhere Marc de Jong is a senior partner; Solveigh Hieronimus is a senior partner in the Munich office; and Jan Mischke is an \\nMGI partner in the Zurich office.\\nThe authors wish to thank Adrien Fresko, Arjita Bhan, Arnaud Tournesac, Christoph Sohns, Gardar Björnsson Rova, Klaus'), Document(metadata={}, page_content='Exhibit 3\\nNote: AI external spending measured as external spending on AI infrastructure, software, and services. Sectors ordered from most similar in size to least similar.  IT spending \\nused as proxy for AI internal spending. Sectors ordered from most similar in size to least similar.\\n1Austria, Belgium, Denmark, Finland, France, Germany, Greece, Ireland, Italy, Netherlands, Norway, Portugal, Spain, Sweden, Switzerland, and UK.\\n2Sectors with <2:1 size ratio between US and Western Europe or Western Europe and US.\\n3Sectors with ≥2:1 size ratio between US and Western Europe or Western Europe and US.\\nSource: Worldwide AI and Generative AI Spending Guide, IDC, February 2024; McKinsey analysis\\nWestern Europe lags behind the United States in AI and IT spending across'), Document(metadata={}, page_content='Average gap in absolute value 50%\\nIT internal spending Western Europe\\nUS\\nAverage gap in relative value to sales 45%\\nAI external spending\\nIT internal spending\\n6\\nTime to place our bets: Europe’s AI opportunity')], 'web_search_results': [{'title': 'EU gen AI adoption | Deloitte Insights', 'url': 'https://www2.deloitte.com/us/en/insights/deloitte-insights-magazine/issue-33/ai-regulation-clarity-boosts-preparedness-for-eu-ai-act.html', 'content': '## Europe-based respondents to a Deloitte survey report higher levels of strategy, tech, and talent preparedness for generative AI adoption, and less progress in the areas of risk and governance\\n\\nThe preparedness of some European organizations to adopt generative AI appears to be accelerating rapidly, but fewer gains are being made in the areas of risk management, regulatory readiness, and governance models. [...] According to a Deloitte survey of over 700 senior leaders in France, Germany, Italy, the Netherlands, Spain, and the United Kingdom conducted in June 2024, there was a significant increase over the previous six months in respondents reporting that their organizations are highly prepared or very highly prepared to adopt gen AI in the areas of strategy (up 11 percentage points since December 2023), technology and infrastructure (up 9 percentage points), and talent (up 8 percentage points). [...] The latest wave of Deloitte’s State of Generative AI in the Enterprise survey also found that Europe-based respondents are focusing less on gen AI’s short-term operational use cases such as reducing costs (down 8 percentage points since December 2023) or improving efficiency and productivity (down 4 percentage points), and instead are turning their attention to applications that can help them gain a longer-term competitive advantage and secure strategic benefits. For example, more respondents', 'score': 0.9281033}, {'title': 'What is holding back artificial intelligence adoption in Europe?', 'url': 'https://www.bruegel.org/policy-brief/what-holding-back-artificial-intelligence-adoption-europe', 'content': 'What is clear is that AI adoption in Europe is low and likely running behind other parts of the world. Discussions on the barriers to AI advancement often mix up different stages of innovation – research, development and adoption. Each stage is constrained by the availability of skills, data and financing in the European market, but there are nuances in how these barriers arise in each of the three stages. [...] Artificial intelligence (AI) is considered a key driver of future economic development, expected to increase labour productivity and economic growth worldwide. To realise these gains, AI technologies need to be adopted by companies and integrated into their operations. However, it is unclear what the current level of AI adoption by European firms actually is. Estimates vary widely because of uneven data collection and lack of a standard definition and taxonomy of AI. [...] To accelerate the roll-out of AI technology across the European Union, policymakers should alleviate constraints to adoption faced by firms, both in the environmental context – labour market, financial market and regulation – and in the technological context – data availability, basic digitisation of businesses and technological uncertainty.', 'score': 0.9237645}, {'title': \"Unlocking Europe's AI Potential\", 'url': 'https://www.unlockingeuropesaipotential.com/', 'content': \"As AI reshapes the global economy, Europe faces a crucial moment. The past year has witnessed widespread adoption of AI, popularised by generative AI and large language models (LLMs), with our research suggesting Europe could achieve near-universal business adoption of AI by 2030. [...] This report reveals that Europe is at a critical juncture. While businesses and citizens show growing enthusiasm for AI's potential, startups are ahead in driving innovation and business transformation with AI. In contrast, larger companies remain primarily focused on early experimentation and the lowest-hanging fruit of efficiency gains at the expense of deeper adoption. This divergence risks creating a two-tier AI economy that could limit Europe's potential to leverage the benefits of digital [...] \\u200b\\n\\nOur research draws on independent studies conducted by Strand Partners, encompassing over 15,000 citizens and 15,000 businesses across the European Union, UK, and Switzerland. The breadth and depth of this research provides unprecedented insights into the state of AI adoption and its implications for Europe's future competitiveness.\", 'score': 0.9222657}, {'title': \"Time to place our bets: Europe's AI opportunity - McKinsey\", 'url': 'https://www.mckinsey.com/capabilities/quantumblack/our-insights/time-to-place-our-bets-europes-ai-opportunity', 'content': 'Per the 2023 McKinsey Global Survey on the state of AI, Europe lags behind North America in gen AI adoption by 30 percent, with 40 percent of surveyed North American companies reporting having adopted gen AI in at least one business function, compared with about 30 percent for surveyed European companies.[15Survey question, with 1,363 responses: Has the organization adopted AI in at least one business function?](javascript:void(0);) [...] When it comes to unlocking the full potential of gen AI, Europe sits at a crossroads. Given the technology’s novelty, the adoption race remains wide open. Europe has numerous opportunities to tactically reinforce its positions along the value chain while ensuring that it guides gen AI development by ethical considerations. Policy makers must understand that the stakes here are considerable and extend beyond immediate economic impacts. Europe’s participation in the current AI boom is important [...] *   **A three-lens approach–on adoption, creation, and energy–is required to assess Europe’s competitiveness in the emerging generative AI (gen AI) economy.** While much of the current discourse centers around large language models (LLMs), European policy makers and business leaders must look beyond LLMs. Adopting a holistic approach to capitalize fully on gen AI’s potential could boost European labor productivity by up to 3 percent annually through 2030.', 'score': 0.91563576}, {'title': \"Bridging The AI Divide: Why Europe's AI Future Depends ... - Forbes\", 'url': 'https://www.forbes.com/sites/bernardmarr/2025/03/14/bridging-the-ai-divide-why-europes-ai-future-depends-on-transformative-innovation/', 'content': \"For governments, secure adoption of the technology, responsible AI education, and continued investment in skill-building through public-private partnerships are all critical priorities.\\n\\n**The European AI Opportunity**\\n-------------------------------\\n\\nEurope has strong foundations for AI success — robust research capabilities, strong institutions, innovative startups, and public sector adoption. The current adoption trends are encouraging, particularly in healthcare and sustainability. [...] ![Image 1: Five businesses adopt AI every minute in Europe, yet a concerning gap is emerging between nimble startups and cautious enterprises – AWS's latest report reveals what's at stake and how to win in this transformative race.](https://imageio.forbes.com/specials-images/imageserve/67d3cbdba3bb0d39350bc96e/Five-businesses-adopt-AI-every-minute-in-Europe--yet-a-concerning-gap-is-emerging/0x0.jpg?format=jpg&crop=2492,1401,x2,y0,safe&width=1440)\", 'score': 0.89720124}]}\n"
     ]
    },
    {
     "data": {
      "text/plain": [
       "{'messages': [HumanMessage(content='give me a detailed explaination', additional_kwargs={}, response_metadata={}),\n",
       "  AIMessage(content='Based on the provided context, I will give a detailed explanation of the topic that appears to be the focus of the documents: the gap between Europe and the US in terms of data centers, cloud computing, supercomputing, and AI/IT spending.\\n\\nThe documents highlight that European data centers are largely owned by US companies, with European cloud companies such as OVH and UpCloud having only about 5% global market share, compared to over 70% for US players like Amazon Web Services, Google, and Microsoft. This disparity is also reflected in the supercomputing capacity, with Europe having only half the capacity of the US in terms of flop/s, which is essential for basic and applied research.\\n\\nOne of the reasons for this gap is the emergence of private players in the US specializing in supercomputing, such as CoreWeave, whereas European supercomputers are mostly located in research centers. Additionally, the operating costs of European data centers are typically more than 50% higher, which can be a significant barrier to competitiveness.\\n\\nThe documents also touch on the topic of AI and IT spending, with Western Europe lagging behind the US. According to the data, there is an average gap of 50% in absolute value and 45% in relative value to sales between Western Europe and the US in terms of IT internal spending and AI external spending. This gap is significant, and the authors suggest that it is time for Europe to \"place our bets\" and invest in AI to bridge this gap.\\n\\nThe exhibits and data provided in the documents, such as Exhibit 3, show that the gap between the US and Western Europe is significant across various sectors, with some sectors having a size ratio of 2:1 or more between the two regions. The authors argue that Europe needs to catch up in terms of AI and IT spending to remain competitive and take advantage of the opportunities presented by these technologies.\\n\\nOverall, the documents provide a detailed analysis of the gap between Europe and the US in terms of data centers, cloud computing, supercomputing, and AI/IT spending, and argue that Europe needs to invest in these areas to remain competitive and take advantage of the opportunities presented by these technologies.', additional_kwargs={}, response_metadata={})],\n",
       " 'question_category': 'web_search',\n",
       " 'llm_response': 'Based on the provided context, I will give a detailed explanation of the topic that appears to be the focus of the documents: the gap between Europe and the US in terms of data centers, cloud computing, supercomputing, and AI/IT spending.\\n\\nThe documents highlight that European data centers are largely owned by US companies, with European cloud companies such as OVH and UpCloud having only about 5% global market share, compared to over 70% for US players like Amazon Web Services, Google, and Microsoft. This disparity is also reflected in the supercomputing capacity, with Europe having only half the capacity of the US in terms of flop/s, which is essential for basic and applied research.\\n\\nOne of the reasons for this gap is the emergence of private players in the US specializing in supercomputing, such as CoreWeave, whereas European supercomputers are mostly located in research centers. Additionally, the operating costs of European data centers are typically more than 50% higher, which can be a significant barrier to competitiveness.\\n\\nThe documents also touch on the topic of AI and IT spending, with Western Europe lagging behind the US. According to the data, there is an average gap of 50% in absolute value and 45% in relative value to sales between Western Europe and the US in terms of IT internal spending and AI external spending. This gap is significant, and the authors suggest that it is time for Europe to \"place our bets\" and invest in AI to bridge this gap.\\n\\nThe exhibits and data provided in the documents, such as Exhibit 3, show that the gap between the US and Western Europe is significant across various sectors, with some sectors having a size ratio of 2:1 or more between the two regions. The authors argue that Europe needs to catch up in terms of AI and IT spending to remain competitive and take advantage of the opportunities presented by these technologies.\\n\\nOverall, the documents provide a detailed analysis of the gap between Europe and the US in terms of data centers, cloud computing, supercomputing, and AI/IT spending, and argue that Europe needs to invest in these areas to remain competitive and take advantage of the opportunities presented by these technologies.',\n",
       " 'documents': [Document(metadata={}, page_content='these European data centers are owned by \\nUS companies.27 In 2023, European cloud \\ncompanies (for example, OVH and UpCloud) \\nhad about 5 percent market share globally \\n(about 15 percent in Europe), while US players \\n(for example, Amazon Web Services, Google, \\nand Microsoft) had more than 70 percent global \\nmarket share.28 Furthermore, Europe has only \\nhalf the supercomputing capacity in flop/s,29 \\nwhich is increasingly necessary in basic and \\napplied research.30 This is partially because \\nthe United States has seen the emergence \\nof private players specializing in this segment \\n(for example, CoreWeave), while Europe \\nsupercomputers mostly lie in research centers. \\nWhat’s more, the operating costs of European \\ndata centers are typically more than 50 percent'),\n",
       "  Document(metadata={}, page_content='Designed by McKinsey Global Publishing \\nCopyright © 2024 McKinsey & Company. All rights reserved.\\nAlexander Sukharevsky, a global leader of QuantumBlack, AI by McKinsey, is a senior partner in McKinsey’s London office; \\nEric Hazan is a senior partner in the Paris office, where Marc-Antoine de la Chevasnerie is a partner and Guillaume Dagorret \\nis a McKinsey Global Institute (MGI) senior fellow; Sven Smit, the chair of MGI, is a senior partner in the Amsterdam office, \\nwhere Marc de Jong is a senior partner; Solveigh Hieronimus is a senior partner in the Munich office; and Jan Mischke is an \\nMGI partner in the Zurich office.\\nThe authors wish to thank Adrien Fresko, Arjita Bhan, Arnaud Tournesac, Christoph Sohns, Gardar Björnsson Rova, Klaus'),\n",
       "  Document(metadata={}, page_content='Exhibit 3\\nNote: AI external spending measured as external spending on AI infrastructure, software, and services. Sectors ordered from most similar in size to least similar.  IT spending \\nused as proxy for AI internal spending. Sectors ordered from most similar in size to least similar.\\n1Austria, Belgium, Denmark, Finland, France, Germany, Greece, Ireland, Italy, Netherlands, Norway, Portugal, Spain, Sweden, Switzerland, and UK.\\n2Sectors with <2:1 size ratio between US and Western Europe or Western Europe and US.\\n3Sectors with ≥2:1 size ratio between US and Western Europe or Western Europe and US.\\nSource: Worldwide AI and Generative AI Spending Guide, IDC, February 2024; McKinsey analysis\\nWestern Europe lags behind the United States in AI and IT spending across'),\n",
       "  Document(metadata={}, page_content='Average gap in absolute value 50%\\nIT internal spending Western Europe\\nUS\\nAverage gap in relative value to sales 45%\\nAI external spending\\nIT internal spending\\n6\\nTime to place our bets: Europe’s AI opportunity')],\n",
       " 'web_search_results': [{'title': 'EU gen AI adoption | Deloitte Insights',\n",
       "   'url': 'https://www2.deloitte.com/us/en/insights/deloitte-insights-magazine/issue-33/ai-regulation-clarity-boosts-preparedness-for-eu-ai-act.html',\n",
       "   'content': '## Europe-based respondents to a Deloitte survey report higher levels of strategy, tech, and talent preparedness for generative AI adoption, and less progress in the areas of risk and governance\\n\\nThe preparedness of some European organizations to adopt generative AI appears to be accelerating rapidly, but fewer gains are being made in the areas of risk management, regulatory readiness, and governance models. [...] According to a Deloitte survey of over 700 senior leaders in France, Germany, Italy, the Netherlands, Spain, and the United Kingdom conducted in June 2024, there was a significant increase over the previous six months in respondents reporting that their organizations are highly prepared or very highly prepared to adopt gen AI in the areas of strategy (up 11 percentage points since December 2023), technology and infrastructure (up 9 percentage points), and talent (up 8 percentage points). [...] The latest wave of Deloitte’s State of Generative AI in the Enterprise survey also found that Europe-based respondents are focusing less on gen AI’s short-term operational use cases such as reducing costs (down 8 percentage points since December 2023) or improving efficiency and productivity (down 4 percentage points), and instead are turning their attention to applications that can help them gain a longer-term competitive advantage and secure strategic benefits. For example, more respondents',\n",
       "   'score': 0.9281033},\n",
       "  {'title': 'What is holding back artificial intelligence adoption in Europe?',\n",
       "   'url': 'https://www.bruegel.org/policy-brief/what-holding-back-artificial-intelligence-adoption-europe',\n",
       "   'content': 'What is clear is that AI adoption in Europe is low and likely running behind other parts of the world. Discussions on the barriers to AI advancement often mix up different stages of innovation – research, development and adoption. Each stage is constrained by the availability of skills, data and financing in the European market, but there are nuances in how these barriers arise in each of the three stages. [...] Artificial intelligence (AI) is considered a key driver of future economic development, expected to increase labour productivity and economic growth worldwide. To realise these gains, AI technologies need to be adopted by companies and integrated into their operations. However, it is unclear what the current level of AI adoption by European firms actually is. Estimates vary widely because of uneven data collection and lack of a standard definition and taxonomy of AI. [...] To accelerate the roll-out of AI technology across the European Union, policymakers should alleviate constraints to adoption faced by firms, both in the environmental context – labour market, financial market and regulation – and in the technological context – data availability, basic digitisation of businesses and technological uncertainty.',\n",
       "   'score': 0.9237645},\n",
       "  {'title': \"Unlocking Europe's AI Potential\",\n",
       "   'url': 'https://www.unlockingeuropesaipotential.com/',\n",
       "   'content': \"As AI reshapes the global economy, Europe faces a crucial moment. The past year has witnessed widespread adoption of AI, popularised by generative AI and large language models (LLMs), with our research suggesting Europe could achieve near-universal business adoption of AI by 2030. [...] This report reveals that Europe is at a critical juncture. While businesses and citizens show growing enthusiasm for AI's potential, startups are ahead in driving innovation and business transformation with AI. In contrast, larger companies remain primarily focused on early experimentation and the lowest-hanging fruit of efficiency gains at the expense of deeper adoption. This divergence risks creating a two-tier AI economy that could limit Europe's potential to leverage the benefits of digital [...] \\u200b\\n\\nOur research draws on independent studies conducted by Strand Partners, encompassing over 15,000 citizens and 15,000 businesses across the European Union, UK, and Switzerland. The breadth and depth of this research provides unprecedented insights into the state of AI adoption and its implications for Europe's future competitiveness.\",\n",
       "   'score': 0.9222657},\n",
       "  {'title': \"Time to place our bets: Europe's AI opportunity - McKinsey\",\n",
       "   'url': 'https://www.mckinsey.com/capabilities/quantumblack/our-insights/time-to-place-our-bets-europes-ai-opportunity',\n",
       "   'content': 'Per the 2023 McKinsey Global Survey on the state of AI, Europe lags behind North America in gen AI adoption by 30 percent, with 40 percent of surveyed North American companies reporting having adopted gen AI in at least one business function, compared with about 30 percent for surveyed European companies.[15Survey question, with 1,363 responses: Has the organization adopted AI in at least one business function?](javascript:void(0);) [...] When it comes to unlocking the full potential of gen AI, Europe sits at a crossroads. Given the technology’s novelty, the adoption race remains wide open. Europe has numerous opportunities to tactically reinforce its positions along the value chain while ensuring that it guides gen AI development by ethical considerations. Policy makers must understand that the stakes here are considerable and extend beyond immediate economic impacts. Europe’s participation in the current AI boom is important [...] *   **A three-lens approach–on adoption, creation, and energy–is required to assess Europe’s competitiveness in the emerging generative AI (gen AI) economy.** While much of the current discourse centers around large language models (LLMs), European policy makers and business leaders must look beyond LLMs. Adopting a holistic approach to capitalize fully on gen AI’s potential could boost European labor productivity by up to 3 percent annually through 2030.',\n",
       "   'score': 0.91563576},\n",
       "  {'title': \"Bridging The AI Divide: Why Europe's AI Future Depends ... - Forbes\",\n",
       "   'url': 'https://www.forbes.com/sites/bernardmarr/2025/03/14/bridging-the-ai-divide-why-europes-ai-future-depends-on-transformative-innovation/',\n",
       "   'content': \"For governments, secure adoption of the technology, responsible AI education, and continued investment in skill-building through public-private partnerships are all critical priorities.\\n\\n**The European AI Opportunity**\\n-------------------------------\\n\\nEurope has strong foundations for AI success — robust research capabilities, strong institutions, innovative startups, and public sector adoption. The current adoption trends are encouraging, particularly in healthcare and sustainability. [...] ![Image 1: Five businesses adopt AI every minute in Europe, yet a concerning gap is emerging between nimble startups and cautious enterprises – AWS's latest report reveals what's at stake and how to win in this transformative race.](https://imageio.forbes.com/specials-images/imageserve/67d3cbdba3bb0d39350bc96e/Five-businesses-adopt-AI-every-minute-in-Europe--yet-a-concerning-gap-is-emerging/0x0.jpg?format=jpg&crop=2492,1401,x2,y0,safe&width=1440)\",\n",
       "   'score': 0.89720124}]}"
      ]
     },
     "execution_count": 292,
     "metadata": {},
     "output_type": "execute_result"
    }
   ],
   "source": [
    "messages = [HumanMessage(content=\"give me a detailed explaination\")]\n",
    "response = workflow.invoke({\"messages\": messages}, config=config)\n",
    "response"
   ]
  },
  {
   "cell_type": "code",
   "execution_count": 293,
   "id": "1a9839ef",
   "metadata": {},
   "outputs": [
    {
     "data": {
      "text/plain": [
       "'Based on the provided context, I will give a detailed explanation of the topic that appears to be the focus of the documents: the gap between Europe and the US in terms of data centers, cloud computing, supercomputing, and AI/IT spending.\\n\\nThe documents highlight that European data centers are largely owned by US companies, with European cloud companies such as OVH and UpCloud having only about 5% global market share, compared to over 70% for US players like Amazon Web Services, Google, and Microsoft. This disparity is also reflected in the supercomputing capacity, with Europe having only half the capacity of the US in terms of flop/s, which is essential for basic and applied research.\\n\\nOne of the reasons for this gap is the emergence of private players in the US specializing in supercomputing, such as CoreWeave, whereas European supercomputers are mostly located in research centers. Additionally, the operating costs of European data centers are typically more than 50% higher, which can be a significant barrier to competitiveness.\\n\\nThe documents also touch on the topic of AI and IT spending, with Western Europe lagging behind the US. According to the data, there is an average gap of 50% in absolute value and 45% in relative value to sales between Western Europe and the US in terms of IT internal spending and AI external spending. This gap is significant, and the authors suggest that it is time for Europe to \"place our bets\" and invest in AI to bridge this gap.\\n\\nThe exhibits and data provided in the documents, such as Exhibit 3, show that the gap between the US and Western Europe is significant across various sectors, with some sectors having a size ratio of 2:1 or more between the two regions. The authors argue that Europe needs to catch up in terms of AI and IT spending to remain competitive and take advantage of the opportunities presented by these technologies.\\n\\nOverall, the documents provide a detailed analysis of the gap between Europe and the US in terms of data centers, cloud computing, supercomputing, and AI/IT spending, and argue that Europe needs to invest in these areas to remain competitive and take advantage of the opportunities presented by these technologies.'"
      ]
     },
     "execution_count": 293,
     "metadata": {},
     "output_type": "execute_result"
    }
   ],
   "source": [
    "response['llm_response']"
   ]
  },
  {
   "cell_type": "code",
   "execution_count": 294,
   "id": "498e8996",
   "metadata": {},
   "outputs": [
    {
     "data": {
      "text/plain": [
       "[Document(metadata={}, page_content='these European data centers are owned by \\nUS companies.27 In 2023, European cloud \\ncompanies (for example, OVH and UpCloud) \\nhad about 5 percent market share globally \\n(about 15 percent in Europe), while US players \\n(for example, Amazon Web Services, Google, \\nand Microsoft) had more than 70 percent global \\nmarket share.28 Furthermore, Europe has only \\nhalf the supercomputing capacity in flop/s,29 \\nwhich is increasingly necessary in basic and \\napplied research.30 This is partially because \\nthe United States has seen the emergence \\nof private players specializing in this segment \\n(for example, CoreWeave), while Europe \\nsupercomputers mostly lie in research centers. \\nWhat’s more, the operating costs of European \\ndata centers are typically more than 50 percent'),\n",
       " Document(metadata={}, page_content='Designed by McKinsey Global Publishing \\nCopyright © 2024 McKinsey & Company. All rights reserved.\\nAlexander Sukharevsky, a global leader of QuantumBlack, AI by McKinsey, is a senior partner in McKinsey’s London office; \\nEric Hazan is a senior partner in the Paris office, where Marc-Antoine de la Chevasnerie is a partner and Guillaume Dagorret \\nis a McKinsey Global Institute (MGI) senior fellow; Sven Smit, the chair of MGI, is a senior partner in the Amsterdam office, \\nwhere Marc de Jong is a senior partner; Solveigh Hieronimus is a senior partner in the Munich office; and Jan Mischke is an \\nMGI partner in the Zurich office.\\nThe authors wish to thank Adrien Fresko, Arjita Bhan, Arnaud Tournesac, Christoph Sohns, Gardar Björnsson Rova, Klaus'),\n",
       " Document(metadata={}, page_content='Exhibit 3\\nNote: AI external spending measured as external spending on AI infrastructure, software, and services. Sectors ordered from most similar in size to least similar.  IT spending \\nused as proxy for AI internal spending. Sectors ordered from most similar in size to least similar.\\n1Austria, Belgium, Denmark, Finland, France, Germany, Greece, Ireland, Italy, Netherlands, Norway, Portugal, Spain, Sweden, Switzerland, and UK.\\n2Sectors with <2:1 size ratio between US and Western Europe or Western Europe and US.\\n3Sectors with ≥2:1 size ratio between US and Western Europe or Western Europe and US.\\nSource: Worldwide AI and Generative AI Spending Guide, IDC, February 2024; McKinsey analysis\\nWestern Europe lags behind the United States in AI and IT spending across'),\n",
       " Document(metadata={}, page_content='Average gap in absolute value 50%\\nIT internal spending Western Europe\\nUS\\nAverage gap in relative value to sales 45%\\nAI external spending\\nIT internal spending\\n6\\nTime to place our bets: Europe’s AI opportunity')]"
      ]
     },
     "execution_count": 294,
     "metadata": {},
     "output_type": "execute_result"
    }
   ],
   "source": [
    "response['documents']"
   ]
  },
  {
   "cell_type": "code",
   "execution_count": 270,
   "id": "74d7e570",
   "metadata": {},
   "outputs": [
    {
     "name": "stdout",
     "output_type": "stream",
     "text": [
      "================================\u001b[1m Human Message \u001b[0m=================================\n",
      "\n",
      "give me a detailed explaination\n",
      "==================================\u001b[1m Ai Message \u001b[0m==================================\n",
      "\n",
      "Based on the provided context, I will give a detailed explanation of the topic that appears to be the focus of the documents: the gap between Europe and the US in terms of data centers, cloud computing, supercomputing, and AI/IT spending.\n",
      "\n",
      "The documents highlight that European data centers are largely owned by US companies, with European cloud companies such as OVH and UpCloud having only about 5% global market share, compared to over 70% for US players like Amazon Web Services, Google, and Microsoft. This disparity is also reflected in the supercomputing capacity, with Europe having only half the capacity of the US in terms of flop/s, which is essential for basic and applied research.\n",
      "\n",
      "One of the reasons for this gap is the emergence of private players in the US specializing in supercomputing, such as CoreWeave, whereas European supercomputers are mostly located in research centers. Additionally, the operating costs of European data centers are typically more than 50% higher than those in the US.\n",
      "\n",
      "The documents also touch on the topic of AI and IT spending, with Western Europe lagging behind the US. According to the data, there is an average gap of 50% in absolute value and 45% in relative value to sales between Western Europe and the US in terms of IT internal spending and AI external spending.\n",
      "\n",
      "The authors of the documents, who are affiliated with McKinsey, seem to be emphasizing the need for Europe to catch up with the US in terms of investing in AI and IT infrastructure. They appear to be making a case for increased investment in these areas, highlighting the opportunities that Europe can capitalize on by bridging the gap with the US.\n",
      "\n",
      "Overall, the detailed explanation provided by the documents suggests that Europe is facing significant challenges in terms of competing with the US in the areas of data centers, cloud computing, supercomputing, and AI/IT spending. The authors are urging European stakeholders to take action to address these gaps and capitalize on the opportunities presented by AI and IT.\n"
     ]
    }
   ],
   "source": [
    "for m in response['messages']:\n",
    "    m.pretty_print()"
   ]
  },
  {
   "cell_type": "code",
   "execution_count": null,
   "id": "36fe4885",
   "metadata": {},
   "outputs": [],
   "source": []
  },
  {
   "cell_type": "code",
   "execution_count": 296,
   "id": "ac538500",
   "metadata": {},
   "outputs": [
    {
     "name": "stdout",
     "output_type": "stream",
     "text": [
      "question-->tell me products developed by germany in AI\n",
      "generate_answer_web_search-->{'messages': [HumanMessage(content='tell me products developed by germany in AI', additional_kwargs={}, response_metadata={}), ToolMessage(content='With [a strong presence in Germany](https://techround.co.uk/business/most-promising-industries-in-germany/), Aristek has developed AI-powered CRM systems and smart automation tools that optimise workflows and enhance customer engagement. Their bespoke AI development capabilities are particularly attractive to enterprises looking for end-to-end digital transformation.\\n\\n### Instinctools\\n\\n### insinctools\\n\\n![insinctools](https://techround.co.uk/wp-content/uploads/2025/04/insinctools.png) [...] Some of the top AI companies in Germany include Lateral, Innovacio Technologies, Aristek Systems, Instinctools, Vention, Plavno, OpenXcell and Indium, all of which are taking part in redefining what’s possible with artificial intelligence.\\n\\nThese are the top 8 AI companies in Germany.\\n\\n### Lateral\\n\\n![lateral-logo](https://techround.co.uk/wp-content/uploads/2025/04/lateral.png)\\n\\n![lateral-logo](https://techround.co.uk/wp-content/uploads/2025/04/lateral.png) [...] ![innovacio](https://techround.co.uk/wp-content/uploads/2025/04/innovacio.png)\\n\\nInnovacio Technologies is an AI-driven company based in Germany, offering transformative solutions across sectors such as healthcare, education and enterprise operations. The company specialises in AI and data science consulting, helping businesses unlock the full potential of automation, machine learning and predictive analytics.', tool_call_id='web_search'), ToolMessage(content='**Thanks to Open AI and its ChatGPT, AI applications have been experiencing unbridled hype for months. Much of the focus has been on generative AI and the big tech companies, particularly from the USA. Almost unnoticed, however, “AI made in Germany” has also developed into a seal of quality - and has a lot to offer in many important areas.** [...] The flagship AI companies in Germany do not come from the start-up centres in Berlin or Munich, but from North Rhine-Westphalia and Baden-Württemberg. Nor do they cater to the growing demand for content that is generated by artificial intelligence instead of humans, but instead aim to solve very specific problems.\\n\\n### DeepL [...] **Digitalisation & Technology, 05\\xa0June\\xa02024**\\n\\n# AI made in Germany\\n\\n## Cologne and Heidelberg instead of Silicon Valley\\n\\n![KI made in Germany](https://assets.ergo.com/content/dam/ergocom/en/bilder/next-magazin/2024/KI%20Germany%20Collage_1600x900.dam.jpg)', tool_call_id='web_search'), ToolMessage(content='As part of a globally leading organization for application-oriented research, the Fraunhofer Institute for Intelligent Analysis and Information Systems, based in Sankt Augustin/Bonn and with a satellite in Dresden, is one of Germany’s and Europe’s leading scientific institutes in the fields of artificial intelligence, machine learning and big data. Its 380 employees support companies in optimizing products, services, and processes, and in developing new digital business models. [...] According to RTL Deutschland, the collaboration between RTL and Fraunhofer IAIS not only offers technological advantages, but also promotes the sustainable and efficient use of AI through energy-efficient training, as already demonstrated in the development of “Teuken-7B.” With this initiative, RTL is sending a clear signal for the future: combining media expertise and technological innovation to develop and produce attractive content for millions of viewers and users. [...] The collaboration is to result in pioneering AI solutions specifically tailored to the requirements of the Bertelsmann media group. A central focus is on the development and implementation of intelligent multimodal systems to create innovative applications for the media sector. At the same time, customized data processes and training methods for AI models are being developed in secure, data protection-compliant environments in order to design and play out content in a more efficient and', tool_call_id='web_search'), ToolMessage(content='# Cutting-edge technology: AI robots made in Germany | DW News\\n\\nDW News\\n1307 likes\\n149528 views\\n25 Jan 2025\\nNeura Robotics, a German company is pushing the boundaries of robotics and AI technology. The 4NE-1, an intelligent humanoid robot, is designed to revolutionize domestic and industrial tasks.\\n\\nFor more news go to: http://www.dw.com/en/ [...] Subscribe: https://www.youtube.com/user/deutschewelleenglish?sub_confirmation=1\\n258 comments', tool_call_id='web_search'), ToolMessage(content='Morik thinks this is \"incredibly valuable\" for the manufacturing sector, even though it may not \"grab headlines.\"\\n\\n## Cutting-edge technology: AI robots made in Germany\\n\\nTo view this video please enable JavaScript, and consider upgrading to a web browser that [supports HTML5 video](https://videojs.com/html5-video-support/) [...] That\\'s why she believes it\\'s crucial for Europe to continue developing its foundation models and to \"harness its vast troves of industrial data.\"\\n\\nEuropean AI is more trustworthy, she said,\\xa0which is why successful AI models such as the German Fraunhofer Institute\\'s Teuken-7B model and the AI applications developed by French company Mistral must be expanded upon. [...] Ommer, one of Germany\\'s leading AI specialists, was the mastermind behind German\\xa0[technology](/en/technology/t-17516578) startup Black Forest Labs. The company has developed an image generator that has convinced even US venture capital providers and [Elon Musk\\'s](/en/elon-musk/t-63587027) [social media platform X](/en/x-formerly-twitter/t-38240794) that integrated the AI tool.\\n\\n## Opportunities \\'beyond large foundation models\\'', tool_call_id='web_search'), AIMessage(content='Morik believes that German AI is \"incredibly valuable\" for the manufacturing sector, despite not being headline-grabbing, as seen in the article from DW (https://www.dw.com/en/germany-lags-behind-in-ai-race/a-71593167). European AI, including models like the German Fraunhofer Institute\\'s Teuken-7B, is considered more trustworthy. The development of AI in Germany is also supported by companies like Black Forest Labs, which has created an image generator used by Elon Musk\\'s social media platform X (https://www.dw.com/en/germany-lags-behind-in-ai-race/a-71593167).', additional_kwargs={}, response_metadata={})], 'question_category': 'vector_store', 'llm_response': 'Morik believes that German AI is \"incredibly valuable\" for the manufacturing sector, despite not being headline-grabbing, as seen in the article from DW (https://www.dw.com/en/germany-lags-behind-in-ai-race/a-71593167). European AI, including models like the German Fraunhofer Institute\\'s Teuken-7B, is considered more trustworthy. The development of AI in Germany is also supported by companies like Black Forest Labs, which has created an image generator used by Elon Musk\\'s social media platform X (https://www.dw.com/en/germany-lags-behind-in-ai-race/a-71593167).', 'documents': [Document(metadata={}, page_content='these European data centers are owned by \\nUS companies.27 In 2023, European cloud \\ncompanies (for example, OVH and UpCloud) \\nhad about 5 percent market share globally \\n(about 15 percent in Europe), while US players \\n(for example, Amazon Web Services, Google, \\nand Microsoft) had more than 70 percent global \\nmarket share.28 Furthermore, Europe has only \\nhalf the supercomputing capacity in flop/s,29 \\nwhich is increasingly necessary in basic and \\napplied research.30 This is partially because \\nthe United States has seen the emergence \\nof private players specializing in this segment \\n(for example, CoreWeave), while Europe \\nsupercomputers mostly lie in research centers. \\nWhat’s more, the operating costs of European \\ndata centers are typically more than 50 percent'), Document(metadata={}, page_content='Designed by McKinsey Global Publishing \\nCopyright © 2024 McKinsey & Company. All rights reserved.\\nAlexander Sukharevsky, a global leader of QuantumBlack, AI by McKinsey, is a senior partner in McKinsey’s London office; \\nEric Hazan is a senior partner in the Paris office, where Marc-Antoine de la Chevasnerie is a partner and Guillaume Dagorret \\nis a McKinsey Global Institute (MGI) senior fellow; Sven Smit, the chair of MGI, is a senior partner in the Amsterdam office, \\nwhere Marc de Jong is a senior partner; Solveigh Hieronimus is a senior partner in the Munich office; and Jan Mischke is an \\nMGI partner in the Zurich office.\\nThe authors wish to thank Adrien Fresko, Arjita Bhan, Arnaud Tournesac, Christoph Sohns, Gardar Björnsson Rova, Klaus'), Document(metadata={}, page_content='Exhibit 3\\nNote: AI external spending measured as external spending on AI infrastructure, software, and services. Sectors ordered from most similar in size to least similar.  IT spending \\nused as proxy for AI internal spending. Sectors ordered from most similar in size to least similar.\\n1Austria, Belgium, Denmark, Finland, France, Germany, Greece, Ireland, Italy, Netherlands, Norway, Portugal, Spain, Sweden, Switzerland, and UK.\\n2Sectors with <2:1 size ratio between US and Western Europe or Western Europe and US.\\n3Sectors with ≥2:1 size ratio between US and Western Europe or Western Europe and US.\\nSource: Worldwide AI and Generative AI Spending Guide, IDC, February 2024; McKinsey analysis\\nWestern Europe lags behind the United States in AI and IT spending across'), Document(metadata={}, page_content='Average gap in absolute value 50%\\nIT internal spending Western Europe\\nUS\\nAverage gap in relative value to sales 45%\\nAI external spending\\nIT internal spending\\n6\\nTime to place our bets: Europe’s AI opportunity')], 'web_search_results': [{'title': 'Top 8 AI Companies In Germany - TechRound', 'url': 'https://techround.co.uk/artificial-intelligence/top-8-ai-companies-in-germany/', 'content': 'With [a strong presence in Germany](https://techround.co.uk/business/most-promising-industries-in-germany/), Aristek has developed AI-powered CRM systems and smart automation tools that optimise workflows and enhance customer engagement. Their bespoke AI development capabilities are particularly attractive to enterprises looking for end-to-end digital transformation.\\n\\n### Instinctools\\n\\n### insinctools\\n\\n![insinctools](https://techround.co.uk/wp-content/uploads/2025/04/insinctools.png) [...] Some of the top AI companies in Germany include Lateral, Innovacio Technologies, Aristek Systems, Instinctools, Vention, Plavno, OpenXcell and Indium, all of which are taking part in redefining what’s possible with artificial intelligence.\\n\\nThese are the top 8 AI companies in Germany.\\n\\n### Lateral\\n\\n![lateral-logo](https://techround.co.uk/wp-content/uploads/2025/04/lateral.png)\\n\\n![lateral-logo](https://techround.co.uk/wp-content/uploads/2025/04/lateral.png) [...] ![innovacio](https://techround.co.uk/wp-content/uploads/2025/04/innovacio.png)\\n\\nInnovacio Technologies is an AI-driven company based in Germany, offering transformative solutions across sectors such as healthcare, education and enterprise operations. The company specialises in AI and data science consulting, helping businesses unlock the full potential of automation, machine learning and predictive analytics.', 'score': 0.8058924}, {'title': 'AI made in Germany - ERGO Group', 'url': 'https://www.ergo.com/en/next-magazine/digitalisation-and-technology/2024/ai-made-in-germany-deepl-aleph-alpha-chatgpt', 'content': '**Thanks to Open AI and its ChatGPT, AI applications have been experiencing unbridled hype for months. Much of the focus has been on generative AI and the big tech companies, particularly from the USA. Almost unnoticed, however, “AI made in Germany” has also developed into a seal of quality - and has a lot to offer in many important areas.** [...] The flagship AI companies in Germany do not come from the start-up centres in Berlin or Munich, but from North Rhine-Westphalia and Baden-Württemberg. Nor do they cater to the growing demand for content that is generated by artificial intelligence instead of humans, but instead aim to solve very specific problems.\\n\\n### DeepL [...] **Digitalisation & Technology, 05\\xa0June\\xa02024**\\n\\n# AI made in Germany\\n\\n## Cologne and Heidelberg instead of Silicon Valley\\n\\n![KI made in Germany](https://assets.ergo.com/content/dam/ergocom/en/bilder/next-magazin/2024/KI%20Germany%20Collage_1600x900.dam.jpg)', 'score': 0.7845341}, {'title': 'Artificial Intelligence Made In Germany - Bertelsmann SE & Co. KGaA', 'url': 'https://www.bertelsmann.com/news-and-media/news/artificial-intelligence-made-in-germany.jsp', 'content': 'As part of a globally leading organization for application-oriented research, the Fraunhofer Institute for Intelligent Analysis and Information Systems, based in Sankt Augustin/Bonn and with a satellite in Dresden, is one of Germany’s and Europe’s leading scientific institutes in the fields of artificial intelligence, machine learning and big data. Its 380 employees support companies in optimizing products, services, and processes, and in developing new digital business models. [...] According to RTL Deutschland, the collaboration between RTL and Fraunhofer IAIS not only offers technological advantages, but also promotes the sustainable and efficient use of AI through energy-efficient training, as already demonstrated in the development of “Teuken-7B.” With this initiative, RTL is sending a clear signal for the future: combining media expertise and technological innovation to develop and produce attractive content for millions of viewers and users. [...] The collaboration is to result in pioneering AI solutions specifically tailored to the requirements of the Bertelsmann media group. A central focus is on the development and implementation of intelligent multimodal systems to create innovative applications for the media sector. At the same time, customized data processes and training methods for AI models are being developed in secure, data protection-compliant environments in order to design and play out content in a more efficient and', 'score': 0.76152116}, {'title': 'Cutting-edge technology: AI robots made in Germany | DW News', 'url': 'https://www.youtube.com/watch?v=s3NmYL__-KA', 'content': '# Cutting-edge technology: AI robots made in Germany | DW News\\n\\nDW News\\n1307 likes\\n149528 views\\n25 Jan 2025\\nNeura Robotics, a German company is pushing the boundaries of robotics and AI technology. The 4NE-1, an intelligent humanoid robot, is designed to revolutionize domestic and industrial tasks.\\n\\nFor more news go to: http://www.dw.com/en/ [...] Subscribe: https://www.youtube.com/user/deutschewelleenglish?sub_confirmation=1\\n258 comments', 'score': 0.74385756}, {'title': 'German AI on the cutting edge, but commercially at a loss - DW', 'url': 'https://www.dw.com/en/germany-lags-behind-in-ai-race/a-71593167', 'content': 'Morik thinks this is \"incredibly valuable\" for the manufacturing sector, even though it may not \"grab headlines.\"\\n\\n## Cutting-edge technology: AI robots made in Germany\\n\\nTo view this video please enable JavaScript, and consider upgrading to a web browser that [supports HTML5 video](https://videojs.com/html5-video-support/) [...] That\\'s why she believes it\\'s crucial for Europe to continue developing its foundation models and to \"harness its vast troves of industrial data.\"\\n\\nEuropean AI is more trustworthy, she said,\\xa0which is why successful AI models such as the German Fraunhofer Institute\\'s Teuken-7B model and the AI applications developed by French company Mistral must be expanded upon. [...] Ommer, one of Germany\\'s leading AI specialists, was the mastermind behind German\\xa0[technology](/en/technology/t-17516578) startup Black Forest Labs. The company has developed an image generator that has convinced even US venture capital providers and [Elon Musk\\'s](/en/elon-musk/t-63587027) [social media platform X](/en/x-formerly-twitter/t-38240794) that integrated the AI tool.\\n\\n## Opportunities \\'beyond large foundation models\\'', 'score': 0.734139}]}\n"
     ]
    },
    {
     "data": {
      "text/plain": [
       "{'messages': [HumanMessage(content='tell me products developed by germany in AI', additional_kwargs={}, response_metadata={}),\n",
       "  ToolMessage(content='With [a strong presence in Germany](https://techround.co.uk/business/most-promising-industries-in-germany/), Aristek has developed AI-powered CRM systems and smart automation tools that optimise workflows and enhance customer engagement. Their bespoke AI development capabilities are particularly attractive to enterprises looking for end-to-end digital transformation.\\n\\n### Instinctools\\n\\n### insinctools\\n\\n![insinctools](https://techround.co.uk/wp-content/uploads/2025/04/insinctools.png) [...] Some of the top AI companies in Germany include Lateral, Innovacio Technologies, Aristek Systems, Instinctools, Vention, Plavno, OpenXcell and Indium, all of which are taking part in redefining what’s possible with artificial intelligence.\\n\\nThese are the top 8 AI companies in Germany.\\n\\n### Lateral\\n\\n![lateral-logo](https://techround.co.uk/wp-content/uploads/2025/04/lateral.png)\\n\\n![lateral-logo](https://techround.co.uk/wp-content/uploads/2025/04/lateral.png) [...] ![innovacio](https://techround.co.uk/wp-content/uploads/2025/04/innovacio.png)\\n\\nInnovacio Technologies is an AI-driven company based in Germany, offering transformative solutions across sectors such as healthcare, education and enterprise operations. The company specialises in AI and data science consulting, helping businesses unlock the full potential of automation, machine learning and predictive analytics.', tool_call_id='web_search'),\n",
       "  ToolMessage(content='**Thanks to Open AI and its ChatGPT, AI applications have been experiencing unbridled hype for months. Much of the focus has been on generative AI and the big tech companies, particularly from the USA. Almost unnoticed, however, “AI made in Germany” has also developed into a seal of quality - and has a lot to offer in many important areas.** [...] The flagship AI companies in Germany do not come from the start-up centres in Berlin or Munich, but from North Rhine-Westphalia and Baden-Württemberg. Nor do they cater to the growing demand for content that is generated by artificial intelligence instead of humans, but instead aim to solve very specific problems.\\n\\n### DeepL [...] **Digitalisation & Technology, 05\\xa0June\\xa02024**\\n\\n# AI made in Germany\\n\\n## Cologne and Heidelberg instead of Silicon Valley\\n\\n![KI made in Germany](https://assets.ergo.com/content/dam/ergocom/en/bilder/next-magazin/2024/KI%20Germany%20Collage_1600x900.dam.jpg)', tool_call_id='web_search'),\n",
       "  ToolMessage(content='As part of a globally leading organization for application-oriented research, the Fraunhofer Institute for Intelligent Analysis and Information Systems, based in Sankt Augustin/Bonn and with a satellite in Dresden, is one of Germany’s and Europe’s leading scientific institutes in the fields of artificial intelligence, machine learning and big data. Its 380 employees support companies in optimizing products, services, and processes, and in developing new digital business models. [...] According to RTL Deutschland, the collaboration between RTL and Fraunhofer IAIS not only offers technological advantages, but also promotes the sustainable and efficient use of AI through energy-efficient training, as already demonstrated in the development of “Teuken-7B.” With this initiative, RTL is sending a clear signal for the future: combining media expertise and technological innovation to develop and produce attractive content for millions of viewers and users. [...] The collaboration is to result in pioneering AI solutions specifically tailored to the requirements of the Bertelsmann media group. A central focus is on the development and implementation of intelligent multimodal systems to create innovative applications for the media sector. At the same time, customized data processes and training methods for AI models are being developed in secure, data protection-compliant environments in order to design and play out content in a more efficient and', tool_call_id='web_search'),\n",
       "  ToolMessage(content='# Cutting-edge technology: AI robots made in Germany | DW News\\n\\nDW News\\n1307 likes\\n149528 views\\n25 Jan 2025\\nNeura Robotics, a German company is pushing the boundaries of robotics and AI technology. The 4NE-1, an intelligent humanoid robot, is designed to revolutionize domestic and industrial tasks.\\n\\nFor more news go to: http://www.dw.com/en/ [...] Subscribe: https://www.youtube.com/user/deutschewelleenglish?sub_confirmation=1\\n258 comments', tool_call_id='web_search'),\n",
       "  ToolMessage(content='Morik thinks this is \"incredibly valuable\" for the manufacturing sector, even though it may not \"grab headlines.\"\\n\\n## Cutting-edge technology: AI robots made in Germany\\n\\nTo view this video please enable JavaScript, and consider upgrading to a web browser that [supports HTML5 video](https://videojs.com/html5-video-support/) [...] That\\'s why she believes it\\'s crucial for Europe to continue developing its foundation models and to \"harness its vast troves of industrial data.\"\\n\\nEuropean AI is more trustworthy, she said,\\xa0which is why successful AI models such as the German Fraunhofer Institute\\'s Teuken-7B model and the AI applications developed by French company Mistral must be expanded upon. [...] Ommer, one of Germany\\'s leading AI specialists, was the mastermind behind German\\xa0[technology](/en/technology/t-17516578) startup Black Forest Labs. The company has developed an image generator that has convinced even US venture capital providers and [Elon Musk\\'s](/en/elon-musk/t-63587027) [social media platform X](/en/x-formerly-twitter/t-38240794) that integrated the AI tool.\\n\\n## Opportunities \\'beyond large foundation models\\'', tool_call_id='web_search'),\n",
       "  AIMessage(content='Morik believes that German AI is \"incredibly valuable\" for the manufacturing sector, despite not being headline-grabbing, as seen in the article from DW (https://www.dw.com/en/germany-lags-behind-in-ai-race/a-71593167). European AI, including models like the German Fraunhofer Institute\\'s Teuken-7B, is considered more trustworthy. The development of AI in Germany is also supported by companies like Black Forest Labs, which has created an image generator used by Elon Musk\\'s social media platform X (https://www.dw.com/en/germany-lags-behind-in-ai-race/a-71593167).', additional_kwargs={}, response_metadata={})],\n",
       " 'question_category': 'vector_store',\n",
       " 'llm_response': 'Morik believes that German AI is \"incredibly valuable\" for the manufacturing sector, despite not being headline-grabbing, as seen in the article from DW (https://www.dw.com/en/germany-lags-behind-in-ai-race/a-71593167). European AI, including models like the German Fraunhofer Institute\\'s Teuken-7B, is considered more trustworthy. The development of AI in Germany is also supported by companies like Black Forest Labs, which has created an image generator used by Elon Musk\\'s social media platform X (https://www.dw.com/en/germany-lags-behind-in-ai-race/a-71593167).',\n",
       " 'documents': [Document(metadata={}, page_content='these European data centers are owned by \\nUS companies.27 In 2023, European cloud \\ncompanies (for example, OVH and UpCloud) \\nhad about 5 percent market share globally \\n(about 15 percent in Europe), while US players \\n(for example, Amazon Web Services, Google, \\nand Microsoft) had more than 70 percent global \\nmarket share.28 Furthermore, Europe has only \\nhalf the supercomputing capacity in flop/s,29 \\nwhich is increasingly necessary in basic and \\napplied research.30 This is partially because \\nthe United States has seen the emergence \\nof private players specializing in this segment \\n(for example, CoreWeave), while Europe \\nsupercomputers mostly lie in research centers. \\nWhat’s more, the operating costs of European \\ndata centers are typically more than 50 percent'),\n",
       "  Document(metadata={}, page_content='Designed by McKinsey Global Publishing \\nCopyright © 2024 McKinsey & Company. All rights reserved.\\nAlexander Sukharevsky, a global leader of QuantumBlack, AI by McKinsey, is a senior partner in McKinsey’s London office; \\nEric Hazan is a senior partner in the Paris office, where Marc-Antoine de la Chevasnerie is a partner and Guillaume Dagorret \\nis a McKinsey Global Institute (MGI) senior fellow; Sven Smit, the chair of MGI, is a senior partner in the Amsterdam office, \\nwhere Marc de Jong is a senior partner; Solveigh Hieronimus is a senior partner in the Munich office; and Jan Mischke is an \\nMGI partner in the Zurich office.\\nThe authors wish to thank Adrien Fresko, Arjita Bhan, Arnaud Tournesac, Christoph Sohns, Gardar Björnsson Rova, Klaus'),\n",
       "  Document(metadata={}, page_content='Exhibit 3\\nNote: AI external spending measured as external spending on AI infrastructure, software, and services. Sectors ordered from most similar in size to least similar.  IT spending \\nused as proxy for AI internal spending. Sectors ordered from most similar in size to least similar.\\n1Austria, Belgium, Denmark, Finland, France, Germany, Greece, Ireland, Italy, Netherlands, Norway, Portugal, Spain, Sweden, Switzerland, and UK.\\n2Sectors with <2:1 size ratio between US and Western Europe or Western Europe and US.\\n3Sectors with ≥2:1 size ratio between US and Western Europe or Western Europe and US.\\nSource: Worldwide AI and Generative AI Spending Guide, IDC, February 2024; McKinsey analysis\\nWestern Europe lags behind the United States in AI and IT spending across'),\n",
       "  Document(metadata={}, page_content='Average gap in absolute value 50%\\nIT internal spending Western Europe\\nUS\\nAverage gap in relative value to sales 45%\\nAI external spending\\nIT internal spending\\n6\\nTime to place our bets: Europe’s AI opportunity')],\n",
       " 'web_search_results': [{'title': 'Top 8 AI Companies In Germany - TechRound',\n",
       "   'url': 'https://techround.co.uk/artificial-intelligence/top-8-ai-companies-in-germany/',\n",
       "   'content': 'With [a strong presence in Germany](https://techround.co.uk/business/most-promising-industries-in-germany/), Aristek has developed AI-powered CRM systems and smart automation tools that optimise workflows and enhance customer engagement. Their bespoke AI development capabilities are particularly attractive to enterprises looking for end-to-end digital transformation.\\n\\n### Instinctools\\n\\n### insinctools\\n\\n![insinctools](https://techround.co.uk/wp-content/uploads/2025/04/insinctools.png) [...] Some of the top AI companies in Germany include Lateral, Innovacio Technologies, Aristek Systems, Instinctools, Vention, Plavno, OpenXcell and Indium, all of which are taking part in redefining what’s possible with artificial intelligence.\\n\\nThese are the top 8 AI companies in Germany.\\n\\n### Lateral\\n\\n![lateral-logo](https://techround.co.uk/wp-content/uploads/2025/04/lateral.png)\\n\\n![lateral-logo](https://techround.co.uk/wp-content/uploads/2025/04/lateral.png) [...] ![innovacio](https://techround.co.uk/wp-content/uploads/2025/04/innovacio.png)\\n\\nInnovacio Technologies is an AI-driven company based in Germany, offering transformative solutions across sectors such as healthcare, education and enterprise operations. The company specialises in AI and data science consulting, helping businesses unlock the full potential of automation, machine learning and predictive analytics.',\n",
       "   'score': 0.8058924},\n",
       "  {'title': 'AI made in Germany - ERGO Group',\n",
       "   'url': 'https://www.ergo.com/en/next-magazine/digitalisation-and-technology/2024/ai-made-in-germany-deepl-aleph-alpha-chatgpt',\n",
       "   'content': '**Thanks to Open AI and its ChatGPT, AI applications have been experiencing unbridled hype for months. Much of the focus has been on generative AI and the big tech companies, particularly from the USA. Almost unnoticed, however, “AI made in Germany” has also developed into a seal of quality - and has a lot to offer in many important areas.** [...] The flagship AI companies in Germany do not come from the start-up centres in Berlin or Munich, but from North Rhine-Westphalia and Baden-Württemberg. Nor do they cater to the growing demand for content that is generated by artificial intelligence instead of humans, but instead aim to solve very specific problems.\\n\\n### DeepL [...] **Digitalisation & Technology, 05\\xa0June\\xa02024**\\n\\n# AI made in Germany\\n\\n## Cologne and Heidelberg instead of Silicon Valley\\n\\n![KI made in Germany](https://assets.ergo.com/content/dam/ergocom/en/bilder/next-magazin/2024/KI%20Germany%20Collage_1600x900.dam.jpg)',\n",
       "   'score': 0.7845341},\n",
       "  {'title': 'Artificial Intelligence Made In Germany - Bertelsmann SE & Co. KGaA',\n",
       "   'url': 'https://www.bertelsmann.com/news-and-media/news/artificial-intelligence-made-in-germany.jsp',\n",
       "   'content': 'As part of a globally leading organization for application-oriented research, the Fraunhofer Institute for Intelligent Analysis and Information Systems, based in Sankt Augustin/Bonn and with a satellite in Dresden, is one of Germany’s and Europe’s leading scientific institutes in the fields of artificial intelligence, machine learning and big data. Its 380 employees support companies in optimizing products, services, and processes, and in developing new digital business models. [...] According to RTL Deutschland, the collaboration between RTL and Fraunhofer IAIS not only offers technological advantages, but also promotes the sustainable and efficient use of AI through energy-efficient training, as already demonstrated in the development of “Teuken-7B.” With this initiative, RTL is sending a clear signal for the future: combining media expertise and technological innovation to develop and produce attractive content for millions of viewers and users. [...] The collaboration is to result in pioneering AI solutions specifically tailored to the requirements of the Bertelsmann media group. A central focus is on the development and implementation of intelligent multimodal systems to create innovative applications for the media sector. At the same time, customized data processes and training methods for AI models are being developed in secure, data protection-compliant environments in order to design and play out content in a more efficient and',\n",
       "   'score': 0.76152116},\n",
       "  {'title': 'Cutting-edge technology: AI robots made in Germany | DW News',\n",
       "   'url': 'https://www.youtube.com/watch?v=s3NmYL__-KA',\n",
       "   'content': '# Cutting-edge technology: AI robots made in Germany | DW News\\n\\nDW News\\n1307 likes\\n149528 views\\n25 Jan 2025\\nNeura Robotics, a German company is pushing the boundaries of robotics and AI technology. The 4NE-1, an intelligent humanoid robot, is designed to revolutionize domestic and industrial tasks.\\n\\nFor more news go to: http://www.dw.com/en/ [...] Subscribe: https://www.youtube.com/user/deutschewelleenglish?sub_confirmation=1\\n258 comments',\n",
       "   'score': 0.74385756},\n",
       "  {'title': 'German AI on the cutting edge, but commercially at a loss - DW',\n",
       "   'url': 'https://www.dw.com/en/germany-lags-behind-in-ai-race/a-71593167',\n",
       "   'content': 'Morik thinks this is \"incredibly valuable\" for the manufacturing sector, even though it may not \"grab headlines.\"\\n\\n## Cutting-edge technology: AI robots made in Germany\\n\\nTo view this video please enable JavaScript, and consider upgrading to a web browser that [supports HTML5 video](https://videojs.com/html5-video-support/) [...] That\\'s why she believes it\\'s crucial for Europe to continue developing its foundation models and to \"harness its vast troves of industrial data.\"\\n\\nEuropean AI is more trustworthy, she said,\\xa0which is why successful AI models such as the German Fraunhofer Institute\\'s Teuken-7B model and the AI applications developed by French company Mistral must be expanded upon. [...] Ommer, one of Germany\\'s leading AI specialists, was the mastermind behind German\\xa0[technology](/en/technology/t-17516578) startup Black Forest Labs. The company has developed an image generator that has convinced even US venture capital providers and [Elon Musk\\'s](/en/elon-musk/t-63587027) [social media platform X](/en/x-formerly-twitter/t-38240794) that integrated the AI tool.\\n\\n## Opportunities \\'beyond large foundation models\\'',\n",
       "   'score': 0.734139}]}"
      ]
     },
     "execution_count": 296,
     "metadata": {},
     "output_type": "execute_result"
    }
   ],
   "source": [
    "messages = [HumanMessage(content=\"tell me products developed by germany in AI\")]\n",
    "response = workflow.invoke({\"messages\": messages}, config=config)\n",
    "response"
   ]
  },
  {
   "cell_type": "code",
   "execution_count": null,
   "id": "53433040",
   "metadata": {},
   "outputs": [],
   "source": []
  },
  {
   "cell_type": "code",
   "execution_count": null,
   "id": "f3dee935",
   "metadata": {},
   "outputs": [],
   "source": []
  },
  {
   "cell_type": "code",
   "execution_count": null,
   "id": "0fc11a4d",
   "metadata": {},
   "outputs": [],
   "source": []
  },
  {
   "cell_type": "code",
   "execution_count": null,
   "id": "c4b39e0b",
   "metadata": {},
   "outputs": [],
   "source": []
  },
  {
   "cell_type": "code",
   "execution_count": null,
   "id": "22ada7d1",
   "metadata": {},
   "outputs": [],
   "source": []
  },
  {
   "cell_type": "code",
   "execution_count": null,
   "id": "e00b4204",
   "metadata": {},
   "outputs": [],
   "source": []
  },
  {
   "cell_type": "code",
   "execution_count": 19,
   "id": "b65e3398",
   "metadata": {},
   "outputs": [],
   "source": [
    "tool_node = ToolNode(tools=tools, messages_key=\"messages\")"
   ]
  },
  {
   "cell_type": "code",
   "execution_count": 12,
   "id": "df8c0677",
   "metadata": {},
   "outputs": [],
   "source": [
    "def llm_response(state:React):\n",
    "    messages = state['messages']\n",
    "\n",
    "    state['messages'] = [llm_with_tools.invoke(messages)]\n",
    "\n",
    "    return state"
   ]
  },
  {
   "cell_type": "code",
   "execution_count": 13,
   "id": "274d5d31",
   "metadata": {},
   "outputs": [],
   "source": [
    "def tool_router(state:React):\n",
    "    last_message = state['messages'][-1]\n",
    "    if (hasattr(last_message, \"tool_calls\") and len(last_message.tool_calls) > 0):\n",
    "        return \"tool_node\"\n",
    "    else:\n",
    "        return END"
   ]
  },
  {
   "cell_type": "code",
   "execution_count": 14,
   "id": "3511baed",
   "metadata": {},
   "outputs": [],
   "source": [
    "graph = StateGraph(React)\n",
    "\n",
    "graph.add_node('llm_response', llm_response)\n",
    "graph.add_node('tool_node', tool_node)\n",
    "\n",
    "graph.add_conditional_edges(\"llm_response\", tool_router, \n",
    "                            {\n",
    "                                \"tool_node\":\"tool_node\",\n",
    "                                END:END\n",
    "                            }\n",
    "                            )\n",
    "\n",
    "graph.add_edge('tool_node', 'llm_response')\n",
    "\n",
    "graph.set_entry_point('llm_response')\n",
    "\n",
    "graph_builder = graph.compile()\n"
   ]
  },
  {
   "cell_type": "code",
   "execution_count": 15,
   "id": "582e6f51",
   "metadata": {},
   "outputs": [
    {
     "data": {
      "image/png": "[encoded data removed]",
      "text/plain": [
       "<IPython.core.display.Image object>"
      ]
     },
     "metadata": {},
     "output_type": "display_data"
    }
   ],
   "source": [
    "display(Image(graph_builder.get_graph().draw_mermaid_png()))"
   ]
  },
  {
   "cell_type": "code",
   "execution_count": 19,
   "id": "eb2fb080",
   "metadata": {},
   "outputs": [
    {
     "data": {
      "text/plain": [
       "[HumanMessage(content='tell me about meta and its relation with facebook', additional_kwargs={}, response_metadata={}, id='f452ba5b-835a-4c1a-8a5f-696d0020cef5'),\n",
       " AIMessage(content='', additional_kwargs={'tool_calls': [{'id': 'call_wmg4', 'function': {'arguments': '{\"query\":\"meta and its relation with facebook\"}', 'name': 'tavily_search_results_json'}, 'type': 'function'}]}, response_metadata={'token_usage': {'completion_tokens': 92, 'prompt_tokens': 1004, 'total_tokens': 1096, 'completion_time': 0.167272727, 'prompt_time': 0.057564556, 'queue_time': 0.242246788, 'total_time': 0.224837283}, 'model_name': 'Gemma2-9b-It', 'system_fingerprint': 'fp_10c08bf97d', 'finish_reason': 'tool_calls', 'logprobs': None}, id='run--1659f53a-7ecf-4194-8c67-cef855da4a8a-0', tool_calls=[{'name': 'tavily_search_results_json', 'args': {'query': 'meta and its relation with facebook'}, 'id': 'call_wmg4', 'type': 'tool_call'}], usage_metadata={'input_tokens': 1004, 'output_tokens': 92, 'total_tokens': 1096}),\n",
       " ToolMessage(content='[{\"title\": \"Facebook and the creation of the metaverse: radical business model ...\", \"url\": \"https://www.emerald.com/insight/content/doi/10.1108/ijebr-12-2021-0984/full/html\", \"content\": \"Our study is a preliminary endeavor to understand the BM transition from Facebook to Meta. The rapid growth of Facebook over the last decades has shaped one of the most prominent entrepreneurial success stories. By advancing a strong vision to build the metaverse, Meta has once again demonstrated a strong entrepreneurial behavior in announcing that the company will use its existing capabilities, processes and partnerships to shift the adjacent BM into a more virtual future. Thus, the metaverse [...] This paper is the first study that takes an entrepreneurship and BM perspective in analyzing Facebook’s approach in rebranding to Meta and refocusing its strategy on building the metaverse. The academic and practical relevance, as well as the potential future impact on business and society, makes the investigation of this case an intriguing prospect. Additionally, the study illuminates the difference between the communicated vision and the real impact on the business, suggesting critical [...] In a move characterized by ambiguity, Facebook changed its name to Meta in October 2021, announcing a new era of social interaction, enabled by the metaverse technology that appears poised to become the future center of gravity for online social interactions. At first glance, the communicated change signals a radically new business model (BM) based on an unprecedented configuration of the three following components: value creation, value proposition and value capture. The purpose of this paper\", \"score\": 0.79958355}, {\"title\": \"What is Facebook Meta? What You Need to Know - SocialPilot\", \"url\": \"https://www.socialpilot.co/social-media-terms/faceboook-meta\", \"content\": \"Meta aims to develop solutions that enable individuals to connect, form communities, and grow enterprises. Facebook Meta is the new name of Facebook.\", \"score\": 0.7458619}, {\"title\": \"The Facebook Company Is Now Meta\", \"url\": \"https://about.fb.com/news/2021/10/facebook-company-is-now-meta/\", \"content\": \"Today at Connect 2021, CEO Mark Zuckerberg introduced Meta, which brings together our apps and technologies under one new company brand. Meta’s focus will be to bring the metaverse to life and help people connect, find communities and grow businesses. [...] Meta builds technologies that help people connect, find communities, and grow businesses. When Facebook launched in 2004, it changed the way people connect. Apps like Messenger, Instagram and WhatsApp further empowered billions around the world. Now, Meta is moving beyond 2D screens toward immersive experiences like augmented and virtual reality to help build the next evolution in social technology.\\\\nDownloads\\\\nPress Assets\", \"score\": 0.7429634}, {\"title\": \"Why has Facebook changed its name and what is the metaverse?\", \"url\": \"https://www.newscientist.com/article/2295438-why-has-facebook-changed-its-name-to-meta-and-what-is-the-metaverse/\", \"content\": \"After plenty of speculation, Facebook, the company that owns platforms including Facebook, Instagram and WhatsApp, rebranded as Meta on 28 October. CEO Mark Zuckerberg told attendees at the company’s annual Connect conference: “Right now, our brand is so tightly linked to one product that it can’t possibly represent everything that we’re doing today, let alone in the future. Over time, I hope that we are seen as a metaverse company, and I want to anchor our work and identity on what we’re\", \"score\": 0.7180613}]', name='tavily_search_results_json', id='c139f72b-059b-4054-9120-5885ac8464a0', tool_call_id='call_wmg4', artifact={'query': 'meta and its relation with facebook', 'follow_up_questions': None, 'answer': None, 'images': [], 'results': [{'url': 'https://www.emerald.com/insight/content/doi/10.1108/ijebr-12-2021-0984/full/html', 'title': 'Facebook and the creation of the metaverse: radical business model ...', 'content': 'Our study is a preliminary endeavor to understand the BM transition from Facebook to Meta. The rapid growth of Facebook over the last decades has shaped one of the most prominent entrepreneurial success stories. By advancing a strong vision to build the metaverse, Meta has once again demonstrated a strong entrepreneurial behavior in announcing that the company will use its existing capabilities, processes and partnerships to shift the adjacent BM into a more virtual future. Thus, the metaverse [...] This paper is the first study that takes an entrepreneurship and BM perspective in analyzing Facebook’s approach in rebranding to Meta and refocusing its strategy on building the metaverse. The academic and practical relevance, as well as the potential future impact on business and society, makes the investigation of this case an intriguing prospect. Additionally, the study illuminates the difference between the communicated vision and the real impact on the business, suggesting critical [...] In a move characterized by ambiguity, Facebook changed its name to Meta in October 2021, announcing a new era of social interaction, enabled by the metaverse technology that appears poised to become the future center of gravity for online social interactions. At first glance, the communicated change signals a radically new business model (BM) based on an unprecedented configuration of the three following components: value creation, value proposition and value capture. The purpose of this paper', 'score': 0.79958355, 'raw_content': None}, {'url': 'https://www.socialpilot.co/social-media-terms/faceboook-meta', 'title': 'What is Facebook Meta? What You Need to Know - SocialPilot', 'content': 'Meta aims to develop solutions that enable individuals to connect, form communities, and grow enterprises. Facebook Meta is the new name of Facebook.', 'score': 0.7458619, 'raw_content': None}, {'url': 'https://about.fb.com/news/2021/10/facebook-company-is-now-meta/', 'title': 'The Facebook Company Is Now Meta', 'content': 'Today at Connect 2021, CEO Mark Zuckerberg introduced Meta, which brings together our apps and technologies under one new company brand. Meta’s focus will be to bring the metaverse to life and help people connect, find communities and grow businesses. [...] Meta builds technologies that help people connect, find communities, and grow businesses. When Facebook launched in 2004, it changed the way people connect. Apps like Messenger, Instagram and WhatsApp further empowered billions around the world. Now, Meta is moving beyond 2D screens toward immersive experiences like augmented and virtual reality to help build the next evolution in social technology.\\nDownloads\\nPress Assets', 'score': 0.7429634, 'raw_content': None}, {'url': 'https://www.newscientist.com/article/2295438-why-has-facebook-changed-its-name-to-meta-and-what-is-the-metaverse/', 'title': 'Why has Facebook changed its name and what is the metaverse?', 'content': 'After plenty of speculation, Facebook, the company that owns platforms including Facebook, Instagram and WhatsApp, rebranded as Meta on 28 October. CEO Mark Zuckerberg told attendees at the company’s annual Connect conference: “Right now, our brand is so tightly linked to one product that it can’t possibly represent everything that we’re doing today, let alone in the future. Over time, I hope that we are seen as a metaverse company, and I want to anchor our work and identity on what we’re', 'score': 0.7180613, 'raw_content': None}], 'response_time': 3.68}),\n",
       " AIMessage(content='Meta is the parent company of Facebook.  In 2021, Facebook rebranded to Meta to reflect its focus on building the metaverse, a virtual reality-based internet. \\n\\n\\n', additional_kwargs={}, response_metadata={'token_usage': {'completion_tokens': 41, 'prompt_tokens': 1901, 'total_tokens': 1942, 'completion_time': 0.074545455, 'prompt_time': 0.108119225, 'queue_time': 0.24658732300000002, 'total_time': 0.18266468}, 'model_name': 'Gemma2-9b-It', 'system_fingerprint': 'fp_10c08bf97d', 'finish_reason': 'stop', 'logprobs': None}, id='run--772df9f3-a89c-4ba8-97f6-cf5df0929ca8-0', usage_metadata={'input_tokens': 1901, 'output_tokens': 41, 'total_tokens': 1942})]"
      ]
     },
     "execution_count": 19,
     "metadata": {},
     "output_type": "execute_result"
    }
   ],
   "source": [
    "messages = [HumanMessage(content=\"tell me about meta and its relation with facebook\")]\n",
    "messages = graph_builder.invoke({\"messages\": messages})\n",
    "\n",
    "messages['messages']"
   ]
  },
  {
   "cell_type": "code",
   "execution_count": null,
   "id": "08ea2b82",
   "metadata": {},
   "outputs": [
    {
     "name": "stdout",
     "output_type": "stream",
     "text": [
      "================================\u001b[1m Human Message \u001b[0m=================================\n",
      "\n",
      "tell me about meta and its relation with facebook\n",
      "==================================\u001b[1m Ai Message \u001b[0m==================================\n",
      "Tool Calls:\n",
      "  tavily_search_results_json (call_wmg4)\n",
      " Call ID: call_wmg4\n",
      "  Args:\n",
      "    query: meta and its relation with facebook\n",
      "=================================\u001b[1m Tool Message \u001b[0m=================================\n",
      "Name: tavily_search_results_json\n",
      "\n",
      "[{\"title\": \"Facebook and the creation of the metaverse: radical business model ...\", \"url\": \"https://www.emerald.com/insight/content/doi/10.1108/ijebr-12-2021-0984/full/html\", \"content\": \"Our study is a preliminary endeavor to understand the BM transition from Facebook to Meta. The rapid growth of Facebook over the last decades has shaped one of the most prominent entrepreneurial success stories. By advancing a strong vision to build the metaverse, Meta has once again demonstrated a strong entrepreneurial behavior in announcing that the company will use its existing capabilities, processes and partnerships to shift the adjacent BM into a more virtual future. Thus, the metaverse [...] This paper is the first study that takes an entrepreneurship and BM perspective in analyzing Facebook’s approach in rebranding to Meta and refocusing its strategy on building the metaverse. The academic and practical relevance, as well as the potential future impact on business and society, makes the investigation of this case an intriguing prospect. Additionally, the study illuminates the difference between the communicated vision and the real impact on the business, suggesting critical [...] In a move characterized by ambiguity, Facebook changed its name to Meta in October 2021, announcing a new era of social interaction, enabled by the metaverse technology that appears poised to become the future center of gravity for online social interactions. At first glance, the communicated change signals a radically new business model (BM) based on an unprecedented configuration of the three following components: value creation, value proposition and value capture. The purpose of this paper\", \"score\": 0.79958355}, {\"title\": \"What is Facebook Meta? What You Need to Know - SocialPilot\", \"url\": \"https://www.socialpilot.co/social-media-terms/faceboook-meta\", \"content\": \"Meta aims to develop solutions that enable individuals to connect, form communities, and grow enterprises. Facebook Meta is the new name of Facebook.\", \"score\": 0.7458619}, {\"title\": \"The Facebook Company Is Now Meta\", \"url\": \"https://about.fb.com/news/2021/10/facebook-company-is-now-meta/\", \"content\": \"Today at Connect 2021, CEO Mark Zuckerberg introduced Meta, which brings together our apps and technologies under one new company brand. Meta’s focus will be to bring the metaverse to life and help people connect, find communities and grow businesses. [...] Meta builds technologies that help people connect, find communities, and grow businesses. When Facebook launched in 2004, it changed the way people connect. Apps like Messenger, Instagram and WhatsApp further empowered billions around the world. Now, Meta is moving beyond 2D screens toward immersive experiences like augmented and virtual reality to help build the next evolution in social technology.\\nDownloads\\nPress Assets\", \"score\": 0.7429634}, {\"title\": \"Why has Facebook changed its name and what is the metaverse?\", \"url\": \"https://www.newscientist.com/article/2295438-why-has-facebook-changed-its-name-to-meta-and-what-is-the-metaverse/\", \"content\": \"After plenty of speculation, Facebook, the company that owns platforms including Facebook, Instagram and WhatsApp, rebranded as Meta on 28 October. CEO Mark Zuckerberg told attendees at the company’s annual Connect conference: “Right now, our brand is so tightly linked to one product that it can’t possibly represent everything that we’re doing today, let alone in the future. Over time, I hope that we are seen as a metaverse company, and I want to anchor our work and identity on what we’re\", \"score\": 0.7180613}]\n",
      "==================================\u001b[1m Ai Message \u001b[0m==================================\n",
      "\n",
      "Meta is the parent company of Facebook.  In 2021, Facebook rebranded to Meta to reflect its focus on building the metaverse, a virtual reality-based internet.\n"
     ]
    }
   ],
   "source": [
    "for m in messages['messages']:\n",
    "    m.pretty_print()"
   ]
  },
  {
   "cell_type": "code",
   "execution_count": null,
   "id": "2c7d9412",
   "metadata": {},
   "outputs": [],
   "source": []
  },
  {
   "cell_type": "code",
   "execution_count": 22,
   "id": "91a48633",
   "metadata": {},
   "outputs": [
    {
     "data": {
      "text/plain": [
       "[HumanMessage(content='why they rebranded?', additional_kwargs={}, response_metadata={}, id='52386b92-406d-4478-a59b-b682aaa4838e'),\n",
       " AIMessage(content='', additional_kwargs={'tool_calls': [{'id': 'call_a5e6', 'function': {'arguments': '{\"query\":\"why did google rebrand to tavily\"}', 'name': 'tavily_search_results_json'}, 'type': 'function'}]}, response_metadata={'token_usage': {'completion_tokens': 92, 'prompt_tokens': 1000, 'total_tokens': 1092, 'completion_time': 0.167272727, 'prompt_time': 0.042864524, 'queue_time': 0.24564991599999997, 'total_time': 0.210137251}, 'model_name': 'Gemma2-9b-It', 'system_fingerprint': 'fp_10c08bf97d', 'finish_reason': 'tool_calls', 'logprobs': None}, id='run--29222637-995a-417f-8ed1-17af13b463de-0', tool_calls=[{'name': 'tavily_search_results_json', 'args': {'query': 'why did google rebrand to tavily'}, 'id': 'call_a5e6', 'type': 'tool_call'}], usage_metadata={'input_tokens': 1000, 'output_tokens': 92, 'total_tokens': 1092}),\n",
       " ToolMessage(content='[{\"title\": \"Tavily Landing Page Design by Peppermint on Dribbble\", \"url\": \"https://dribbble.com/shots/25533500-Tavily-Landing-Page-Design\", \"content\": \"Unlike Google, designed for humans, Tavily is optimized for machines — built for speed and efficiency. Our work. Rebranding — fresh, dynamic\", \"score\": 0.7711725}, {\"title\": \"Compare Tavily, Perplexity API, Google Search Grounding (Gemini ...\", \"url\": \"https://www.linkedin.com/posts/jenya-stoeva-60477249_compare-tavily-perplexity-api-google-search-activity-7282707227361054720-8ClU\", \"content\": \"searching, scraping, filtering, and extracting relevant information from online sources, saving you from having to combine traditional search tools with scraping tools to achieve the same result. Personally, I use Tavily daily instead of Perplexity for the simple reason that it has good API, meets my needs, and its free plan offers 1000 API credits per month!\", \"score\": 0.5942929}, {\"title\": \"Tavily\", \"url\": \"https://tavily.com/\", \"content\": \"- Scalable: Tavily is built to scale as your usage grows, making it a reliable solution for both startups and enterprise customers. [...] Unlike Bing, Google and SerpAPI, Tavily Search API reviews multiple sources to find the most relevant content from each source, delivering concise, ready-to-use information optimized for LLM context. This focus on RAG and LLMs ensures your AI applications access only the highest-quality data. Tavily Search API is also more affordable and flexible.\\\\n\\\\nWhat are the key advantages of using Tavily Search API? [...] ### Tavily is trusted by AI leaders around the world\\\\n\\\\n![quotes](./images/icons/quotes.svg)\\\\n\\\\nWe\\'ve been using Tavily\\'s Search API to power Athena, our Enterprise AI Data Analyst. The ability\\\\nto retrieve accurate, real-time information tailored for AI agents has significantly enhanced Athena’s\\\\nresearch capabilities. Tavily\\'s focus on delivering factual and explicit results aligns perfectly with\\\\nour commitment to providing trustworthy and sourced insights to our enterprise clients.\", \"score\": 0.57293844}, {\"title\": \"4sysops AI now with Google and Tavily search – Better than ...\", \"url\": \"https://4sysops.com/archives/4sysops-ai-now-with-google-and-tavily-search-better-than-chatgpt-for-it/\", \"content\": \"The AI-generated query is then sent to either the Google or Tavily API. Tavily is a specialized search engine for large language models and AI agents. Unlike the Google API, which only provides URLs, titles, and short excerpts, Tavily returns the full content of the search results.\\\\nFor a Google search, my script must fetch the content from the URLs provided by the API. The entire content of all result pages is then provided to your chatbot model as context. [...] Not long ago, we used to \\\\\"google\\\\\" to find information online. With the rise of chatbots incorporating web search capabilities, a new phrase is becoming popular: \\\\\"to chat it.\\\\\" 4sysops AI now utilizes Google or Tavily search to help solve your IT challenges. Initially, the AI determines the most effective search terms for your query. It subsequently reviews all the pages returned by the search engine to provide an answer tailored to your specific question, drawing from the retrieved context, its [...] For example, a prompt like \\\\\"get rid of buggy Windows patch\\\\\" might be rephrased as \\\\\"how to uninstall problematic Windows updates.\\\\\" This rewording happens in the backend and isn\\'t shown in the response.\\\\n4sysops AI refines queries to enhance search outcomes\", \"score\": 0.5689194}, {\"title\": \"Tavily — The API-powered Alternative to Perplexity? | by AI Rabbit\", \"url\": \"https://medium.com/codex/tavily-the-api-powered-alternative-to-perplexity-edfdc6814b39\", \"content\": \"So what is Tavily about?\\\\nIn simple terms, Tavily is a search service (like Serper or serpapi) with one big advantage: it is built from the ground up for LLM search. Put plainly, you can just ask a question and it can search the internet for you, then answer that specific question. Best of all, it’s entirely accessible via an API.\\\\nCreate an account to read the full story.\\\\nThe author made this story available to Medium members only. [...] And here is where Tavily steps in. If you haven’t heard of them, they’re the driving force behind the open source research gpt. [...] Listen\\\\nShare\\\\nPerplexity is yet another fascinating innovation in the AI space, and it has been around for a while now. It has managed to establish itself as a real and imho better alternative to Google (even Google AI) by offering more control over the search itself (like choosing the model, the depth of the AI search, and so on).\", \"score\": 0.42362547}]', name='tavily_search_results_json', id='a8d3d50f-65f0-4801-acac-51dfb30edbcc', tool_call_id='call_a5e6', artifact={'query': 'why did google rebrand to tavily', 'follow_up_questions': None, 'answer': None, 'images': [], 'results': [{'url': 'https://dribbble.com/shots/25533500-Tavily-Landing-Page-Design', 'title': 'Tavily Landing Page Design by Peppermint on Dribbble', 'content': 'Unlike Google, designed for humans, Tavily is optimized for machines — built for speed and efficiency. Our work. Rebranding — fresh, dynamic', 'score': 0.7711725, 'raw_content': None}, {'url': 'https://www.linkedin.com/posts/jenya-stoeva-60477249_compare-tavily-perplexity-api-google-search-activity-7282707227361054720-8ClU', 'title': 'Compare Tavily, Perplexity API, Google Search Grounding (Gemini ...', 'content': 'searching, scraping, filtering, and extracting relevant information from online sources, saving you from having to combine traditional search tools with scraping tools to achieve the same result. Personally, I use Tavily daily instead of Perplexity for the simple reason that it has good API, meets my needs, and its free plan offers 1000 API credits per month!', 'score': 0.5942929, 'raw_content': None}, {'url': 'https://tavily.com/', 'title': 'Tavily', 'content': \"- Scalable: Tavily is built to scale as your usage grows, making it a reliable solution for both startups and enterprise customers. [...] Unlike Bing, Google and SerpAPI, Tavily Search API reviews multiple sources to find the most relevant content from each source, delivering concise, ready-to-use information optimized for LLM context. This focus on RAG and LLMs ensures your AI applications access only the highest-quality data. Tavily Search API is also more affordable and flexible.\\n\\nWhat are the key advantages of using Tavily Search API? [...] ### Tavily is trusted by AI leaders around the world\\n\\n![quotes](./images/icons/quotes.svg)\\n\\nWe've been using Tavily's Search API to power Athena, our Enterprise AI Data Analyst. The ability\\nto retrieve accurate, real-time information tailored for AI agents has significantly enhanced Athena’s\\nresearch capabilities. Tavily's focus on delivering factual and explicit results aligns perfectly with\\nour commitment to providing trustworthy and sourced insights to our enterprise clients.\", 'score': 0.57293844, 'raw_content': None}, {'url': 'https://4sysops.com/archives/4sysops-ai-now-with-google-and-tavily-search-better-than-chatgpt-for-it/', 'title': '4sysops AI now with Google and Tavily search – Better than ...', 'content': 'The AI-generated query is then sent to either the Google or Tavily API. Tavily is a specialized search engine for large language models and AI agents. Unlike the Google API, which only provides URLs, titles, and short excerpts, Tavily returns the full content of the search results.\\nFor a Google search, my script must fetch the content from the URLs provided by the API. The entire content of all result pages is then provided to your chatbot model as context. [...] Not long ago, we used to \"google\" to find information online. With the rise of chatbots incorporating web search capabilities, a new phrase is becoming popular: \"to chat it.\" 4sysops AI now utilizes Google or Tavily search to help solve your IT challenges. Initially, the AI determines the most effective search terms for your query. It subsequently reviews all the pages returned by the search engine to provide an answer tailored to your specific question, drawing from the retrieved context, its [...] For example, a prompt like \"get rid of buggy Windows patch\" might be rephrased as \"how to uninstall problematic Windows updates.\" This rewording happens in the backend and isn\\'t shown in the response.\\n4sysops AI refines queries to enhance search outcomes', 'score': 0.5689194, 'raw_content': None}, {'url': 'https://medium.com/codex/tavily-the-api-powered-alternative-to-perplexity-edfdc6814b39', 'title': 'Tavily — The API-powered Alternative to Perplexity? | by AI Rabbit', 'content': 'So what is Tavily about?\\nIn simple terms, Tavily is a search service (like Serper or serpapi) with one big advantage: it is built from the ground up for LLM search. Put plainly, you can just ask a question and it can search the internet for you, then answer that specific question. Best of all, it’s entirely accessible via an API.\\nCreate an account to read the full story.\\nThe author made this story available to Medium members only. [...] And here is where Tavily steps in. If you haven’t heard of them, they’re the driving force behind the open source research gpt. [...] Listen\\nShare\\nPerplexity is yet another fascinating innovation in the AI space, and it has been around for a while now. It has managed to establish itself as a real and imho better alternative to Google (even Google AI) by offering more control over the search itself (like choosing the model, the depth of the AI search, and so on).', 'score': 0.42362547, 'raw_content': None}], 'response_time': 3.43}),\n",
       " AIMessage(content='', additional_kwargs={'tool_calls': [{'id': 'call_nedw', 'function': {'arguments': '{\"query\":\"why did google rebrand to tavily\"}', 'name': 'tavily_search_results_json'}, 'type': 'function'}]}, response_metadata={'token_usage': {'completion_tokens': 58, 'prompt_tokens': 2247, 'total_tokens': 2305, 'completion_time': 0.105454545, 'prompt_time': 0.220714459, 'queue_time': 0.8443072610000001, 'total_time': 0.326169004}, 'model_name': 'Gemma2-9b-It', 'system_fingerprint': 'fp_10c08bf97d', 'finish_reason': 'tool_calls', 'logprobs': None}, id='run--d5adb78f-f871-4a6a-ac0f-4f905646f93c-0', tool_calls=[{'name': 'tavily_search_results_json', 'args': {'query': 'why did google rebrand to tavily'}, 'id': 'call_nedw', 'type': 'tool_call'}], usage_metadata={'input_tokens': 2247, 'output_tokens': 58, 'total_tokens': 2305}),\n",
       " ToolMessage(content='[{\"title\": \"Tavily Landing Page Design by Peppermint on Dribbble\", \"url\": \"https://dribbble.com/shots/25533500-Tavily-Landing-Page-Design\", \"content\": \"Unlike Google, designed for humans, Tavily is optimized for machines — built for speed and efficiency. Our work. Rebranding — fresh, dynamic\", \"score\": 0.7711725}, {\"title\": \"Compare Tavily, Perplexity API, Google Search Grounding (Gemini ...\", \"url\": \"https://www.linkedin.com/posts/jenya-stoeva-60477249_compare-tavily-perplexity-api-google-search-activity-7282707227361054720-8ClU\", \"content\": \"searching, scraping, filtering, and extracting relevant information from online sources, saving you from having to combine traditional search tools with scraping tools to achieve the same result. Personally, I use Tavily daily instead of Perplexity for the simple reason that it has good API, meets my needs, and its free plan offers 1000 API credits per month!\", \"score\": 0.5942929}, {\"title\": \"Tavily\", \"url\": \"https://tavily.com/\", \"content\": \"- Scalable: Tavily is built to scale as your usage grows, making it a reliable solution for both startups and enterprise customers. [...] Unlike Bing, Google and SerpAPI, Tavily Search API reviews multiple sources to find the most relevant content from each source, delivering concise, ready-to-use information optimized for LLM context. This focus on RAG and LLMs ensures your AI applications access only the highest-quality data. Tavily Search API is also more affordable and flexible.\\\\n\\\\nWhat are the key advantages of using Tavily Search API? [...] ### Tavily is trusted by AI leaders around the world\\\\n\\\\n![quotes](./images/icons/quotes.svg)\\\\n\\\\nWe\\'ve been using Tavily\\'s Search API to power Athena, our Enterprise AI Data Analyst. The ability\\\\nto retrieve accurate, real-time information tailored for AI agents has significantly enhanced Athena’s\\\\nresearch capabilities. Tavily\\'s focus on delivering factual and explicit results aligns perfectly with\\\\nour commitment to providing trustworthy and sourced insights to our enterprise clients.\", \"score\": 0.57293844}, {\"title\": \"4sysops AI now with Google and Tavily search – Better than ...\", \"url\": \"https://4sysops.com/archives/4sysops-ai-now-with-google-and-tavily-search-better-than-chatgpt-for-it/\", \"content\": \"The AI-generated query is then sent to either the Google or Tavily API. Tavily is a specialized search engine for large language models and AI agents. Unlike the Google API, which only provides URLs, titles, and short excerpts, Tavily returns the full content of the search results.\\\\nFor a Google search, my script must fetch the content from the URLs provided by the API. The entire content of all result pages is then provided to your chatbot model as context. [...] Not long ago, we used to \\\\\"google\\\\\" to find information online. With the rise of chatbots incorporating web search capabilities, a new phrase is becoming popular: \\\\\"to chat it.\\\\\" 4sysops AI now utilizes Google or Tavily search to help solve your IT challenges. Initially, the AI determines the most effective search terms for your query. It subsequently reviews all the pages returned by the search engine to provide an answer tailored to your specific question, drawing from the retrieved context, its [...] For example, a prompt like \\\\\"get rid of buggy Windows patch\\\\\" might be rephrased as \\\\\"how to uninstall problematic Windows updates.\\\\\" This rewording happens in the backend and isn\\'t shown in the response.\\\\n4sysops AI refines queries to enhance search outcomes\", \"score\": 0.5689194}, {\"title\": \"Tavily — The API-powered Alternative to Perplexity? | by AI Rabbit\", \"url\": \"https://medium.com/codex/tavily-the-api-powered-alternative-to-perplexity-edfdc6814b39\", \"content\": \"So what is Tavily about?\\\\nIn simple terms, Tavily is a search service (like Serper or serpapi) with one big advantage: it is built from the ground up for LLM search. Put plainly, you can just ask a question and it can search the internet for you, then answer that specific question. Best of all, it’s entirely accessible via an API.\\\\nCreate an account to read the full story.\\\\nThe author made this story available to Medium members only. [...] And here is where Tavily steps in. If you haven’t heard of them, they’re the driving force behind the open source research gpt. [...] Listen\\\\nShare\\\\nPerplexity is yet another fascinating innovation in the AI space, and it has been around for a while now. It has managed to establish itself as a real and imho better alternative to Google (even Google AI) by offering more control over the search itself (like choosing the model, the depth of the AI search, and so on).\", \"score\": 0.42362547}]', name='tavily_search_results_json', id='45c23228-91bd-4002-bb8c-28e5d39162ee', tool_call_id='call_nedw', artifact={'query': 'why did google rebrand to tavily', 'follow_up_questions': None, 'answer': None, 'images': [], 'results': [{'url': 'https://dribbble.com/shots/25533500-Tavily-Landing-Page-Design', 'title': 'Tavily Landing Page Design by Peppermint on Dribbble', 'content': 'Unlike Google, designed for humans, Tavily is optimized for machines — built for speed and efficiency. Our work. Rebranding — fresh, dynamic', 'score': 0.7711725, 'raw_content': None}, {'url': 'https://www.linkedin.com/posts/jenya-stoeva-60477249_compare-tavily-perplexity-api-google-search-activity-7282707227361054720-8ClU', 'title': 'Compare Tavily, Perplexity API, Google Search Grounding (Gemini ...', 'content': 'searching, scraping, filtering, and extracting relevant information from online sources, saving you from having to combine traditional search tools with scraping tools to achieve the same result. Personally, I use Tavily daily instead of Perplexity for the simple reason that it has good API, meets my needs, and its free plan offers 1000 API credits per month!', 'score': 0.5942929, 'raw_content': None}, {'url': 'https://tavily.com/', 'title': 'Tavily', 'content': \"- Scalable: Tavily is built to scale as your usage grows, making it a reliable solution for both startups and enterprise customers. [...] Unlike Bing, Google and SerpAPI, Tavily Search API reviews multiple sources to find the most relevant content from each source, delivering concise, ready-to-use information optimized for LLM context. This focus on RAG and LLMs ensures your AI applications access only the highest-quality data. Tavily Search API is also more affordable and flexible.\\n\\nWhat are the key advantages of using Tavily Search API? [...] ### Tavily is trusted by AI leaders around the world\\n\\n![quotes](./images/icons/quotes.svg)\\n\\nWe've been using Tavily's Search API to power Athena, our Enterprise AI Data Analyst. The ability\\nto retrieve accurate, real-time information tailored for AI agents has significantly enhanced Athena’s\\nresearch capabilities. Tavily's focus on delivering factual and explicit results aligns perfectly with\\nour commitment to providing trustworthy and sourced insights to our enterprise clients.\", 'score': 0.57293844, 'raw_content': None}, {'url': 'https://4sysops.com/archives/4sysops-ai-now-with-google-and-tavily-search-better-than-chatgpt-for-it/', 'title': '4sysops AI now with Google and Tavily search – Better than ...', 'content': 'The AI-generated query is then sent to either the Google or Tavily API. Tavily is a specialized search engine for large language models and AI agents. Unlike the Google API, which only provides URLs, titles, and short excerpts, Tavily returns the full content of the search results.\\nFor a Google search, my script must fetch the content from the URLs provided by the API. The entire content of all result pages is then provided to your chatbot model as context. [...] Not long ago, we used to \"google\" to find information online. With the rise of chatbots incorporating web search capabilities, a new phrase is becoming popular: \"to chat it.\" 4sysops AI now utilizes Google or Tavily search to help solve your IT challenges. Initially, the AI determines the most effective search terms for your query. It subsequently reviews all the pages returned by the search engine to provide an answer tailored to your specific question, drawing from the retrieved context, its [...] For example, a prompt like \"get rid of buggy Windows patch\" might be rephrased as \"how to uninstall problematic Windows updates.\" This rewording happens in the backend and isn\\'t shown in the response.\\n4sysops AI refines queries to enhance search outcomes', 'score': 0.5689194, 'raw_content': None}, {'url': 'https://medium.com/codex/tavily-the-api-powered-alternative-to-perplexity-edfdc6814b39', 'title': 'Tavily — The API-powered Alternative to Perplexity? | by AI Rabbit', 'content': 'So what is Tavily about?\\nIn simple terms, Tavily is a search service (like Serper or serpapi) with one big advantage: it is built from the ground up for LLM search. Put plainly, you can just ask a question and it can search the internet for you, then answer that specific question. Best of all, it’s entirely accessible via an API.\\nCreate an account to read the full story.\\nThe author made this story available to Medium members only. [...] And here is where Tavily steps in. If you haven’t heard of them, they’re the driving force behind the open source research gpt. [...] Listen\\nShare\\nPerplexity is yet another fascinating innovation in the AI space, and it has been around for a while now. It has managed to establish itself as a real and imho better alternative to Google (even Google AI) by offering more control over the search itself (like choosing the model, the depth of the AI search, and so on).', 'score': 0.42362547, 'raw_content': None}], 'response_time': 2.07}),\n",
       " AIMessage(content='Google did not rebrand to Tavily. \\n\\n\\nTavily is a separate search engine that is API-powered and built for large language models. \\n', additional_kwargs={}, response_metadata={'token_usage': {'completion_tokens': 34, 'prompt_tokens': 3490, 'total_tokens': 3524, 'completion_time': 0.061818182, 'prompt_time': 0.148495303, 'queue_time': 0.49822548499999997, 'total_time': 0.210313485}, 'model_name': 'Gemma2-9b-It', 'system_fingerprint': 'fp_10c08bf97d', 'finish_reason': 'stop', 'logprobs': None}, id='run--87d6662c-0bd9-415d-976d-f902bcda621f-0', usage_metadata={'input_tokens': 3490, 'output_tokens': 34, 'total_tokens': 3524})]"
      ]
     },
     "execution_count": 22,
     "metadata": {},
     "output_type": "execute_result"
    }
   ],
   "source": [
    "messages = [HumanMessage(content=\"why they rebranded?\")]\n",
    "messages = graph_builder.invoke({\"messages\": messages})\n",
    "\n",
    "messages['messages']"
   ]
  },
  {
   "cell_type": "code",
   "execution_count": 79,
   "id": "defbcba8",
   "metadata": {},
   "outputs": [
    {
     "data": {
      "text/plain": [
       "AIMessage(content='', additional_kwargs={'tool_calls': [{'id': 'call_0f37', 'function': {'arguments': '{\"a\":3,\"b\":4}', 'name': 'multiplication'}, 'type': 'function'}]}, response_metadata={'token_usage': {'completion_tokens': 87, 'prompt_tokens': 1269, 'total_tokens': 1356, 'completion_time': 0.158181818, 'prompt_time': 0.058711005, 'queue_time': 0.27019943500000004, 'total_time': 0.216892823}, 'model_name': 'Gemma2-9b-It', 'system_fingerprint': 'fp_10c08bf97d', 'finish_reason': 'tool_calls', 'logprobs': None}, id='run--499d920d-9344-48dc-bd35-a8a243f69496-0', tool_calls=[{'name': 'multiplication', 'args': {'a': 3, 'b': 4}, 'id': 'call_0f37', 'type': 'tool_call'}], usage_metadata={'input_tokens': 1269, 'output_tokens': 87, 'total_tokens': 1356})"
      ]
     },
     "execution_count": 79,
     "metadata": {},
     "output_type": "execute_result"
    }
   ],
   "source": [
    "messages['messages'][1]#.pretty_print()"
   ]
  },
  {
   "cell_type": "code",
   "execution_count": 80,
   "id": "54fc7d7c",
   "metadata": {},
   "outputs": [
    {
     "data": {
      "text/plain": [
       "(True,\n",
       " [{'name': 'multiplication',\n",
       "   'args': {'a': 3, 'b': 4},\n",
       "   'id': 'call_0f37',\n",
       "   'type': 'tool_call'}])"
      ]
     },
     "execution_count": 80,
     "metadata": {},
     "output_type": "execute_result"
    }
   ],
   "source": [
    "hasattr(messages['messages'][1], \"tool_calls\"), messages['messages'][1].tool_calls"
   ]
  },
  {
   "cell_type": "code",
   "execution_count": 81,
   "id": "4f4be4d0",
   "metadata": {},
   "outputs": [
    {
     "data": {
      "text/plain": [
       "(True, [])"
      ]
     },
     "execution_count": 81,
     "metadata": {},
     "output_type": "execute_result"
    }
   ],
   "source": [
    "hasattr(messages['messages'][-1], \"tool_calls\"), messages['messages'][-1].tool_calls"
   ]
  },
  {
   "cell_type": "code",
   "execution_count": null,
   "id": "5149cba5",
   "metadata": {},
   "outputs": [],
   "source": []
  },
  {
   "cell_type": "code",
   "execution_count": null,
   "id": "34d5f8e0",
   "metadata": {},
   "outputs": [],
   "source": []
  },
  {
   "cell_type": "code",
   "execution_count": null,
   "id": "4a70fd94",
   "metadata": {},
   "outputs": [],
   "source": []
  }
 ],
 "metadata": {
  "kernelspec": {
   "display_name": "genai",
   "language": "python",
   "name": "python3"
  },
  "language_info": {
   "codemirror_mode": {
    "name": "ipython",
    "version": 3
   },
   "file_extension": ".py",
   "mimetype": "text/x-python",
   "name": "python",
   "nbconvert_exporter": "python",
   "pygments_lexer": "ipython3",
   "version": "3.10.11"
  }
 },
 "nbformat": 4,
 "nbformat_minor": 5
}
